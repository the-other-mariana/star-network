{
 "cells": [
  {
   "cell_type": "markdown",
   "id": "6d9445bd",
   "metadata": {},
   "source": [
    "## Multilayer perceptron"
   ]
  },
  {
   "cell_type": "code",
   "execution_count": 1,
   "id": "89f979d1",
   "metadata": {},
   "outputs": [],
   "source": [
    "import numpy as np\n",
    "import pandas as pd\n",
    "import matplotlib.pyplot as plt\n",
    "from keras.models import Sequential\n",
    "from keras.layers import Dense # dense is all neurons connected to all next layer neurons\n",
    "from keras.layers import Dropout\n",
    "from keras.wrappers.scikit_learn import KerasClassifier\n",
    "from keras.constraints import maxnorm\n",
    "from sklearn.model_selection import cross_val_score\n",
    "from sklearn.preprocessing import LabelEncoder\n",
    "from sklearn.model_selection import StratifiedKFold\n",
    "from sklearn.preprocessing import StandardScaler\n",
    "from sklearn.pipeline import Pipeline"
   ]
  },
  {
   "cell_type": "code",
   "execution_count": 2,
   "id": "304d1202",
   "metadata": {},
   "outputs": [
    {
     "data": {
      "text/plain": [
       "(33543, 35)"
      ]
     },
     "execution_count": 2,
     "metadata": {},
     "output_type": "execute_result"
    }
   ],
   "source": [
    "db = pd.read_csv('db.csv', low_memory=False)\n",
    "db.shape"
   ]
  },
  {
   "cell_type": "code",
   "execution_count": 3,
   "id": "3fa94996",
   "metadata": {},
   "outputs": [
    {
     "data": {
      "text/plain": [
       "Index(['Unnamed: 0', 'FCS', 'CORR', 'BUFF_OVERFLOW', 'GENERIC', 'PCKT_NUM',\n",
       "       'TIME(MS)', 'LENGTH', 'PAYLOAD', 'RSSI', 'CRC_OK', 'FRAME_TYPE',\n",
       "       'SECURITY_ENABLED', 'FRAME_PENDING', 'ACKNOWLEDGE_REQ',\n",
       "       'PAN_COMPRESSION', 'DEST_PAN', 'DEST_ADD', 'SRC_PAN', 'SRC_ADD', 'DATA',\n",
       "       'CMD', 'ACK', '1_OCT_HEADER', 'CSL_WAKEUP', 'CSL_SECURE_ACK',\n",
       "       'RFID_BLINK', 'BCN', 'TEST_TYPE', 'CONTROL', 'DOUBLENETWORK', 'ELECTRO',\n",
       "       'NORMAL', 'VIENTO', 'WIRELESS'],\n",
       "      dtype='object')"
      ]
     },
     "execution_count": 3,
     "metadata": {},
     "output_type": "execute_result"
    }
   ],
   "source": [
    "db.columns"
   ]
  },
  {
   "cell_type": "code",
   "execution_count": 4,
   "id": "4f4e025f",
   "metadata": {},
   "outputs": [
    {
     "data": {
      "text/html": [
       "<div>\n",
       "<style scoped>\n",
       "    .dataframe tbody tr th:only-of-type {\n",
       "        vertical-align: middle;\n",
       "    }\n",
       "\n",
       "    .dataframe tbody tr th {\n",
       "        vertical-align: top;\n",
       "    }\n",
       "\n",
       "    .dataframe thead th {\n",
       "        text-align: right;\n",
       "    }\n",
       "</style>\n",
       "<table border=\"1\" class=\"dataframe\">\n",
       "  <thead>\n",
       "    <tr style=\"text-align: right;\">\n",
       "      <th></th>\n",
       "      <th>FCS</th>\n",
       "      <th>CORR</th>\n",
       "      <th>BUFF_OVERFLOW</th>\n",
       "      <th>GENERIC</th>\n",
       "      <th>PCKT_NUM</th>\n",
       "      <th>TIME(MS)</th>\n",
       "      <th>LENGTH</th>\n",
       "      <th>PAYLOAD</th>\n",
       "      <th>RSSI</th>\n",
       "      <th>CRC_OK</th>\n",
       "      <th>...</th>\n",
       "      <th>CSL_SECURE_ACK</th>\n",
       "      <th>RFID_BLINK</th>\n",
       "      <th>BCN</th>\n",
       "      <th>TEST_TYPE</th>\n",
       "      <th>CONTROL</th>\n",
       "      <th>DOUBLENETWORK</th>\n",
       "      <th>ELECTRO</th>\n",
       "      <th>NORMAL</th>\n",
       "      <th>VIENTO</th>\n",
       "      <th>WIRELESS</th>\n",
       "    </tr>\n",
       "  </thead>\n",
       "  <tbody>\n",
       "    <tr>\n",
       "      <th>0</th>\n",
       "      <td>1</td>\n",
       "      <td>1</td>\n",
       "      <td>0</td>\n",
       "      <td>0</td>\n",
       "      <td>1</td>\n",
       "      <td>0.000000</td>\n",
       "      <td>11</td>\n",
       "      <td>NaN</td>\n",
       "      <td>-98.0</td>\n",
       "      <td>1.0</td>\n",
       "      <td>...</td>\n",
       "      <td>0</td>\n",
       "      <td>0</td>\n",
       "      <td>0</td>\n",
       "      <td>control</td>\n",
       "      <td>1</td>\n",
       "      <td>0</td>\n",
       "      <td>0</td>\n",
       "      <td>0</td>\n",
       "      <td>0</td>\n",
       "      <td>0</td>\n",
       "    </tr>\n",
       "    <tr>\n",
       "      <th>1</th>\n",
       "      <td>1</td>\n",
       "      <td>1</td>\n",
       "      <td>0</td>\n",
       "      <td>0</td>\n",
       "      <td>2</td>\n",
       "      <td>16751.182375</td>\n",
       "      <td>11</td>\n",
       "      <td>NaN</td>\n",
       "      <td>-99.0</td>\n",
       "      <td>1.0</td>\n",
       "      <td>...</td>\n",
       "      <td>0</td>\n",
       "      <td>0</td>\n",
       "      <td>0</td>\n",
       "      <td>control</td>\n",
       "      <td>1</td>\n",
       "      <td>0</td>\n",
       "      <td>0</td>\n",
       "      <td>0</td>\n",
       "      <td>0</td>\n",
       "      <td>0</td>\n",
       "    </tr>\n",
       "    <tr>\n",
       "      <th>2</th>\n",
       "      <td>1</td>\n",
       "      <td>1</td>\n",
       "      <td>0</td>\n",
       "      <td>0</td>\n",
       "      <td>3</td>\n",
       "      <td>1.070000</td>\n",
       "      <td>14</td>\n",
       "      <td>NaN</td>\n",
       "      <td>-90.0</td>\n",
       "      <td>1.0</td>\n",
       "      <td>...</td>\n",
       "      <td>0</td>\n",
       "      <td>0</td>\n",
       "      <td>1</td>\n",
       "      <td>control</td>\n",
       "      <td>1</td>\n",
       "      <td>0</td>\n",
       "      <td>0</td>\n",
       "      <td>0</td>\n",
       "      <td>0</td>\n",
       "      <td>0</td>\n",
       "    </tr>\n",
       "    <tr>\n",
       "      <th>3</th>\n",
       "      <td>1</td>\n",
       "      <td>1</td>\n",
       "      <td>0</td>\n",
       "      <td>0</td>\n",
       "      <td>4</td>\n",
       "      <td>652.697750</td>\n",
       "      <td>11</td>\n",
       "      <td>NaN</td>\n",
       "      <td>-91.0</td>\n",
       "      <td>1.0</td>\n",
       "      <td>...</td>\n",
       "      <td>0</td>\n",
       "      <td>0</td>\n",
       "      <td>0</td>\n",
       "      <td>control</td>\n",
       "      <td>1</td>\n",
       "      <td>0</td>\n",
       "      <td>0</td>\n",
       "      <td>0</td>\n",
       "      <td>0</td>\n",
       "      <td>0</td>\n",
       "    </tr>\n",
       "    <tr>\n",
       "      <th>4</th>\n",
       "      <td>1</td>\n",
       "      <td>1</td>\n",
       "      <td>0</td>\n",
       "      <td>0</td>\n",
       "      <td>5</td>\n",
       "      <td>2.006625</td>\n",
       "      <td>14</td>\n",
       "      <td>NaN</td>\n",
       "      <td>-90.0</td>\n",
       "      <td>1.0</td>\n",
       "      <td>...</td>\n",
       "      <td>0</td>\n",
       "      <td>0</td>\n",
       "      <td>1</td>\n",
       "      <td>control</td>\n",
       "      <td>1</td>\n",
       "      <td>0</td>\n",
       "      <td>0</td>\n",
       "      <td>0</td>\n",
       "      <td>0</td>\n",
       "      <td>0</td>\n",
       "    </tr>\n",
       "  </tbody>\n",
       "</table>\n",
       "<p>5 rows × 34 columns</p>\n",
       "</div>"
      ],
      "text/plain": [
       "   FCS  CORR  BUFF_OVERFLOW  GENERIC  PCKT_NUM      TIME(MS)  LENGTH  PAYLOAD  \\\n",
       "0    1     1              0        0         1      0.000000      11      NaN   \n",
       "1    1     1              0        0         2  16751.182375      11      NaN   \n",
       "2    1     1              0        0         3      1.070000      14      NaN   \n",
       "3    1     1              0        0         4    652.697750      11      NaN   \n",
       "4    1     1              0        0         5      2.006625      14      NaN   \n",
       "\n",
       "   RSSI  CRC_OK  ... CSL_SECURE_ACK  RFID_BLINK  BCN  TEST_TYPE  CONTROL  \\\n",
       "0 -98.0     1.0  ...              0           0    0    control        1   \n",
       "1 -99.0     1.0  ...              0           0    0    control        1   \n",
       "2 -90.0     1.0  ...              0           0    1    control        1   \n",
       "3 -91.0     1.0  ...              0           0    0    control        1   \n",
       "4 -90.0     1.0  ...              0           0    1    control        1   \n",
       "\n",
       "  DOUBLENETWORK ELECTRO NORMAL VIENTO  WIRELESS  \n",
       "0             0       0      0      0         0  \n",
       "1             0       0      0      0         0  \n",
       "2             0       0      0      0         0  \n",
       "3             0       0      0      0         0  \n",
       "4             0       0      0      0         0  \n",
       "\n",
       "[5 rows x 34 columns]"
      ]
     },
     "execution_count": 4,
     "metadata": {},
     "output_type": "execute_result"
    }
   ],
   "source": [
    "db = db.drop(['Unnamed: 0'], axis = 1)\n",
    "db.head()"
   ]
  },
  {
   "cell_type": "code",
   "execution_count": 5,
   "id": "844e2d75",
   "metadata": {},
   "outputs": [
    {
     "data": {
      "text/plain": [
       "0        1.0\n",
       "1        1.0\n",
       "2        1.0\n",
       "3        1.0\n",
       "4        1.0\n",
       "        ... \n",
       "33538    1.0\n",
       "33539    0.0\n",
       "33540    0.0\n",
       "33541    1.0\n",
       "33542    1.0\n",
       "Name: CRC_OK, Length: 33543, dtype: float64"
      ]
     },
     "execution_count": 5,
     "metadata": {},
     "output_type": "execute_result"
    }
   ],
   "source": [
    "ignore = ['PAYLOAD', 'CRC_OK', 'FRAME_TYPE', 'DEST_PAN', 'DEST_ADD', 'SRC_PAN', 'SRC_ADD', 'TEST_TYPE', 'BUFF_OVERFLOW',\n",
    "          'FCS', 'GENERIC']\n",
    "y = db['CRC_OK']\n",
    "y"
   ]
  },
  {
   "cell_type": "code",
   "execution_count": 6,
   "id": "7c8bde1b",
   "metadata": {},
   "outputs": [
    {
     "data": {
      "text/html": [
       "<div>\n",
       "<style scoped>\n",
       "    .dataframe tbody tr th:only-of-type {\n",
       "        vertical-align: middle;\n",
       "    }\n",
       "\n",
       "    .dataframe tbody tr th {\n",
       "        vertical-align: top;\n",
       "    }\n",
       "\n",
       "    .dataframe thead th {\n",
       "        text-align: right;\n",
       "    }\n",
       "</style>\n",
       "<table border=\"1\" class=\"dataframe\">\n",
       "  <thead>\n",
       "    <tr style=\"text-align: right;\">\n",
       "      <th></th>\n",
       "      <th>CORR</th>\n",
       "      <th>PCKT_NUM</th>\n",
       "      <th>TIME(MS)</th>\n",
       "      <th>LENGTH</th>\n",
       "      <th>RSSI</th>\n",
       "      <th>SECURITY_ENABLED</th>\n",
       "      <th>FRAME_PENDING</th>\n",
       "      <th>ACKNOWLEDGE_REQ</th>\n",
       "      <th>PAN_COMPRESSION</th>\n",
       "      <th>DATA</th>\n",
       "      <th>...</th>\n",
       "      <th>CSL_SECURE_ACK</th>\n",
       "      <th>RFID_BLINK</th>\n",
       "      <th>BCN</th>\n",
       "      <th>CONTROL</th>\n",
       "      <th>DOUBLENETWORK</th>\n",
       "      <th>ELECTRO</th>\n",
       "      <th>NORMAL</th>\n",
       "      <th>VIENTO</th>\n",
       "      <th>WIRELESS</th>\n",
       "      <th>OK</th>\n",
       "    </tr>\n",
       "  </thead>\n",
       "  <tbody>\n",
       "    <tr>\n",
       "      <th>0</th>\n",
       "      <td>1</td>\n",
       "      <td>1</td>\n",
       "      <td>0.000000</td>\n",
       "      <td>11</td>\n",
       "      <td>-98.0</td>\n",
       "      <td>0.0</td>\n",
       "      <td>0.0</td>\n",
       "      <td>0.0</td>\n",
       "      <td>0.0</td>\n",
       "      <td>0</td>\n",
       "      <td>...</td>\n",
       "      <td>0</td>\n",
       "      <td>0</td>\n",
       "      <td>0</td>\n",
       "      <td>1</td>\n",
       "      <td>0</td>\n",
       "      <td>0</td>\n",
       "      <td>0</td>\n",
       "      <td>0</td>\n",
       "      <td>0</td>\n",
       "      <td>1.0</td>\n",
       "    </tr>\n",
       "    <tr>\n",
       "      <th>1</th>\n",
       "      <td>1</td>\n",
       "      <td>2</td>\n",
       "      <td>16751.182375</td>\n",
       "      <td>11</td>\n",
       "      <td>-99.0</td>\n",
       "      <td>0.0</td>\n",
       "      <td>0.0</td>\n",
       "      <td>0.0</td>\n",
       "      <td>0.0</td>\n",
       "      <td>0</td>\n",
       "      <td>...</td>\n",
       "      <td>0</td>\n",
       "      <td>0</td>\n",
       "      <td>0</td>\n",
       "      <td>1</td>\n",
       "      <td>0</td>\n",
       "      <td>0</td>\n",
       "      <td>0</td>\n",
       "      <td>0</td>\n",
       "      <td>0</td>\n",
       "      <td>1.0</td>\n",
       "    </tr>\n",
       "    <tr>\n",
       "      <th>2</th>\n",
       "      <td>1</td>\n",
       "      <td>3</td>\n",
       "      <td>1.070000</td>\n",
       "      <td>14</td>\n",
       "      <td>-90.0</td>\n",
       "      <td>0.0</td>\n",
       "      <td>0.0</td>\n",
       "      <td>0.0</td>\n",
       "      <td>0.0</td>\n",
       "      <td>0</td>\n",
       "      <td>...</td>\n",
       "      <td>0</td>\n",
       "      <td>0</td>\n",
       "      <td>1</td>\n",
       "      <td>1</td>\n",
       "      <td>0</td>\n",
       "      <td>0</td>\n",
       "      <td>0</td>\n",
       "      <td>0</td>\n",
       "      <td>0</td>\n",
       "      <td>1.0</td>\n",
       "    </tr>\n",
       "    <tr>\n",
       "      <th>3</th>\n",
       "      <td>1</td>\n",
       "      <td>4</td>\n",
       "      <td>652.697750</td>\n",
       "      <td>11</td>\n",
       "      <td>-91.0</td>\n",
       "      <td>0.0</td>\n",
       "      <td>0.0</td>\n",
       "      <td>0.0</td>\n",
       "      <td>0.0</td>\n",
       "      <td>0</td>\n",
       "      <td>...</td>\n",
       "      <td>0</td>\n",
       "      <td>0</td>\n",
       "      <td>0</td>\n",
       "      <td>1</td>\n",
       "      <td>0</td>\n",
       "      <td>0</td>\n",
       "      <td>0</td>\n",
       "      <td>0</td>\n",
       "      <td>0</td>\n",
       "      <td>1.0</td>\n",
       "    </tr>\n",
       "    <tr>\n",
       "      <th>4</th>\n",
       "      <td>1</td>\n",
       "      <td>5</td>\n",
       "      <td>2.006625</td>\n",
       "      <td>14</td>\n",
       "      <td>-90.0</td>\n",
       "      <td>0.0</td>\n",
       "      <td>0.0</td>\n",
       "      <td>0.0</td>\n",
       "      <td>0.0</td>\n",
       "      <td>0</td>\n",
       "      <td>...</td>\n",
       "      <td>0</td>\n",
       "      <td>0</td>\n",
       "      <td>1</td>\n",
       "      <td>1</td>\n",
       "      <td>0</td>\n",
       "      <td>0</td>\n",
       "      <td>0</td>\n",
       "      <td>0</td>\n",
       "      <td>0</td>\n",
       "      <td>1.0</td>\n",
       "    </tr>\n",
       "  </tbody>\n",
       "</table>\n",
       "<p>5 rows × 24 columns</p>\n",
       "</div>"
      ],
      "text/plain": [
       "   CORR  PCKT_NUM      TIME(MS)  LENGTH  RSSI  SECURITY_ENABLED  \\\n",
       "0     1         1      0.000000      11 -98.0               0.0   \n",
       "1     1         2  16751.182375      11 -99.0               0.0   \n",
       "2     1         3      1.070000      14 -90.0               0.0   \n",
       "3     1         4    652.697750      11 -91.0               0.0   \n",
       "4     1         5      2.006625      14 -90.0               0.0   \n",
       "\n",
       "   FRAME_PENDING  ACKNOWLEDGE_REQ  PAN_COMPRESSION  DATA  ...  CSL_SECURE_ACK  \\\n",
       "0            0.0              0.0              0.0     0  ...               0   \n",
       "1            0.0              0.0              0.0     0  ...               0   \n",
       "2            0.0              0.0              0.0     0  ...               0   \n",
       "3            0.0              0.0              0.0     0  ...               0   \n",
       "4            0.0              0.0              0.0     0  ...               0   \n",
       "\n",
       "   RFID_BLINK  BCN  CONTROL  DOUBLENETWORK  ELECTRO  NORMAL  VIENTO  WIRELESS  \\\n",
       "0           0    0        1              0        0       0       0         0   \n",
       "1           0    0        1              0        0       0       0         0   \n",
       "2           0    1        1              0        0       0       0         0   \n",
       "3           0    0        1              0        0       0       0         0   \n",
       "4           0    1        1              0        0       0       0         0   \n",
       "\n",
       "    OK  \n",
       "0  1.0  \n",
       "1  1.0  \n",
       "2  1.0  \n",
       "3  1.0  \n",
       "4  1.0  \n",
       "\n",
       "[5 rows x 24 columns]"
      ]
     },
     "execution_count": 6,
     "metadata": {},
     "output_type": "execute_result"
    }
   ],
   "source": [
    "numdb = db.drop(ignore, axis = 1)\n",
    "d = pd.DataFrame({'OK':y.values})\n",
    "numdb = pd.concat([numdb, d], axis=1)\n",
    "numdb.head()"
   ]
  },
  {
   "cell_type": "code",
   "execution_count": 7,
   "id": "c62174f4",
   "metadata": {},
   "outputs": [],
   "source": [
    "mean_rssi = int(numdb['RSSI'].mean())\n",
    "numdb['RSSI'] = numdb['RSSI'].fillna(mean_rssi)"
   ]
  },
  {
   "cell_type": "code",
   "execution_count": 8,
   "id": "9542c94c",
   "metadata": {},
   "outputs": [],
   "source": [
    "numdb['SECURITY_ENABLED'] = numdb['SECURITY_ENABLED'].fillna(0)\n",
    "numdb['FRAME_PENDING'] = numdb['FRAME_PENDING'].fillna(0)\n",
    "numdb['ACKNOWLEDGE_REQ'] = numdb['ACKNOWLEDGE_REQ'].fillna(0)\n",
    "numdb['PAN_COMPRESSION'] = numdb['PAN_COMPRESSION'].fillna(0)\n",
    "numdb['OK'] = numdb['OK'].fillna(0)"
   ]
  },
  {
   "cell_type": "code",
   "execution_count": 9,
   "id": "da5ec7ab",
   "metadata": {},
   "outputs": [
    {
     "data": {
      "text/html": [
       "<div>\n",
       "<style scoped>\n",
       "    .dataframe tbody tr th:only-of-type {\n",
       "        vertical-align: middle;\n",
       "    }\n",
       "\n",
       "    .dataframe tbody tr th {\n",
       "        vertical-align: top;\n",
       "    }\n",
       "\n",
       "    .dataframe thead th {\n",
       "        text-align: right;\n",
       "    }\n",
       "</style>\n",
       "<table border=\"1\" class=\"dataframe\">\n",
       "  <thead>\n",
       "    <tr style=\"text-align: right;\">\n",
       "      <th></th>\n",
       "      <th>CORR</th>\n",
       "      <th>PCKT_NUM</th>\n",
       "      <th>TIME(MS)</th>\n",
       "      <th>LENGTH</th>\n",
       "      <th>RSSI</th>\n",
       "      <th>SECURITY_ENABLED</th>\n",
       "      <th>FRAME_PENDING</th>\n",
       "      <th>ACKNOWLEDGE_REQ</th>\n",
       "      <th>PAN_COMPRESSION</th>\n",
       "      <th>DATA</th>\n",
       "      <th>...</th>\n",
       "      <th>CSL_SECURE_ACK</th>\n",
       "      <th>RFID_BLINK</th>\n",
       "      <th>BCN</th>\n",
       "      <th>CONTROL</th>\n",
       "      <th>DOUBLENETWORK</th>\n",
       "      <th>ELECTRO</th>\n",
       "      <th>NORMAL</th>\n",
       "      <th>VIENTO</th>\n",
       "      <th>WIRELESS</th>\n",
       "      <th>OK</th>\n",
       "    </tr>\n",
       "  </thead>\n",
       "  <tbody>\n",
       "  </tbody>\n",
       "</table>\n",
       "<p>0 rows × 24 columns</p>\n",
       "</div>"
      ],
      "text/plain": [
       "Empty DataFrame\n",
       "Columns: [CORR, PCKT_NUM, TIME(MS), LENGTH, RSSI, SECURITY_ENABLED, FRAME_PENDING, ACKNOWLEDGE_REQ, PAN_COMPRESSION, DATA, CMD, ACK, 1_OCT_HEADER, CSL_WAKEUP, CSL_SECURE_ACK, RFID_BLINK, BCN, CONTROL, DOUBLENETWORK, ELECTRO, NORMAL, VIENTO, WIRELESS, OK]\n",
       "Index: []\n",
       "\n",
       "[0 rows x 24 columns]"
      ]
     },
     "execution_count": 9,
     "metadata": {},
     "output_type": "execute_result"
    }
   ],
   "source": [
    "numdb[numdb.isna().any(axis=1)]"
   ]
  },
  {
   "cell_type": "code",
   "execution_count": 10,
   "id": "7c350a28",
   "metadata": {},
   "outputs": [
    {
     "data": {
      "text/plain": [
       "0        1.0\n",
       "1        1.0\n",
       "2        1.0\n",
       "3        1.0\n",
       "4        1.0\n",
       "        ... \n",
       "33538    1.0\n",
       "33539    0.0\n",
       "33540    0.0\n",
       "33541    1.0\n",
       "33542    1.0\n",
       "Name: OK, Length: 33543, dtype: float64"
      ]
     },
     "execution_count": 10,
     "metadata": {},
     "output_type": "execute_result"
    }
   ],
   "source": [
    "xdb = numdb.drop(['OK'], axis = 1)\n",
    "y = numdb['OK']\n",
    "y"
   ]
  },
  {
   "cell_type": "code",
   "execution_count": 11,
   "id": "022f576d",
   "metadata": {},
   "outputs": [
    {
     "data": {
      "text/plain": [
       "23"
      ]
     },
     "execution_count": 11,
     "metadata": {},
     "output_type": "execute_result"
    }
   ],
   "source": [
    "X = xdb.to_numpy()\n",
    "len(X[0]) # n features"
   ]
  },
  {
   "cell_type": "code",
   "execution_count": 12,
   "id": "35fba290",
   "metadata": {},
   "outputs": [
    {
     "name": "stdout",
     "output_type": "stream",
     "text": [
      "33543 23\n"
     ]
    }
   ],
   "source": [
    "n_samples, n_features = X.shape\n",
    "print(n_samples, n_features)"
   ]
  },
  {
   "cell_type": "code",
   "execution_count": 13,
   "id": "fac023c3",
   "metadata": {},
   "outputs": [],
   "source": [
    "X = X.astype(float)"
   ]
  },
  {
   "cell_type": "code",
   "execution_count": 14,
   "id": "90b45df7",
   "metadata": {},
   "outputs": [
    {
     "data": {
      "text/plain": [
       "array([1., 1., 1., ..., 0., 1., 1.])"
      ]
     },
     "execution_count": 14,
     "metadata": {},
     "output_type": "execute_result"
    }
   ],
   "source": [
    "y = y.values\n",
    "y"
   ]
  },
  {
   "cell_type": "code",
   "execution_count": 15,
   "id": "41e02337",
   "metadata": {},
   "outputs": [],
   "source": [
    "def create_model():\n",
    "    model = Sequential()\n",
    "    model.add(Dense(8, input_dim=n_features))\n",
    "    model.add(Dropout(0.2))\n",
    "    model.add(Dense(1, activation='sigmoid'))\n",
    "    model.compile(loss='mse', metrics=['mse'])\n",
    "    model.summary()\n",
    "    return model"
   ]
  },
  {
   "cell_type": "code",
   "execution_count": 16,
   "id": "80b78a92",
   "metadata": {},
   "outputs": [
    {
     "name": "stdout",
     "output_type": "stream",
     "text": [
      "Model: \"sequential\"\n",
      "_________________________________________________________________\n",
      " Layer (type)                Output Shape              Param #   \n",
      "=================================================================\n",
      " dense (Dense)               (None, 8)                 192       \n",
      "                                                                 \n",
      " dropout (Dropout)           (None, 8)                 0         \n",
      "                                                                 \n",
      " dense_1 (Dense)             (None, 1)                 9         \n",
      "                                                                 \n",
      "=================================================================\n",
      "Total params: 201\n",
      "Trainable params: 201\n",
      "Non-trainable params: 0\n",
      "_________________________________________________________________\n",
      "Epoch 1/20\n",
      "2248/2248 [==============================] - 4s 2ms/step - loss: 0.0129 - mse: 0.0129 - val_loss: 0.0360 - val_mse: 0.0360\n",
      "Epoch 2/20\n",
      "2248/2248 [==============================] - 4s 2ms/step - loss: 0.0119 - mse: 0.0119 - val_loss: 0.0360 - val_mse: 0.0360\n",
      "Epoch 3/20\n",
      "2248/2248 [==============================] - 3s 2ms/step - loss: 0.0118 - mse: 0.0118 - val_loss: 0.0360 - val_mse: 0.0360\n",
      "Epoch 4/20\n",
      "2248/2248 [==============================] - 4s 2ms/step - loss: 0.0117 - mse: 0.0117 - val_loss: 0.0360 - val_mse: 0.0360\n",
      "Epoch 5/20\n",
      "2248/2248 [==============================] - 3s 1ms/step - loss: 0.0117 - mse: 0.0117 - val_loss: 0.0360 - val_mse: 0.0360\n",
      "Epoch 6/20\n",
      "2248/2248 [==============================] - 4s 2ms/step - loss: 0.0115 - mse: 0.0115 - val_loss: 0.0360 - val_mse: 0.0360\n",
      "Epoch 7/20\n",
      "2248/2248 [==============================] - 3s 1ms/step - loss: 0.0116 - mse: 0.0116 - val_loss: 0.0360 - val_mse: 0.0360\n",
      "Epoch 8/20\n",
      "2248/2248 [==============================] - 4s 2ms/step - loss: 0.0117 - mse: 0.0117 - val_loss: 0.0360 - val_mse: 0.0360\n",
      "Epoch 9/20\n",
      "2248/2248 [==============================] - 4s 2ms/step - loss: 0.0115 - mse: 0.0115 - val_loss: 0.0360 - val_mse: 0.0360\n",
      "Epoch 10/20\n",
      "2248/2248 [==============================] - 3s 1ms/step - loss: 0.0116 - mse: 0.0116 - val_loss: 0.0360 - val_mse: 0.0360\n",
      "Epoch 11/20\n",
      "2248/2248 [==============================] - 3s 1ms/step - loss: 0.0116 - mse: 0.0116 - val_loss: 0.0360 - val_mse: 0.0360\n",
      "Epoch 12/20\n",
      "2248/2248 [==============================] - 4s 2ms/step - loss: 0.0115 - mse: 0.0115 - val_loss: 0.0360 - val_mse: 0.0360\n",
      "Epoch 13/20\n",
      "2248/2248 [==============================] - 3s 1ms/step - loss: 0.0116 - mse: 0.0116 - val_loss: 0.0360 - val_mse: 0.0360\n",
      "Epoch 14/20\n",
      "2248/2248 [==============================] - 3s 2ms/step - loss: 0.0116 - mse: 0.0116 - val_loss: 0.0360 - val_mse: 0.0360\n",
      "Epoch 15/20\n",
      "2248/2248 [==============================] - 4s 2ms/step - loss: 0.0115 - mse: 0.0115 - val_loss: 0.0360 - val_mse: 0.0360\n",
      "Epoch 16/20\n",
      "2248/2248 [==============================] - 3s 1ms/step - loss: 0.0116 - mse: 0.0116 - val_loss: 0.0360 - val_mse: 0.0360\n",
      "Epoch 17/20\n",
      "2248/2248 [==============================] - 3s 1ms/step - loss: 0.0115 - mse: 0.0115 - val_loss: 0.0360 - val_mse: 0.0360\n",
      "Epoch 18/20\n",
      "2248/2248 [==============================] - 3s 1ms/step - loss: 0.0116 - mse: 0.0116 - val_loss: 0.0360 - val_mse: 0.0360\n",
      "Epoch 19/20\n",
      "2248/2248 [==============================] - 3s 1ms/step - loss: 0.0116 - mse: 0.0116 - val_loss: 0.0360 - val_mse: 0.0360\n",
      "Epoch 20/20\n",
      "2248/2248 [==============================] - 3s 1ms/step - loss: 0.0116 - mse: 0.0116 - val_loss: 0.0360 - val_mse: 0.0360\n"
     ]
    },
    {
     "data": {
      "text/plain": [
       "<keras.callbacks.History at 0x11f9e94bc10>"
      ]
     },
     "execution_count": 16,
     "metadata": {},
     "output_type": "execute_result"
    }
   ],
   "source": [
    "model = create_model()\n",
    "model.fit(X, y, validation_split=0.33, epochs=20, batch_size=10)"
   ]
  },
  {
   "cell_type": "markdown",
   "id": "55d7efce",
   "metadata": {},
   "source": [
    "- test accuracy: 98.85%\n",
    "- validation accuracy: 96.4%"
   ]
  },
  {
   "cell_type": "code",
   "execution_count": 21,
   "id": "33a2735c",
   "metadata": {},
   "outputs": [
    {
     "data": {
      "text/plain": [
       "(658, 24)"
      ]
     },
     "execution_count": 21,
     "metadata": {},
     "output_type": "execute_result"
    }
   ],
   "source": [
    "err = numdb[numdb['OK'] != 1]\n",
    "err.shape"
   ]
  },
  {
   "cell_type": "code",
   "execution_count": 64,
   "id": "6da5c92f",
   "metadata": {},
   "outputs": [
    {
     "data": {
      "text/plain": [
       "array([[1.00000000e+00, 5.15800000e+03, 3.58359375e+00, ...,\n",
       "        0.00000000e+00, 0.00000000e+00, 0.00000000e+00],\n",
       "       [1.00000000e+00, 4.16500000e+03, 7.67750000e-01, ...,\n",
       "        0.00000000e+00, 0.00000000e+00, 0.00000000e+00],\n",
       "       [1.00000000e+00, 1.31600000e+03, 1.85187966e+03, ...,\n",
       "        0.00000000e+00, 0.00000000e+00, 0.00000000e+00],\n",
       "       ...,\n",
       "       [1.00000000e+00, 4.03500000e+03, 6.90137625e+02, ...,\n",
       "        0.00000000e+00, 0.00000000e+00, 0.00000000e+00],\n",
       "       [1.00000000e+00, 1.80500000e+03, 5.99198375e+02, ...,\n",
       "        0.00000000e+00, 0.00000000e+00, 0.00000000e+00],\n",
       "       [0.00000000e+00, 0.00000000e+00, 0.00000000e+00, ...,\n",
       "        0.00000000e+00, 0.00000000e+00, 0.00000000e+00]])"
      ]
     },
     "execution_count": 64,
     "metadata": {},
     "output_type": "execute_result"
    }
   ],
   "source": [
    "import random\n",
    "num_err = err.shape[0]\n",
    "indices = list(err.index)\n",
    "ok = numdb[numdb['OK'] != 0]\n",
    "num_ok = ok.shape[0]\n",
    "rows = 0\n",
    "visited = []\n",
    "x_bal_ok = np.zeros((err.shape[0], err.shape[1]-1), dtype=float)\n",
    "while(rows < (num_err-1)):\n",
    "    r = random.randint(0, numdb.shape[0]-1)\n",
    "    if r not in visited and r not in indices and r < (len(ok)-1):\n",
    "        # without ok\n",
    "        row = ok.values[r, :-1]\n",
    "        x_bal_ok[rows, :] = row\n",
    "        visited.append(r)\n",
    "        rows += 1\n",
    "x_bal_ok"
   ]
  },
  {
   "cell_type": "code",
   "execution_count": 65,
   "id": "f133a376",
   "metadata": {},
   "outputs": [
    {
     "data": {
      "text/plain": [
       "(658, 23)"
      ]
     },
     "execution_count": 65,
     "metadata": {},
     "output_type": "execute_result"
    }
   ],
   "source": [
    "x_bal_ok.shape"
   ]
  },
  {
   "cell_type": "code",
   "execution_count": 81,
   "id": "0d3d88d9",
   "metadata": {},
   "outputs": [],
   "source": [
    "from sklearn.model_selection import train_test_split\n",
    "X_train, X_test, y_train, y_test = train_test_split(x_bal, y_bal, test_size=0.33)"
   ]
  },
  {
   "cell_type": "code",
   "execution_count": 82,
   "id": "c1954ef5",
   "metadata": {},
   "outputs": [
    {
     "name": "stdout",
     "output_type": "stream",
     "text": [
      "Model: \"sequential_5\"\n",
      "_________________________________________________________________\n",
      " Layer (type)                Output Shape              Param #   \n",
      "=================================================================\n",
      " dense_10 (Dense)            (None, 8)                 192       \n",
      "                                                                 \n",
      " dropout_5 (Dropout)         (None, 8)                 0         \n",
      "                                                                 \n",
      " dense_11 (Dense)            (None, 1)                 9         \n",
      "                                                                 \n",
      "=================================================================\n",
      "Total params: 201\n",
      "Trainable params: 201\n",
      "Non-trainable params: 0\n",
      "_________________________________________________________________\n",
      "Epoch 1/100\n",
      "89/89 [==============================] - 0s 1ms/step - loss: 0.4438 - mse: 0.4438\n",
      "Epoch 2/100\n",
      "89/89 [==============================] - 0s 1ms/step - loss: 0.4187 - mse: 0.4187\n",
      "Epoch 3/100\n",
      "89/89 [==============================] - 0s 1ms/step - loss: 0.4520 - mse: 0.4520\n",
      "Epoch 4/100\n",
      "89/89 [==============================] - 0s 1ms/step - loss: 0.4536 - mse: 0.4536\n",
      "Epoch 5/100\n",
      "89/89 [==============================] - 0s 1ms/step - loss: 0.4439 - mse: 0.4439\n",
      "Epoch 6/100\n",
      "89/89 [==============================] - 0s 1ms/step - loss: 0.4541 - mse: 0.4541\n",
      "Epoch 7/100\n",
      "89/89 [==============================] - 0s 1ms/step - loss: 0.4353 - mse: 0.4353\n",
      "Epoch 8/100\n",
      "89/89 [==============================] - 0s 1ms/step - loss: 0.4328 - mse: 0.4328\n",
      "Epoch 9/100\n",
      "89/89 [==============================] - 0s 1ms/step - loss: 0.4355 - mse: 0.4355\n",
      "Epoch 10/100\n",
      "89/89 [==============================] - 0s 1ms/step - loss: 0.4279 - mse: 0.4279\n",
      "Epoch 11/100\n",
      "89/89 [==============================] - 0s 1ms/step - loss: 0.4540 - mse: 0.4540\n",
      "Epoch 12/100\n",
      "89/89 [==============================] - 0s 1ms/step - loss: 0.4301 - mse: 0.4301\n",
      "Epoch 13/100\n",
      "89/89 [==============================] - 0s 1ms/step - loss: 0.4424 - mse: 0.4424\n",
      "Epoch 14/100\n",
      "89/89 [==============================] - 0s 1ms/step - loss: 0.4409 - mse: 0.4409\n",
      "Epoch 15/100\n",
      "89/89 [==============================] - 0s 1ms/step - loss: 0.4363 - mse: 0.4363\n",
      "Epoch 16/100\n",
      "89/89 [==============================] - 0s 1ms/step - loss: 0.4478 - mse: 0.4478\n",
      "Epoch 17/100\n",
      "89/89 [==============================] - 0s 1ms/step - loss: 0.4282 - mse: 0.4282\n",
      "Epoch 18/100\n",
      "89/89 [==============================] - 0s 1ms/step - loss: 0.4349 - mse: 0.4349\n",
      "Epoch 19/100\n",
      "89/89 [==============================] - 0s 1ms/step - loss: 0.4134 - mse: 0.4134\n",
      "Epoch 20/100\n",
      "89/89 [==============================] - 0s 1ms/step - loss: 0.4199 - mse: 0.4199\n",
      "Epoch 21/100\n",
      "89/89 [==============================] - 0s 1ms/step - loss: 0.4536 - mse: 0.4536\n",
      "Epoch 22/100\n",
      "89/89 [==============================] - 0s 1ms/step - loss: 0.4275 - mse: 0.4275\n",
      "Epoch 23/100\n",
      "89/89 [==============================] - 0s 1ms/step - loss: 0.4820 - mse: 0.4820\n",
      "Epoch 24/100\n",
      "89/89 [==============================] - 0s 1ms/step - loss: 0.4592 - mse: 0.4592\n",
      "Epoch 25/100\n",
      "89/89 [==============================] - 0s 1ms/step - loss: 0.4835 - mse: 0.4835\n",
      "Epoch 26/100\n",
      "89/89 [==============================] - 0s 1ms/step - loss: 0.4527 - mse: 0.4527\n",
      "Epoch 27/100\n",
      "89/89 [==============================] - 0s 1ms/step - loss: 0.4479 - mse: 0.4479\n",
      "Epoch 28/100\n",
      "89/89 [==============================] - 0s 1ms/step - loss: 0.4217 - mse: 0.4217\n",
      "Epoch 29/100\n",
      "89/89 [==============================] - 0s 1ms/step - loss: 0.4195 - mse: 0.4195\n",
      "Epoch 30/100\n",
      "89/89 [==============================] - 0s 1ms/step - loss: 0.4142 - mse: 0.4142\n",
      "Epoch 31/100\n",
      "89/89 [==============================] - 0s 1ms/step - loss: 0.4384 - mse: 0.4384\n",
      "Epoch 32/100\n",
      "89/89 [==============================] - 0s 1ms/step - loss: 0.4094 - mse: 0.4094\n",
      "Epoch 33/100\n",
      "89/89 [==============================] - 0s 1ms/step - loss: 0.4304 - mse: 0.4304\n",
      "Epoch 34/100\n",
      "89/89 [==============================] - 0s 1ms/step - loss: 0.3751 - mse: 0.3751\n",
      "Epoch 35/100\n",
      "89/89 [==============================] - 0s 1ms/step - loss: 0.4388 - mse: 0.4388\n",
      "Epoch 36/100\n",
      "89/89 [==============================] - 0s 1ms/step - loss: 0.4385 - mse: 0.4385\n",
      "Epoch 37/100\n",
      "89/89 [==============================] - 0s 1ms/step - loss: 0.4364 - mse: 0.4364\n",
      "Epoch 38/100\n",
      "89/89 [==============================] - 0s 1ms/step - loss: 0.4388 - mse: 0.4388\n",
      "Epoch 39/100\n",
      "89/89 [==============================] - 0s 1ms/step - loss: 0.4133 - mse: 0.4133\n",
      "Epoch 40/100\n",
      "89/89 [==============================] - 0s 1ms/step - loss: 0.4211 - mse: 0.4211\n",
      "Epoch 41/100\n",
      "89/89 [==============================] - 0s 1ms/step - loss: 0.4078 - mse: 0.4078\n",
      "Epoch 42/100\n",
      "89/89 [==============================] - 0s 1ms/step - loss: 0.4411 - mse: 0.4411\n",
      "Epoch 43/100\n",
      "89/89 [==============================] - 0s 1ms/step - loss: 0.4057 - mse: 0.4057\n",
      "Epoch 44/100\n",
      "89/89 [==============================] - 0s 958us/step - loss: 0.4212 - mse: 0.4212\n",
      "Epoch 45/100\n",
      "89/89 [==============================] - 0s 963us/step - loss: 0.4144 - mse: 0.4144\n",
      "Epoch 46/100\n",
      "89/89 [==============================] - 0s 1ms/step - loss: 0.4223 - mse: 0.4223\n",
      "Epoch 47/100\n",
      "89/89 [==============================] - 0s 975us/step - loss: 0.4098 - mse: 0.4098\n",
      "Epoch 48/100\n",
      "89/89 [==============================] - 0s 1ms/step - loss: 0.4219 - mse: 0.4219\n",
      "Epoch 49/100\n",
      "89/89 [==============================] - 0s 1ms/step - loss: 0.4084 - mse: 0.4084\n",
      "Epoch 50/100\n",
      "89/89 [==============================] - 0s 1ms/step - loss: 0.4085 - mse: 0.4085\n",
      "Epoch 51/100\n",
      "89/89 [==============================] - 0s 1ms/step - loss: 0.4081 - mse: 0.4081\n",
      "Epoch 52/100\n",
      "89/89 [==============================] - 0s 1ms/step - loss: 0.4165 - mse: 0.4165\n",
      "Epoch 53/100\n",
      "89/89 [==============================] - 0s 1ms/step - loss: 0.4167 - mse: 0.4167\n",
      "Epoch 54/100\n",
      "89/89 [==============================] - 0s 1ms/step - loss: 0.3757 - mse: 0.3757\n",
      "Epoch 55/100\n",
      "89/89 [==============================] - 0s 1ms/step - loss: 0.3899 - mse: 0.3899\n",
      "Epoch 56/100\n",
      "89/89 [==============================] - 0s 1ms/step - loss: 0.4050 - mse: 0.4050\n",
      "Epoch 57/100\n",
      "89/89 [==============================] - 0s 1ms/step - loss: 0.3939 - mse: 0.3939\n",
      "Epoch 58/100\n",
      "89/89 [==============================] - 0s 1ms/step - loss: 0.4089 - mse: 0.4089\n",
      "Epoch 59/100\n",
      "89/89 [==============================] - 0s 1ms/step - loss: 0.3944 - mse: 0.3944\n",
      "Epoch 60/100\n",
      "89/89 [==============================] - 0s 1ms/step - loss: 0.3936 - mse: 0.3936\n",
      "Epoch 61/100\n",
      "89/89 [==============================] - 0s 1ms/step - loss: 0.3952 - mse: 0.3952\n",
      "Epoch 62/100\n",
      "89/89 [==============================] - 0s 1ms/step - loss: 0.4072 - mse: 0.4072\n",
      "Epoch 63/100\n",
      "89/89 [==============================] - 0s 1ms/step - loss: 0.3912 - mse: 0.3912\n",
      "Epoch 64/100\n",
      "89/89 [==============================] - 0s 1ms/step - loss: 0.3973 - mse: 0.3973\n",
      "Epoch 65/100\n",
      "89/89 [==============================] - 0s 1ms/step - loss: 0.4015 - mse: 0.4015\n",
      "Epoch 66/100\n",
      "89/89 [==============================] - 0s 1ms/step - loss: 0.3988 - mse: 0.3988\n",
      "Epoch 67/100\n",
      "89/89 [==============================] - 0s 1ms/step - loss: 0.4034 - mse: 0.4034\n",
      "Epoch 68/100\n",
      "89/89 [==============================] - 0s 1ms/step - loss: 0.4022 - mse: 0.4022\n",
      "Epoch 69/100\n",
      "89/89 [==============================] - 0s 1ms/step - loss: 0.3893 - mse: 0.3893\n",
      "Epoch 70/100\n",
      "89/89 [==============================] - 0s 1ms/step - loss: 0.3936 - mse: 0.3936\n",
      "Epoch 71/100\n",
      "89/89 [==============================] - 0s 1ms/step - loss: 0.3999 - mse: 0.3999\n",
      "Epoch 72/100\n",
      "89/89 [==============================] - 0s 1ms/step - loss: 0.3880 - mse: 0.3880\n",
      "Epoch 73/100\n",
      "89/89 [==============================] - 0s 1ms/step - loss: 0.4057 - mse: 0.4057\n",
      "Epoch 74/100\n",
      "89/89 [==============================] - 0s 1ms/step - loss: 0.3851 - mse: 0.3851\n",
      "Epoch 75/100\n",
      "89/89 [==============================] - 0s 1ms/step - loss: 0.3946 - mse: 0.3946\n",
      "Epoch 76/100\n",
      "89/89 [==============================] - 0s 1ms/step - loss: 0.3843 - mse: 0.3843\n",
      "Epoch 77/100\n",
      "89/89 [==============================] - 0s 1ms/step - loss: 0.4045 - mse: 0.4045\n",
      "Epoch 78/100\n"
     ]
    },
    {
     "name": "stdout",
     "output_type": "stream",
     "text": [
      "89/89 [==============================] - 0s 1ms/step - loss: 0.4103 - mse: 0.4103\n",
      "Epoch 79/100\n",
      "89/89 [==============================] - 0s 1ms/step - loss: 0.4050 - mse: 0.4050\n",
      "Epoch 80/100\n",
      "89/89 [==============================] - 0s 1ms/step - loss: 0.3835 - mse: 0.3835\n",
      "Epoch 81/100\n",
      "89/89 [==============================] - 0s 1ms/step - loss: 0.4137 - mse: 0.4137\n",
      "Epoch 82/100\n",
      "89/89 [==============================] - 0s 1ms/step - loss: 0.3871 - mse: 0.3871\n",
      "Epoch 83/100\n",
      "89/89 [==============================] - 0s 1ms/step - loss: 0.4027 - mse: 0.4027\n",
      "Epoch 84/100\n",
      "89/89 [==============================] - 0s 1ms/step - loss: 0.4138 - mse: 0.4138\n",
      "Epoch 85/100\n",
      "89/89 [==============================] - 0s 1ms/step - loss: 0.3610 - mse: 0.3610\n",
      "Epoch 86/100\n",
      "89/89 [==============================] - 0s 1ms/step - loss: 0.4110 - mse: 0.4110\n",
      "Epoch 87/100\n",
      "89/89 [==============================] - 0s 1ms/step - loss: 0.3937 - mse: 0.3937\n",
      "Epoch 88/100\n",
      "89/89 [==============================] - 0s 1ms/step - loss: 0.3778 - mse: 0.3778\n",
      "Epoch 89/100\n",
      "89/89 [==============================] - 0s 1ms/step - loss: 0.3784 - mse: 0.3784\n",
      "Epoch 90/100\n",
      "89/89 [==============================] - 0s 1ms/step - loss: 0.4118 - mse: 0.4118\n",
      "Epoch 91/100\n",
      "89/89 [==============================] - 0s 1ms/step - loss: 0.3897 - mse: 0.3897\n",
      "Epoch 92/100\n",
      "89/89 [==============================] - 0s 981us/step - loss: 0.4010 - mse: 0.4010\n",
      "Epoch 93/100\n",
      "89/89 [==============================] - 0s 1ms/step - loss: 0.3752 - mse: 0.3752\n",
      "Epoch 94/100\n",
      "89/89 [==============================] - 0s 1ms/step - loss: 0.3931 - mse: 0.3931\n",
      "Epoch 95/100\n",
      "89/89 [==============================] - 0s 1ms/step - loss: 0.3882 - mse: 0.3882\n",
      "Epoch 96/100\n",
      "89/89 [==============================] - 0s 1ms/step - loss: 0.3948 - mse: 0.3948\n",
      "Epoch 97/100\n",
      "89/89 [==============================] - 0s 1ms/step - loss: 0.3973 - mse: 0.3973\n",
      "Epoch 98/100\n",
      "89/89 [==============================] - 0s 1ms/step - loss: 0.3801 - mse: 0.3801\n",
      "Epoch 99/100\n",
      "89/89 [==============================] - 0s 1ms/step - loss: 0.3852 - mse: 0.3852\n",
      "Epoch 100/100\n",
      "89/89 [==============================] - 0s 1ms/step - loss: 0.3956 - mse: 0.3956\n"
     ]
    },
    {
     "data": {
      "text/plain": [
       "<keras.callbacks.History at 0x11fa5a56f40>"
      ]
     },
     "execution_count": 82,
     "metadata": {},
     "output_type": "execute_result"
    }
   ],
   "source": [
    "keras_model = create_model()\n",
    "keras_model.fit(X_train, y_train, epochs=100, batch_size=10, verbose=1)"
   ]
  },
  {
   "cell_type": "code",
   "execution_count": 83,
   "id": "e1667db5",
   "metadata": {},
   "outputs": [],
   "source": [
    "from sklearn.metrics import roc_curve\n",
    "from sklearn.metrics import auc\n",
    "\n",
    "y_pred_keras = keras_model.predict(X_test).ravel()\n",
    "fpr_keras, tpr_keras, thresholds_keras = roc_curve(y_test, y_pred_keras)\n",
    "auc_keras = auc(fpr_keras, tpr_keras)"
   ]
  },
  {
   "cell_type": "code",
   "execution_count": 84,
   "id": "33b0fadc",
   "metadata": {},
   "outputs": [
    {
     "data": {
      "image/png": "[encoded data removed]",
      "text/plain": [
       "<Figure size 432x288 with 1 Axes>"
      ]
     },
     "metadata": {
      "needs_background": "light"
     },
     "output_type": "display_data"
    }
   ],
   "source": [
    "plt.figure(1)\n",
    "plt.plot([0, 1], [0, 1], 'k--')\n",
    "plt.plot(fpr_keras, tpr_keras, label='Sequential (area = {:.3f})'.format(auc_keras))\n",
    "plt.xlabel('False positive rate')\n",
    "plt.ylabel('True positive rate')\n",
    "plt.title('ROC curve')\n",
    "plt.legend(loc='best')\n",
    "plt.show()"
   ]
  },
  {
   "cell_type": "code",
   "execution_count": null,
   "id": "6ddb5ef2",
   "metadata": {},
   "outputs": [],
   "source": []
  }
 ],
 "metadata": {
  "kernelspec": {
   "display_name": "Python 3",
   "language": "python",
   "name": "python3"
  },
  "language_info": {
   "codemirror_mode": {
    "name": "ipython",
    "version": 3
   },
   "file_extension": ".py",
   "mimetype": "text/x-python",
   "name": "python",
   "nbconvert_exporter": "python",
   "pygments_lexer": "ipython3",
   "version": "3.8.8"
  }
 },
 "nbformat": 4,
 "nbformat_minor": 5
}
