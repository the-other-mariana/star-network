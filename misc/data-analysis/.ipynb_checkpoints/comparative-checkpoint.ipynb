{
 "cells": [
  {
   "cell_type": "markdown",
   "id": "9d5c61fe",
   "metadata": {},
   "source": [
    "## Multilayer perceptron"
   ]
  },
  {
   "cell_type": "code",
   "execution_count": 146,
   "id": "800f7769",
   "metadata": {},
   "outputs": [],
   "source": [
    "import numpy as np\n",
    "import pandas as pd\n",
    "import matplotlib.pyplot as plt\n",
    "from keras.models import Sequential\n",
    "from keras.layers import Dense # dense is all neurons connected to all next layer neurons\n",
    "from keras.layers import Dropout\n",
    "from keras.wrappers.scikit_learn import KerasClassifier\n",
    "from keras.constraints import maxnorm\n",
    "from sklearn.model_selection import cross_val_score\n",
    "from sklearn.preprocessing import LabelEncoder\n",
    "from sklearn.model_selection import StratifiedKFold\n",
    "from sklearn.preprocessing import StandardScaler\n",
    "from sklearn.pipeline import Pipeline"
   ]
  },
  {
   "cell_type": "code",
   "execution_count": 147,
   "id": "69227fa2",
   "metadata": {},
   "outputs": [
    {
     "data": {
      "text/plain": [
       "(33543, 35)"
      ]
     },
     "execution_count": 147,
     "metadata": {},
     "output_type": "execute_result"
    }
   ],
   "source": [
    "db = pd.read_csv('db.csv', low_memory=False)\n",
    "db.shape"
   ]
  },
  {
   "cell_type": "code",
   "execution_count": 148,
   "id": "e7d20510",
   "metadata": {},
   "outputs": [
    {
     "data": {
      "text/plain": [
       "Index(['Unnamed: 0', 'FCS', 'CORR', 'BUFF_OVERFLOW', 'GENERIC', 'PCKT_NUM',\n",
       "       'TIME(MS)', 'LENGTH', 'PAYLOAD', 'RSSI', 'CRC_OK', 'FRAME_TYPE',\n",
       "       'SECURITY_ENABLED', 'FRAME_PENDING', 'ACKNOWLEDGE_REQ',\n",
       "       'PAN_COMPRESSION', 'DEST_PAN', 'DEST_ADD', 'SRC_PAN', 'SRC_ADD', 'DATA',\n",
       "       'CMD', 'ACK', '1_OCT_HEADER', 'CSL_WAKEUP', 'CSL_SECURE_ACK',\n",
       "       'RFID_BLINK', 'BCN', 'TEST_TYPE', 'CONTROL', 'DOUBLENETWORK', 'ELECTRO',\n",
       "       'NORMAL', 'VIENTO', 'WIRELESS'],\n",
       "      dtype='object')"
      ]
     },
     "execution_count": 148,
     "metadata": {},
     "output_type": "execute_result"
    }
   ],
   "source": [
    "db.columns"
   ]
  },
  {
   "cell_type": "code",
   "execution_count": 149,
   "id": "a920a58c",
   "metadata": {},
   "outputs": [
    {
     "data": {
      "text/html": [
       "<div>\n",
       "<style scoped>\n",
       "    .dataframe tbody tr th:only-of-type {\n",
       "        vertical-align: middle;\n",
       "    }\n",
       "\n",
       "    .dataframe tbody tr th {\n",
       "        vertical-align: top;\n",
       "    }\n",
       "\n",
       "    .dataframe thead th {\n",
       "        text-align: right;\n",
       "    }\n",
       "</style>\n",
       "<table border=\"1\" class=\"dataframe\">\n",
       "  <thead>\n",
       "    <tr style=\"text-align: right;\">\n",
       "      <th></th>\n",
       "      <th>FCS</th>\n",
       "      <th>CORR</th>\n",
       "      <th>BUFF_OVERFLOW</th>\n",
       "      <th>GENERIC</th>\n",
       "      <th>PCKT_NUM</th>\n",
       "      <th>TIME(MS)</th>\n",
       "      <th>LENGTH</th>\n",
       "      <th>PAYLOAD</th>\n",
       "      <th>RSSI</th>\n",
       "      <th>CRC_OK</th>\n",
       "      <th>...</th>\n",
       "      <th>CSL_SECURE_ACK</th>\n",
       "      <th>RFID_BLINK</th>\n",
       "      <th>BCN</th>\n",
       "      <th>TEST_TYPE</th>\n",
       "      <th>CONTROL</th>\n",
       "      <th>DOUBLENETWORK</th>\n",
       "      <th>ELECTRO</th>\n",
       "      <th>NORMAL</th>\n",
       "      <th>VIENTO</th>\n",
       "      <th>WIRELESS</th>\n",
       "    </tr>\n",
       "  </thead>\n",
       "  <tbody>\n",
       "    <tr>\n",
       "      <th>0</th>\n",
       "      <td>1</td>\n",
       "      <td>1</td>\n",
       "      <td>0</td>\n",
       "      <td>0</td>\n",
       "      <td>1</td>\n",
       "      <td>0.000000</td>\n",
       "      <td>11</td>\n",
       "      <td>NaN</td>\n",
       "      <td>-98.0</td>\n",
       "      <td>1.0</td>\n",
       "      <td>...</td>\n",
       "      <td>0</td>\n",
       "      <td>0</td>\n",
       "      <td>0</td>\n",
       "      <td>control</td>\n",
       "      <td>1</td>\n",
       "      <td>0</td>\n",
       "      <td>0</td>\n",
       "      <td>0</td>\n",
       "      <td>0</td>\n",
       "      <td>0</td>\n",
       "    </tr>\n",
       "    <tr>\n",
       "      <th>1</th>\n",
       "      <td>1</td>\n",
       "      <td>1</td>\n",
       "      <td>0</td>\n",
       "      <td>0</td>\n",
       "      <td>2</td>\n",
       "      <td>16751.182375</td>\n",
       "      <td>11</td>\n",
       "      <td>NaN</td>\n",
       "      <td>-99.0</td>\n",
       "      <td>1.0</td>\n",
       "      <td>...</td>\n",
       "      <td>0</td>\n",
       "      <td>0</td>\n",
       "      <td>0</td>\n",
       "      <td>control</td>\n",
       "      <td>1</td>\n",
       "      <td>0</td>\n",
       "      <td>0</td>\n",
       "      <td>0</td>\n",
       "      <td>0</td>\n",
       "      <td>0</td>\n",
       "    </tr>\n",
       "    <tr>\n",
       "      <th>2</th>\n",
       "      <td>1</td>\n",
       "      <td>1</td>\n",
       "      <td>0</td>\n",
       "      <td>0</td>\n",
       "      <td>3</td>\n",
       "      <td>1.070000</td>\n",
       "      <td>14</td>\n",
       "      <td>NaN</td>\n",
       "      <td>-90.0</td>\n",
       "      <td>1.0</td>\n",
       "      <td>...</td>\n",
       "      <td>0</td>\n",
       "      <td>0</td>\n",
       "      <td>1</td>\n",
       "      <td>control</td>\n",
       "      <td>1</td>\n",
       "      <td>0</td>\n",
       "      <td>0</td>\n",
       "      <td>0</td>\n",
       "      <td>0</td>\n",
       "      <td>0</td>\n",
       "    </tr>\n",
       "    <tr>\n",
       "      <th>3</th>\n",
       "      <td>1</td>\n",
       "      <td>1</td>\n",
       "      <td>0</td>\n",
       "      <td>0</td>\n",
       "      <td>4</td>\n",
       "      <td>652.697750</td>\n",
       "      <td>11</td>\n",
       "      <td>NaN</td>\n",
       "      <td>-91.0</td>\n",
       "      <td>1.0</td>\n",
       "      <td>...</td>\n",
       "      <td>0</td>\n",
       "      <td>0</td>\n",
       "      <td>0</td>\n",
       "      <td>control</td>\n",
       "      <td>1</td>\n",
       "      <td>0</td>\n",
       "      <td>0</td>\n",
       "      <td>0</td>\n",
       "      <td>0</td>\n",
       "      <td>0</td>\n",
       "    </tr>\n",
       "    <tr>\n",
       "      <th>4</th>\n",
       "      <td>1</td>\n",
       "      <td>1</td>\n",
       "      <td>0</td>\n",
       "      <td>0</td>\n",
       "      <td>5</td>\n",
       "      <td>2.006625</td>\n",
       "      <td>14</td>\n",
       "      <td>NaN</td>\n",
       "      <td>-90.0</td>\n",
       "      <td>1.0</td>\n",
       "      <td>...</td>\n",
       "      <td>0</td>\n",
       "      <td>0</td>\n",
       "      <td>1</td>\n",
       "      <td>control</td>\n",
       "      <td>1</td>\n",
       "      <td>0</td>\n",
       "      <td>0</td>\n",
       "      <td>0</td>\n",
       "      <td>0</td>\n",
       "      <td>0</td>\n",
       "    </tr>\n",
       "  </tbody>\n",
       "</table>\n",
       "<p>5 rows × 34 columns</p>\n",
       "</div>"
      ],
      "text/plain": [
       "   FCS  CORR  BUFF_OVERFLOW  GENERIC  PCKT_NUM      TIME(MS)  LENGTH  PAYLOAD  \\\n",
       "0    1     1              0        0         1      0.000000      11      NaN   \n",
       "1    1     1              0        0         2  16751.182375      11      NaN   \n",
       "2    1     1              0        0         3      1.070000      14      NaN   \n",
       "3    1     1              0        0         4    652.697750      11      NaN   \n",
       "4    1     1              0        0         5      2.006625      14      NaN   \n",
       "\n",
       "   RSSI  CRC_OK  ... CSL_SECURE_ACK  RFID_BLINK  BCN  TEST_TYPE  CONTROL  \\\n",
       "0 -98.0     1.0  ...              0           0    0    control        1   \n",
       "1 -99.0     1.0  ...              0           0    0    control        1   \n",
       "2 -90.0     1.0  ...              0           0    1    control        1   \n",
       "3 -91.0     1.0  ...              0           0    0    control        1   \n",
       "4 -90.0     1.0  ...              0           0    1    control        1   \n",
       "\n",
       "  DOUBLENETWORK ELECTRO NORMAL VIENTO  WIRELESS  \n",
       "0             0       0      0      0         0  \n",
       "1             0       0      0      0         0  \n",
       "2             0       0      0      0         0  \n",
       "3             0       0      0      0         0  \n",
       "4             0       0      0      0         0  \n",
       "\n",
       "[5 rows x 34 columns]"
      ]
     },
     "execution_count": 149,
     "metadata": {},
     "output_type": "execute_result"
    }
   ],
   "source": [
    "db = db.drop(['Unnamed: 0'], axis = 1)\n",
    "db.head()"
   ]
  },
  {
   "cell_type": "code",
   "execution_count": 150,
   "id": "338c01f1",
   "metadata": {},
   "outputs": [
    {
     "data": {
      "text/plain": [
       "0        1.0\n",
       "1        1.0\n",
       "2        1.0\n",
       "3        1.0\n",
       "4        1.0\n",
       "        ... \n",
       "33538    1.0\n",
       "33539    0.0\n",
       "33540    0.0\n",
       "33541    1.0\n",
       "33542    1.0\n",
       "Name: CRC_OK, Length: 33543, dtype: float64"
      ]
     },
     "execution_count": 150,
     "metadata": {},
     "output_type": "execute_result"
    }
   ],
   "source": [
    "ignore = ['PAYLOAD', 'CRC_OK', 'FRAME_TYPE', 'DEST_PAN', 'DEST_ADD', 'SRC_PAN', 'SRC_ADD', 'TEST_TYPE', 'BUFF_OVERFLOW',\n",
    "          'FCS', 'GENERIC']\n",
    "y = db['CRC_OK']\n",
    "y"
   ]
  },
  {
   "cell_type": "code",
   "execution_count": 151,
   "id": "9031c3f2",
   "metadata": {},
   "outputs": [
    {
     "data": {
      "text/html": [
       "<div>\n",
       "<style scoped>\n",
       "    .dataframe tbody tr th:only-of-type {\n",
       "        vertical-align: middle;\n",
       "    }\n",
       "\n",
       "    .dataframe tbody tr th {\n",
       "        vertical-align: top;\n",
       "    }\n",
       "\n",
       "    .dataframe thead th {\n",
       "        text-align: right;\n",
       "    }\n",
       "</style>\n",
       "<table border=\"1\" class=\"dataframe\">\n",
       "  <thead>\n",
       "    <tr style=\"text-align: right;\">\n",
       "      <th></th>\n",
       "      <th>CORR</th>\n",
       "      <th>PCKT_NUM</th>\n",
       "      <th>TIME(MS)</th>\n",
       "      <th>LENGTH</th>\n",
       "      <th>RSSI</th>\n",
       "      <th>SECURITY_ENABLED</th>\n",
       "      <th>FRAME_PENDING</th>\n",
       "      <th>ACKNOWLEDGE_REQ</th>\n",
       "      <th>PAN_COMPRESSION</th>\n",
       "      <th>DATA</th>\n",
       "      <th>...</th>\n",
       "      <th>CSL_SECURE_ACK</th>\n",
       "      <th>RFID_BLINK</th>\n",
       "      <th>BCN</th>\n",
       "      <th>CONTROL</th>\n",
       "      <th>DOUBLENETWORK</th>\n",
       "      <th>ELECTRO</th>\n",
       "      <th>NORMAL</th>\n",
       "      <th>VIENTO</th>\n",
       "      <th>WIRELESS</th>\n",
       "      <th>OK</th>\n",
       "    </tr>\n",
       "  </thead>\n",
       "  <tbody>\n",
       "    <tr>\n",
       "      <th>0</th>\n",
       "      <td>1</td>\n",
       "      <td>1</td>\n",
       "      <td>0.000000</td>\n",
       "      <td>11</td>\n",
       "      <td>-98.0</td>\n",
       "      <td>0.0</td>\n",
       "      <td>0.0</td>\n",
       "      <td>0.0</td>\n",
       "      <td>0.0</td>\n",
       "      <td>0</td>\n",
       "      <td>...</td>\n",
       "      <td>0</td>\n",
       "      <td>0</td>\n",
       "      <td>0</td>\n",
       "      <td>1</td>\n",
       "      <td>0</td>\n",
       "      <td>0</td>\n",
       "      <td>0</td>\n",
       "      <td>0</td>\n",
       "      <td>0</td>\n",
       "      <td>1.0</td>\n",
       "    </tr>\n",
       "    <tr>\n",
       "      <th>1</th>\n",
       "      <td>1</td>\n",
       "      <td>2</td>\n",
       "      <td>16751.182375</td>\n",
       "      <td>11</td>\n",
       "      <td>-99.0</td>\n",
       "      <td>0.0</td>\n",
       "      <td>0.0</td>\n",
       "      <td>0.0</td>\n",
       "      <td>0.0</td>\n",
       "      <td>0</td>\n",
       "      <td>...</td>\n",
       "      <td>0</td>\n",
       "      <td>0</td>\n",
       "      <td>0</td>\n",
       "      <td>1</td>\n",
       "      <td>0</td>\n",
       "      <td>0</td>\n",
       "      <td>0</td>\n",
       "      <td>0</td>\n",
       "      <td>0</td>\n",
       "      <td>1.0</td>\n",
       "    </tr>\n",
       "    <tr>\n",
       "      <th>2</th>\n",
       "      <td>1</td>\n",
       "      <td>3</td>\n",
       "      <td>1.070000</td>\n",
       "      <td>14</td>\n",
       "      <td>-90.0</td>\n",
       "      <td>0.0</td>\n",
       "      <td>0.0</td>\n",
       "      <td>0.0</td>\n",
       "      <td>0.0</td>\n",
       "      <td>0</td>\n",
       "      <td>...</td>\n",
       "      <td>0</td>\n",
       "      <td>0</td>\n",
       "      <td>1</td>\n",
       "      <td>1</td>\n",
       "      <td>0</td>\n",
       "      <td>0</td>\n",
       "      <td>0</td>\n",
       "      <td>0</td>\n",
       "      <td>0</td>\n",
       "      <td>1.0</td>\n",
       "    </tr>\n",
       "    <tr>\n",
       "      <th>3</th>\n",
       "      <td>1</td>\n",
       "      <td>4</td>\n",
       "      <td>652.697750</td>\n",
       "      <td>11</td>\n",
       "      <td>-91.0</td>\n",
       "      <td>0.0</td>\n",
       "      <td>0.0</td>\n",
       "      <td>0.0</td>\n",
       "      <td>0.0</td>\n",
       "      <td>0</td>\n",
       "      <td>...</td>\n",
       "      <td>0</td>\n",
       "      <td>0</td>\n",
       "      <td>0</td>\n",
       "      <td>1</td>\n",
       "      <td>0</td>\n",
       "      <td>0</td>\n",
       "      <td>0</td>\n",
       "      <td>0</td>\n",
       "      <td>0</td>\n",
       "      <td>1.0</td>\n",
       "    </tr>\n",
       "    <tr>\n",
       "      <th>4</th>\n",
       "      <td>1</td>\n",
       "      <td>5</td>\n",
       "      <td>2.006625</td>\n",
       "      <td>14</td>\n",
       "      <td>-90.0</td>\n",
       "      <td>0.0</td>\n",
       "      <td>0.0</td>\n",
       "      <td>0.0</td>\n",
       "      <td>0.0</td>\n",
       "      <td>0</td>\n",
       "      <td>...</td>\n",
       "      <td>0</td>\n",
       "      <td>0</td>\n",
       "      <td>1</td>\n",
       "      <td>1</td>\n",
       "      <td>0</td>\n",
       "      <td>0</td>\n",
       "      <td>0</td>\n",
       "      <td>0</td>\n",
       "      <td>0</td>\n",
       "      <td>1.0</td>\n",
       "    </tr>\n",
       "  </tbody>\n",
       "</table>\n",
       "<p>5 rows × 24 columns</p>\n",
       "</div>"
      ],
      "text/plain": [
       "   CORR  PCKT_NUM      TIME(MS)  LENGTH  RSSI  SECURITY_ENABLED  \\\n",
       "0     1         1      0.000000      11 -98.0               0.0   \n",
       "1     1         2  16751.182375      11 -99.0               0.0   \n",
       "2     1         3      1.070000      14 -90.0               0.0   \n",
       "3     1         4    652.697750      11 -91.0               0.0   \n",
       "4     1         5      2.006625      14 -90.0               0.0   \n",
       "\n",
       "   FRAME_PENDING  ACKNOWLEDGE_REQ  PAN_COMPRESSION  DATA  ...  CSL_SECURE_ACK  \\\n",
       "0            0.0              0.0              0.0     0  ...               0   \n",
       "1            0.0              0.0              0.0     0  ...               0   \n",
       "2            0.0              0.0              0.0     0  ...               0   \n",
       "3            0.0              0.0              0.0     0  ...               0   \n",
       "4            0.0              0.0              0.0     0  ...               0   \n",
       "\n",
       "   RFID_BLINK  BCN  CONTROL  DOUBLENETWORK  ELECTRO  NORMAL  VIENTO  WIRELESS  \\\n",
       "0           0    0        1              0        0       0       0         0   \n",
       "1           0    0        1              0        0       0       0         0   \n",
       "2           0    1        1              0        0       0       0         0   \n",
       "3           0    0        1              0        0       0       0         0   \n",
       "4           0    1        1              0        0       0       0         0   \n",
       "\n",
       "    OK  \n",
       "0  1.0  \n",
       "1  1.0  \n",
       "2  1.0  \n",
       "3  1.0  \n",
       "4  1.0  \n",
       "\n",
       "[5 rows x 24 columns]"
      ]
     },
     "execution_count": 151,
     "metadata": {},
     "output_type": "execute_result"
    }
   ],
   "source": [
    "numdb = db.drop(ignore, axis = 1)\n",
    "d = pd.DataFrame({'OK':y.values})\n",
    "numdb = pd.concat([numdb, d], axis=1)\n",
    "numdb.head()"
   ]
  },
  {
   "cell_type": "code",
   "execution_count": 152,
   "id": "62b5d2da",
   "metadata": {},
   "outputs": [],
   "source": [
    "mean_rssi = int(numdb['RSSI'].mean())\n",
    "numdb['RSSI'] = numdb['RSSI'].fillna(mean_rssi)"
   ]
  },
  {
   "cell_type": "code",
   "execution_count": 153,
   "id": "993dc5d8",
   "metadata": {},
   "outputs": [],
   "source": [
    "numdb['SECURITY_ENABLED'] = numdb['SECURITY_ENABLED'].fillna(0)\n",
    "numdb['FRAME_PENDING'] = numdb['FRAME_PENDING'].fillna(0)\n",
    "numdb['ACKNOWLEDGE_REQ'] = numdb['ACKNOWLEDGE_REQ'].fillna(0)\n",
    "numdb['PAN_COMPRESSION'] = numdb['PAN_COMPRESSION'].fillna(0)\n",
    "numdb['OK'] = numdb['OK'].fillna(0)"
   ]
  },
  {
   "cell_type": "code",
   "execution_count": 154,
   "id": "97ebb28a",
   "metadata": {},
   "outputs": [
    {
     "data": {
      "text/html": [
       "<div>\n",
       "<style scoped>\n",
       "    .dataframe tbody tr th:only-of-type {\n",
       "        vertical-align: middle;\n",
       "    }\n",
       "\n",
       "    .dataframe tbody tr th {\n",
       "        vertical-align: top;\n",
       "    }\n",
       "\n",
       "    .dataframe thead th {\n",
       "        text-align: right;\n",
       "    }\n",
       "</style>\n",
       "<table border=\"1\" class=\"dataframe\">\n",
       "  <thead>\n",
       "    <tr style=\"text-align: right;\">\n",
       "      <th></th>\n",
       "      <th>CORR</th>\n",
       "      <th>PCKT_NUM</th>\n",
       "      <th>TIME(MS)</th>\n",
       "      <th>LENGTH</th>\n",
       "      <th>RSSI</th>\n",
       "      <th>SECURITY_ENABLED</th>\n",
       "      <th>FRAME_PENDING</th>\n",
       "      <th>ACKNOWLEDGE_REQ</th>\n",
       "      <th>PAN_COMPRESSION</th>\n",
       "      <th>DATA</th>\n",
       "      <th>...</th>\n",
       "      <th>CSL_SECURE_ACK</th>\n",
       "      <th>RFID_BLINK</th>\n",
       "      <th>BCN</th>\n",
       "      <th>CONTROL</th>\n",
       "      <th>DOUBLENETWORK</th>\n",
       "      <th>ELECTRO</th>\n",
       "      <th>NORMAL</th>\n",
       "      <th>VIENTO</th>\n",
       "      <th>WIRELESS</th>\n",
       "      <th>OK</th>\n",
       "    </tr>\n",
       "  </thead>\n",
       "  <tbody>\n",
       "  </tbody>\n",
       "</table>\n",
       "<p>0 rows × 24 columns</p>\n",
       "</div>"
      ],
      "text/plain": [
       "Empty DataFrame\n",
       "Columns: [CORR, PCKT_NUM, TIME(MS), LENGTH, RSSI, SECURITY_ENABLED, FRAME_PENDING, ACKNOWLEDGE_REQ, PAN_COMPRESSION, DATA, CMD, ACK, 1_OCT_HEADER, CSL_WAKEUP, CSL_SECURE_ACK, RFID_BLINK, BCN, CONTROL, DOUBLENETWORK, ELECTRO, NORMAL, VIENTO, WIRELESS, OK]\n",
       "Index: []\n",
       "\n",
       "[0 rows x 24 columns]"
      ]
     },
     "execution_count": 154,
     "metadata": {},
     "output_type": "execute_result"
    }
   ],
   "source": [
    "numdb[numdb.isna().any(axis=1)]"
   ]
  },
  {
   "cell_type": "code",
   "execution_count": 155,
   "id": "153616fb",
   "metadata": {},
   "outputs": [
    {
     "data": {
      "text/plain": [
       "0        1.0\n",
       "1        1.0\n",
       "2        1.0\n",
       "3        1.0\n",
       "4        1.0\n",
       "        ... \n",
       "33538    1.0\n",
       "33539    0.0\n",
       "33540    0.0\n",
       "33541    1.0\n",
       "33542    1.0\n",
       "Name: OK, Length: 33543, dtype: float64"
      ]
     },
     "execution_count": 155,
     "metadata": {},
     "output_type": "execute_result"
    }
   ],
   "source": [
    "xdb = numdb.drop(['OK'], axis = 1)\n",
    "y = numdb['OK']\n",
    "y"
   ]
  },
  {
   "cell_type": "code",
   "execution_count": 156,
   "id": "08aeda55",
   "metadata": {},
   "outputs": [
    {
     "data": {
      "text/plain": [
       "23"
      ]
     },
     "execution_count": 156,
     "metadata": {},
     "output_type": "execute_result"
    }
   ],
   "source": [
    "X = xdb.to_numpy()\n",
    "len(X[0]) # n features"
   ]
  },
  {
   "cell_type": "code",
   "execution_count": 157,
   "id": "f02c855a",
   "metadata": {},
   "outputs": [
    {
     "name": "stdout",
     "output_type": "stream",
     "text": [
      "33543 23\n"
     ]
    }
   ],
   "source": [
    "n_samples, n_features = X.shape\n",
    "print(n_samples, n_features)"
   ]
  },
  {
   "cell_type": "code",
   "execution_count": 158,
   "id": "5c45c700",
   "metadata": {},
   "outputs": [],
   "source": [
    "X = X.astype(float)"
   ]
  },
  {
   "cell_type": "code",
   "execution_count": 159,
   "id": "12a3b79f",
   "metadata": {},
   "outputs": [
    {
     "data": {
      "text/plain": [
       "array([1., 1., 1., ..., 0., 1., 1.])"
      ]
     },
     "execution_count": 159,
     "metadata": {},
     "output_type": "execute_result"
    }
   ],
   "source": [
    "y = y.values\n",
    "y"
   ]
  },
  {
   "cell_type": "code",
   "execution_count": 162,
   "id": "81dae312",
   "metadata": {},
   "outputs": [
    {
     "data": {
      "text/plain": [
       "(658, 24)"
      ]
     },
     "execution_count": 162,
     "metadata": {},
     "output_type": "execute_result"
    }
   ],
   "source": [
    "err = numdb[numdb['OK'] != 1]\n",
    "err.shape"
   ]
  },
  {
   "cell_type": "code",
   "execution_count": 163,
   "id": "7db85030",
   "metadata": {},
   "outputs": [
    {
     "data": {
      "text/plain": [
       "array([[1.00000000e+00, 1.23800000e+03, 5.29216375e+02, ...,\n",
       "        1.00000000e+00, 0.00000000e+00, 0.00000000e+00],\n",
       "       [1.00000000e+00, 1.74400000e+03, 7.68000000e-01, ...,\n",
       "        0.00000000e+00, 0.00000000e+00, 0.00000000e+00],\n",
       "       [1.00000000e+00, 2.48000000e+03, 7.67375000e-01, ...,\n",
       "        0.00000000e+00, 0.00000000e+00, 0.00000000e+00],\n",
       "       ...,\n",
       "       [1.00000000e+00, 1.67800000e+03, 3.58356250e+00, ...,\n",
       "        0.00000000e+00, 0.00000000e+00, 1.00000000e+00],\n",
       "       [1.00000000e+00, 6.42000000e+02, 1.34375000e+00, ...,\n",
       "        0.00000000e+00, 1.00000000e+00, 0.00000000e+00],\n",
       "       [0.00000000e+00, 0.00000000e+00, 0.00000000e+00, ...,\n",
       "        0.00000000e+00, 0.00000000e+00, 0.00000000e+00]])"
      ]
     },
     "execution_count": 163,
     "metadata": {},
     "output_type": "execute_result"
    }
   ],
   "source": [
    "import random\n",
    "num_err = err.shape[0]\n",
    "indices = list(err.index)\n",
    "ok = numdb[numdb['OK'] != 0]\n",
    "num_ok = ok.shape[0]\n",
    "rows = 0\n",
    "visited = []\n",
    "x_bal_ok = np.zeros((err.shape[0], err.shape[1]-1), dtype=float)\n",
    "while(rows < (num_err-1)):\n",
    "    r = random.randint(0, numdb.shape[0]-1)\n",
    "    if r not in visited and r not in indices and r < (len(ok)-1):\n",
    "        # without ok\n",
    "        row = ok.values[r, :-1]\n",
    "        x_bal_ok[rows, :] = row\n",
    "        visited.append(r)\n",
    "        rows += 1\n",
    "x_bal_ok"
   ]
  },
  {
   "cell_type": "code",
   "execution_count": 197,
   "id": "76e388d3",
   "metadata": {},
   "outputs": [
    {
     "data": {
      "text/plain": [
       "(658, 23)"
      ]
     },
     "execution_count": 197,
     "metadata": {},
     "output_type": "execute_result"
    }
   ],
   "source": [
    "x_bal_ok.shape"
   ]
  },
  {
   "cell_type": "code",
   "execution_count": 198,
   "id": "b4e587af",
   "metadata": {},
   "outputs": [],
   "source": [
    "def create_model():\n",
    "    model = Sequential()\n",
    "    model.add(Dense(n_features, input_dim=n_features, activation='relu'))\n",
    "    model.add(Dropout(0.2))\n",
    "    model.add(Dense(4))\n",
    "    model.add(Dropout(0.2))\n",
    "    model.add(Dense(1, activation='sigmoid'))\n",
    "    model.compile(loss='mse', metrics=['mse'])\n",
    "    model.summary()\n",
    "    return model"
   ]
  },
  {
   "cell_type": "code",
   "execution_count": 199,
   "id": "b6859dbf",
   "metadata": {},
   "outputs": [],
   "source": [
    "from sklearn.model_selection import train_test_split\n",
    "X_train, X_test, y_train, y_test = train_test_split(x_bal, y_bal, test_size=0.33)"
   ]
  },
  {
   "cell_type": "code",
   "execution_count": 200,
   "id": "2c484441",
   "metadata": {},
   "outputs": [
    {
     "name": "stdout",
     "output_type": "stream",
     "text": [
      "Model: \"sequential_17\"\n",
      "_________________________________________________________________\n",
      " Layer (type)                Output Shape              Param #   \n",
      "=================================================================\n",
      " dense_35 (Dense)            (None, 23)                552       \n",
      "                                                                 \n",
      " dropout_18 (Dropout)        (None, 23)                0         \n",
      "                                                                 \n",
      " dense_36 (Dense)            (None, 4)                 96        \n",
      "                                                                 \n",
      " dropout_19 (Dropout)        (None, 4)                 0         \n",
      "                                                                 \n",
      " dense_37 (Dense)            (None, 1)                 5         \n",
      "                                                                 \n",
      "=================================================================\n",
      "Total params: 653\n",
      "Trainable params: 653\n",
      "Non-trainable params: 0\n",
      "_________________________________________________________________\n",
      "Epoch 1/100\n",
      "177/177 [==============================] - 1s 1ms/step - loss: 0.4777 - mse: 0.4777\n",
      "Epoch 2/100\n",
      "177/177 [==============================] - 0s 1ms/step - loss: 0.4640 - mse: 0.4640\n",
      "Epoch 3/100\n",
      "177/177 [==============================] - 0s 1ms/step - loss: 0.4711 - mse: 0.4711\n",
      "Epoch 4/100\n",
      "177/177 [==============================] - 0s 1ms/step - loss: 0.4583 - mse: 0.4583\n",
      "Epoch 5/100\n",
      "177/177 [==============================] - 0s 1ms/step - loss: 0.4484 - mse: 0.4484\n",
      "Epoch 6/100\n",
      "177/177 [==============================] - 0s 1ms/step - loss: 0.4664 - mse: 0.4664\n",
      "Epoch 7/100\n",
      "177/177 [==============================] - 0s 1ms/step - loss: 0.4683 - mse: 0.4683\n",
      "Epoch 8/100\n",
      "177/177 [==============================] - 0s 1ms/step - loss: 0.4444 - mse: 0.4444\n",
      "Epoch 9/100\n",
      "177/177 [==============================] - 0s 1ms/step - loss: 0.4604 - mse: 0.4604\n",
      "Epoch 10/100\n",
      "177/177 [==============================] - 0s 1ms/step - loss: 0.4694 - mse: 0.4694\n",
      "Epoch 11/100\n",
      "177/177 [==============================] - 0s 1ms/step - loss: 0.4888 - mse: 0.4888\n",
      "Epoch 12/100\n",
      "177/177 [==============================] - 0s 1ms/step - loss: 0.4764 - mse: 0.4764\n",
      "Epoch 13/100\n",
      "177/177 [==============================] - 0s 1ms/step - loss: 0.4758 - mse: 0.4758\n",
      "Epoch 14/100\n",
      "177/177 [==============================] - 0s 1ms/step - loss: 0.4584 - mse: 0.4584\n",
      "Epoch 15/100\n",
      "177/177 [==============================] - 0s 1ms/step - loss: 0.4504 - mse: 0.4504\n",
      "Epoch 16/100\n",
      "177/177 [==============================] - 0s 1ms/step - loss: 0.4482 - mse: 0.4482\n",
      "Epoch 17/100\n",
      "177/177 [==============================] - 0s 1ms/step - loss: 0.4545 - mse: 0.4545\n",
      "Epoch 18/100\n",
      "177/177 [==============================] - 0s 1ms/step - loss: 0.4746 - mse: 0.4746\n",
      "Epoch 19/100\n",
      "177/177 [==============================] - 0s 1ms/step - loss: 0.4407 - mse: 0.4407\n",
      "Epoch 20/100\n",
      "177/177 [==============================] - 0s 1ms/step - loss: 0.4542 - mse: 0.4542\n",
      "Epoch 21/100\n",
      "177/177 [==============================] - 0s 1ms/step - loss: 0.4594 - mse: 0.4594\n",
      "Epoch 22/100\n",
      "177/177 [==============================] - 0s 1ms/step - loss: 0.4488 - mse: 0.4488\n",
      "Epoch 23/100\n",
      "177/177 [==============================] - 0s 1ms/step - loss: 0.4431 - mse: 0.4431\n",
      "Epoch 24/100\n",
      "177/177 [==============================] - 0s 1ms/step - loss: 0.4419 - mse: 0.4419\n",
      "Epoch 25/100\n",
      "177/177 [==============================] - 0s 1ms/step - loss: 0.4371 - mse: 0.4371\n",
      "Epoch 26/100\n",
      "177/177 [==============================] - 0s 1ms/step - loss: 0.4498 - mse: 0.4498\n",
      "Epoch 27/100\n",
      "177/177 [==============================] - 0s 1ms/step - loss: 0.4290 - mse: 0.4290\n",
      "Epoch 28/100\n",
      "177/177 [==============================] - 0s 1ms/step - loss: 0.4401 - mse: 0.4401\n",
      "Epoch 29/100\n",
      "177/177 [==============================] - 0s 1ms/step - loss: 0.4063 - mse: 0.4063\n",
      "Epoch 30/100\n",
      "177/177 [==============================] - 0s 1ms/step - loss: 0.4179 - mse: 0.4179\n",
      "Epoch 31/100\n",
      "177/177 [==============================] - 0s 1ms/step - loss: 0.4201 - mse: 0.4201\n",
      "Epoch 32/100\n",
      "177/177 [==============================] - 0s 1ms/step - loss: 0.4476 - mse: 0.4476\n",
      "Epoch 33/100\n",
      "177/177 [==============================] - 0s 1ms/step - loss: 0.4227 - mse: 0.4227\n",
      "Epoch 34/100\n",
      "177/177 [==============================] - 0s 1ms/step - loss: 0.4402 - mse: 0.4402\n",
      "Epoch 35/100\n",
      "177/177 [==============================] - 0s 1ms/step - loss: 0.4197 - mse: 0.4197\n",
      "Epoch 36/100\n",
      "177/177 [==============================] - 0s 1ms/step - loss: 0.4261 - mse: 0.4261\n",
      "Epoch 37/100\n",
      "177/177 [==============================] - 0s 1ms/step - loss: 0.4426 - mse: 0.4426\n",
      "Epoch 38/100\n",
      "177/177 [==============================] - 0s 1ms/step - loss: 0.4242 - mse: 0.4242\n",
      "Epoch 39/100\n",
      "177/177 [==============================] - 0s 1ms/step - loss: 0.4059 - mse: 0.4059\n",
      "Epoch 40/100\n",
      "177/177 [==============================] - 0s 1ms/step - loss: 0.4436 - mse: 0.4436\n",
      "Epoch 41/100\n",
      "177/177 [==============================] - 0s 1ms/step - loss: 0.4089 - mse: 0.4089\n",
      "Epoch 42/100\n",
      "177/177 [==============================] - 0s 1ms/step - loss: 0.4428 - mse: 0.4428\n",
      "Epoch 43/100\n",
      "177/177 [==============================] - 0s 1ms/step - loss: 0.4116 - mse: 0.4116\n",
      "Epoch 44/100\n",
      "177/177 [==============================] - 0s 1ms/step - loss: 0.4257 - mse: 0.4257\n",
      "Epoch 45/100\n",
      "177/177 [==============================] - 0s 1ms/step - loss: 0.4388 - mse: 0.4388\n",
      "Epoch 46/100\n",
      "177/177 [==============================] - 0s 1ms/step - loss: 0.4342 - mse: 0.4342\n",
      "Epoch 47/100\n",
      "177/177 [==============================] - 0s 1ms/step - loss: 0.4254 - mse: 0.4254\n",
      "Epoch 48/100\n",
      "177/177 [==============================] - 0s 1ms/step - loss: 0.4248 - mse: 0.4248\n",
      "Epoch 49/100\n",
      "177/177 [==============================] - 0s 1ms/step - loss: 0.4133 - mse: 0.4133\n",
      "Epoch 50/100\n",
      "177/177 [==============================] - 0s 1ms/step - loss: 0.4246 - mse: 0.4246\n",
      "Epoch 51/100\n",
      "177/177 [==============================] - 0s 1ms/step - loss: 0.4194 - mse: 0.4194\n",
      "Epoch 52/100\n",
      "177/177 [==============================] - 0s 1ms/step - loss: 0.4356 - mse: 0.4356\n",
      "Epoch 53/100\n",
      "177/177 [==============================] - 0s 1ms/step - loss: 0.4282 - mse: 0.4282\n",
      "Epoch 54/100\n",
      "177/177 [==============================] - 0s 1ms/step - loss: 0.4141 - mse: 0.4141\n",
      "Epoch 55/100\n",
      "177/177 [==============================] - 0s 1ms/step - loss: 0.4163 - mse: 0.4163\n",
      "Epoch 56/100\n",
      "177/177 [==============================] - 0s 1ms/step - loss: 0.4114 - mse: 0.4114\n",
      "Epoch 57/100\n",
      "177/177 [==============================] - 0s 1ms/step - loss: 0.4241 - mse: 0.4241\n",
      "Epoch 58/100\n",
      "177/177 [==============================] - 0s 1ms/step - loss: 0.4025 - mse: 0.4025\n",
      "Epoch 59/100\n",
      "177/177 [==============================] - 0s 1ms/step - loss: 0.4374 - mse: 0.4374\n",
      "Epoch 60/100\n",
      "177/177 [==============================] - 0s 1ms/step - loss: 0.4218 - mse: 0.4218\n",
      "Epoch 61/100\n",
      "177/177 [==============================] - 0s 1ms/step - loss: 0.3977 - mse: 0.3977\n",
      "Epoch 62/100\n",
      "177/177 [==============================] - 0s 1ms/step - loss: 0.4039 - mse: 0.4039\n",
      "Epoch 63/100\n",
      "177/177 [==============================] - 0s 1ms/step - loss: 0.4198 - mse: 0.4198\n",
      "Epoch 64/100\n",
      "177/177 [==============================] - 0s 1ms/step - loss: 0.4047 - mse: 0.4047\n",
      "Epoch 65/100\n",
      "177/177 [==============================] - 0s 1ms/step - loss: 0.4153 - mse: 0.4153\n",
      "Epoch 66/100\n",
      "177/177 [==============================] - 0s 1ms/step - loss: 0.3931 - mse: 0.3931\n",
      "Epoch 67/100\n",
      "177/177 [==============================] - 0s 1ms/step - loss: 0.4244 - mse: 0.4244\n",
      "Epoch 68/100\n",
      "177/177 [==============================] - 0s 1ms/step - loss: 0.3871 - mse: 0.3871\n",
      "Epoch 69/100\n",
      "177/177 [==============================] - 0s 1ms/step - loss: 0.3865 - mse: 0.3865\n",
      "Epoch 70/100\n",
      "177/177 [==============================] - 0s 1ms/step - loss: 0.4144 - mse: 0.4144\n",
      "Epoch 71/100\n",
      "177/177 [==============================] - 0s 1ms/step - loss: 0.3923 - mse: 0.3923\n",
      "Epoch 72/100\n",
      "177/177 [==============================] - 0s 1ms/step - loss: 0.3792 - mse: 0.3792\n",
      "Epoch 73/100\n",
      "177/177 [==============================] - 0s 1ms/step - loss: 0.3976 - mse: 0.3976\n",
      "Epoch 74/100\n",
      "177/177 [==============================] - 0s 1ms/step - loss: 0.3871 - mse: 0.3871\n",
      "Epoch 75/100\n",
      "177/177 [==============================] - 0s 1ms/step - loss: 0.3803 - mse: 0.3803\n",
      "Epoch 76/100\n",
      "177/177 [==============================] - 0s 1ms/step - loss: 0.3691 - mse: 0.3691\n",
      "Epoch 77/100\n",
      "177/177 [==============================] - 0s 1ms/step - loss: 0.3892 - mse: 0.3892\n",
      "Epoch 78/100\n",
      "177/177 [==============================] - 0s 1ms/step - loss: 0.3794 - mse: 0.3794\n",
      "Epoch 79/100\n",
      "177/177 [==============================] - 0s 1ms/step - loss: 0.3743 - mse: 0.3743\n",
      "Epoch 80/100\n",
      "177/177 [==============================] - 0s 1ms/step - loss: 0.3924 - mse: 0.3924\n",
      "Epoch 81/100\n",
      "177/177 [==============================] - 0s 1ms/step - loss: 0.3702 - mse: 0.3702\n",
      "Epoch 82/100\n",
      "177/177 [==============================] - 0s 1ms/step - loss: 0.3854 - mse: 0.3854\n",
      "Epoch 83/100\n",
      "177/177 [==============================] - 0s 1ms/step - loss: 0.3817 - mse: 0.3817\n",
      "Epoch 84/100\n",
      "177/177 [==============================] - 0s 1ms/step - loss: 0.3996 - mse: 0.3996\n",
      "Epoch 85/100\n",
      "177/177 [==============================] - 0s 1ms/step - loss: 0.3976 - mse: 0.3976\n",
      "Epoch 86/100\n",
      "177/177 [==============================] - 0s 1ms/step - loss: 0.3886 - mse: 0.3886\n",
      "Epoch 87/100\n",
      "177/177 [==============================] - 0s 1ms/step - loss: 0.3912 - mse: 0.3912\n",
      "Epoch 88/100\n",
      "177/177 [==============================] - 0s 1ms/step - loss: 0.3907 - mse: 0.3907\n",
      "Epoch 89/100\n",
      "177/177 [==============================] - 0s 1ms/step - loss: 0.3908 - mse: 0.3908\n",
      "Epoch 90/100\n",
      "177/177 [==============================] - 0s 1ms/step - loss: 0.4211 - mse: 0.4211\n",
      "Epoch 91/100\n",
      "177/177 [==============================] - 0s 1ms/step - loss: 0.3670 - mse: 0.3670 \n",
      "Epoch 92/100\n",
      "177/177 [==============================] - 0s 1ms/step - loss: 0.3985 - mse: 0.3985\n",
      "Epoch 93/100\n",
      "177/177 [==============================] - 0s 1ms/step - loss: 0.3836 - mse: 0.3836\n",
      "Epoch 94/100\n",
      "177/177 [==============================] - 0s 1ms/step - loss: 0.3970 - mse: 0.3970\n",
      "Epoch 95/100\n",
      "177/177 [==============================] - 0s 1ms/step - loss: 0.3920 - mse: 0.3920\n",
      "Epoch 96/100\n",
      "177/177 [==============================] - 0s 1ms/step - loss: 0.3772 - mse: 0.3772\n",
      "Epoch 97/100\n",
      "177/177 [==============================] - 0s 1ms/step - loss: 0.3943 - mse: 0.3943\n",
      "Epoch 98/100\n",
      "177/177 [==============================] - 0s 1ms/step - loss: 0.3889 - mse: 0.3889\n",
      "Epoch 99/100\n",
      "177/177 [==============================] - 0s 1ms/step - loss: 0.3868 - mse: 0.3868\n",
      "Epoch 100/100\n",
      "177/177 [==============================] - 0s 1ms/step - loss: 0.3543 - mse: 0.3543\n"
     ]
    },
    {
     "data": {
      "text/plain": [
       "<keras.callbacks.History at 0x11fa4e84850>"
      ]
     },
     "execution_count": 200,
     "metadata": {},
     "output_type": "execute_result"
    }
   ],
   "source": [
    "keras_model = create_model()\n",
    "keras_model.fit(X_train, y_train, epochs=100, batch_size=5, verbose=1)"
   ]
  },
  {
   "cell_type": "code",
   "execution_count": 201,
   "id": "2696f09b",
   "metadata": {},
   "outputs": [],
   "source": [
    "from sklearn.metrics import roc_curve\n",
    "from sklearn.metrics import auc\n",
    "\n",
    "y_pred_keras = keras_model.predict(X_test).ravel()\n",
    "fpr_keras, tpr_keras, thresholds_keras = roc_curve(y_test, y_pred_keras)\n",
    "auc_keras = auc(fpr_keras, tpr_keras)"
   ]
  },
  {
   "cell_type": "code",
   "execution_count": 202,
   "id": "b8f21b76",
   "metadata": {},
   "outputs": [
    {
     "data": {
      "text/plain": [
       "0.6665277777777777"
      ]
     },
     "execution_count": 202,
     "metadata": {},
     "output_type": "execute_result"
    }
   ],
   "source": [
    "auc_keras"
   ]
  },
  {
   "cell_type": "code",
   "execution_count": 203,
   "id": "8b88fc27",
   "metadata": {},
   "outputs": [
    {
     "data": {
      "text/plain": [
       "array([[129, 111],\n",
       "       [ 41, 154]], dtype=int64)"
      ]
     },
     "execution_count": 203,
     "metadata": {},
     "output_type": "execute_result"
    }
   ],
   "source": [
    "from sklearn.metrics import confusion_matrix\n",
    "matrix = confusion_matrix(y_test.astype(int), y_pred_keras.astype(int), labels=[1,0])\n",
    "matrix"
   ]
  },
  {
   "cell_type": "code",
   "execution_count": 204,
   "id": "236b0332",
   "metadata": {},
   "outputs": [
    {
     "data": {
      "text/plain": [
       "(0.21025641025641026, 0.5375)"
      ]
     },
     "execution_count": 204,
     "metadata": {},
     "output_type": "execute_result"
    }
   ],
   "source": [
    "tpr = matrix[0,0] / (matrix[0,0] + matrix[0,1]*1.0)\n",
    "fpr = matrix[1,0] / (matrix[1,0] + matrix[1,1]*1.0)\n",
    "pt = (fpr, tpr)\n",
    "pt"
   ]
  },
  {
   "cell_type": "code",
   "execution_count": 209,
   "id": "dbfb97fc",
   "metadata": {},
   "outputs": [
    {
     "data": {
      "image/png": "[encoded data removed]",
      "text/plain": [
       "<Figure size 288x216 with 1 Axes>"
      ]
     },
     "metadata": {},
     "output_type": "display_data"
    }
   ],
   "source": [
    "import seaborn as sns\n",
    "sns.set_style(\"whitegrid\")\n",
    "sns.color_palette(\"flare\", as_cmap=True)\n",
    "\n",
    "plt.figure(figsize=(4, 3))\n",
    "plt.plot([0, 1], [0, 1], 'k--', color='gray', zorder = -10)\n",
    "plt.scatter([fpr], [tpr], marker='o', color='sienna', zorder = 10, s = 60)\n",
    "plt.plot(fpr_keras, tpr_keras, color='orange', label = f\"AUC={auc_keras:.2f}\")\n",
    "plt.xlabel('False Positive Rate')\n",
    "plt.ylabel('True Positive Rate')\n",
    "plt.title('ROC-AUC Curve NN', fontsize=14)\n",
    "plt.legend(loc='best')\n",
    "plt.tight_layout()\n",
    "plt.savefig(\"roc-curve-nn.png\", dpi=500)\n",
    "plt.show()"
   ]
  },
  {
   "cell_type": "code",
   "execution_count": null,
   "id": "99dbc9ef",
   "metadata": {},
   "outputs": [],
   "source": []
  }
 ],
 "metadata": {
  "kernelspec": {
   "display_name": "Python 3",
   "language": "python",
   "name": "python3"
  },
  "language_info": {
   "codemirror_mode": {
    "name": "ipython",
    "version": 3
   },
   "file_extension": ".py",
   "mimetype": "text/x-python",
   "name": "python",
   "nbconvert_exporter": "python",
   "pygments_lexer": "ipython3",
   "version": "3.8.8"
  }
 },
 "nbformat": 4,
 "nbformat_minor": 5
}
