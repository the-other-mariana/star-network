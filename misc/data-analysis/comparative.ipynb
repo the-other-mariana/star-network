{
 "cells": [
  {
   "cell_type": "markdown",
   "id": "9d5c61fe",
   "metadata": {},
   "source": [
    "## Multilayer perceptron"
   ]
  },
  {
   "cell_type": "code",
   "execution_count": 1,
   "id": "800f7769",
   "metadata": {},
   "outputs": [],
   "source": [
    "import numpy as np\n",
    "import pandas as pd\n",
    "import matplotlib.pyplot as plt\n",
    "from keras.models import Sequential\n",
    "from keras.layers import Dense # dense is all neurons connected to all next layer neurons\n",
    "from keras.layers import Dropout\n",
    "from keras.wrappers.scikit_learn import KerasClassifier\n",
    "from keras.constraints import maxnorm\n",
    "from sklearn.model_selection import cross_val_score\n",
    "from sklearn.preprocessing import LabelEncoder\n",
    "from sklearn.model_selection import StratifiedKFold\n",
    "from sklearn.preprocessing import StandardScaler\n",
    "from sklearn.pipeline import Pipeline"
   ]
  },
  {
   "cell_type": "code",
   "execution_count": 78,
   "id": "69227fa2",
   "metadata": {},
   "outputs": [
    {
     "data": {
      "text/plain": [
       "(33543, 35)"
      ]
     },
     "execution_count": 78,
     "metadata": {},
     "output_type": "execute_result"
    }
   ],
   "source": [
    "db = pd.read_csv('db.csv', low_memory=False)\n",
    "db.shape"
   ]
  },
  {
   "cell_type": "code",
   "execution_count": 79,
   "id": "e7d20510",
   "metadata": {},
   "outputs": [
    {
     "data": {
      "text/plain": [
       "Index(['Unnamed: 0', 'FCS', 'CORR', 'BUFF_OVERFLOW', 'GENERIC', 'PCKT_NUM',\n",
       "       'TIME(MS)', 'LENGTH', 'PAYLOAD', 'RSSI', 'CRC_OK', 'FRAME_TYPE',\n",
       "       'SECURITY_ENABLED', 'FRAME_PENDING', 'ACKNOWLEDGE_REQ',\n",
       "       'PAN_COMPRESSION', 'DEST_PAN', 'DEST_ADD', 'SRC_PAN', 'SRC_ADD', 'DATA',\n",
       "       'CMD', 'ACK', '1_OCT_HEADER', 'CSL_WAKEUP', 'CSL_SECURE_ACK',\n",
       "       'RFID_BLINK', 'BCN', 'TEST_TYPE', 'CONTROL', 'DOUBLENETWORK', 'ELECTRO',\n",
       "       'NORMAL', 'VIENTO', 'WIRELESS'],\n",
       "      dtype='object')"
      ]
     },
     "execution_count": 79,
     "metadata": {},
     "output_type": "execute_result"
    }
   ],
   "source": [
    "db.columns"
   ]
  },
  {
   "cell_type": "code",
   "execution_count": 80,
   "id": "a920a58c",
   "metadata": {},
   "outputs": [
    {
     "data": {
      "text/html": [
       "<div>\n",
       "<style scoped>\n",
       "    .dataframe tbody tr th:only-of-type {\n",
       "        vertical-align: middle;\n",
       "    }\n",
       "\n",
       "    .dataframe tbody tr th {\n",
       "        vertical-align: top;\n",
       "    }\n",
       "\n",
       "    .dataframe thead th {\n",
       "        text-align: right;\n",
       "    }\n",
       "</style>\n",
       "<table border=\"1\" class=\"dataframe\">\n",
       "  <thead>\n",
       "    <tr style=\"text-align: right;\">\n",
       "      <th></th>\n",
       "      <th>FCS</th>\n",
       "      <th>CORR</th>\n",
       "      <th>BUFF_OVERFLOW</th>\n",
       "      <th>GENERIC</th>\n",
       "      <th>PCKT_NUM</th>\n",
       "      <th>TIME(MS)</th>\n",
       "      <th>LENGTH</th>\n",
       "      <th>PAYLOAD</th>\n",
       "      <th>RSSI</th>\n",
       "      <th>CRC_OK</th>\n",
       "      <th>...</th>\n",
       "      <th>CSL_SECURE_ACK</th>\n",
       "      <th>RFID_BLINK</th>\n",
       "      <th>BCN</th>\n",
       "      <th>TEST_TYPE</th>\n",
       "      <th>CONTROL</th>\n",
       "      <th>DOUBLENETWORK</th>\n",
       "      <th>ELECTRO</th>\n",
       "      <th>NORMAL</th>\n",
       "      <th>VIENTO</th>\n",
       "      <th>WIRELESS</th>\n",
       "    </tr>\n",
       "  </thead>\n",
       "  <tbody>\n",
       "    <tr>\n",
       "      <th>0</th>\n",
       "      <td>1</td>\n",
       "      <td>1</td>\n",
       "      <td>0</td>\n",
       "      <td>0</td>\n",
       "      <td>1</td>\n",
       "      <td>0.000000</td>\n",
       "      <td>11</td>\n",
       "      <td>NaN</td>\n",
       "      <td>-98.0</td>\n",
       "      <td>1.0</td>\n",
       "      <td>...</td>\n",
       "      <td>0</td>\n",
       "      <td>0</td>\n",
       "      <td>0</td>\n",
       "      <td>control</td>\n",
       "      <td>1</td>\n",
       "      <td>0</td>\n",
       "      <td>0</td>\n",
       "      <td>0</td>\n",
       "      <td>0</td>\n",
       "      <td>0</td>\n",
       "    </tr>\n",
       "    <tr>\n",
       "      <th>1</th>\n",
       "      <td>1</td>\n",
       "      <td>1</td>\n",
       "      <td>0</td>\n",
       "      <td>0</td>\n",
       "      <td>2</td>\n",
       "      <td>16751.182375</td>\n",
       "      <td>11</td>\n",
       "      <td>NaN</td>\n",
       "      <td>-99.0</td>\n",
       "      <td>1.0</td>\n",
       "      <td>...</td>\n",
       "      <td>0</td>\n",
       "      <td>0</td>\n",
       "      <td>0</td>\n",
       "      <td>control</td>\n",
       "      <td>1</td>\n",
       "      <td>0</td>\n",
       "      <td>0</td>\n",
       "      <td>0</td>\n",
       "      <td>0</td>\n",
       "      <td>0</td>\n",
       "    </tr>\n",
       "    <tr>\n",
       "      <th>2</th>\n",
       "      <td>1</td>\n",
       "      <td>1</td>\n",
       "      <td>0</td>\n",
       "      <td>0</td>\n",
       "      <td>3</td>\n",
       "      <td>1.070000</td>\n",
       "      <td>14</td>\n",
       "      <td>NaN</td>\n",
       "      <td>-90.0</td>\n",
       "      <td>1.0</td>\n",
       "      <td>...</td>\n",
       "      <td>0</td>\n",
       "      <td>0</td>\n",
       "      <td>1</td>\n",
       "      <td>control</td>\n",
       "      <td>1</td>\n",
       "      <td>0</td>\n",
       "      <td>0</td>\n",
       "      <td>0</td>\n",
       "      <td>0</td>\n",
       "      <td>0</td>\n",
       "    </tr>\n",
       "    <tr>\n",
       "      <th>3</th>\n",
       "      <td>1</td>\n",
       "      <td>1</td>\n",
       "      <td>0</td>\n",
       "      <td>0</td>\n",
       "      <td>4</td>\n",
       "      <td>652.697750</td>\n",
       "      <td>11</td>\n",
       "      <td>NaN</td>\n",
       "      <td>-91.0</td>\n",
       "      <td>1.0</td>\n",
       "      <td>...</td>\n",
       "      <td>0</td>\n",
       "      <td>0</td>\n",
       "      <td>0</td>\n",
       "      <td>control</td>\n",
       "      <td>1</td>\n",
       "      <td>0</td>\n",
       "      <td>0</td>\n",
       "      <td>0</td>\n",
       "      <td>0</td>\n",
       "      <td>0</td>\n",
       "    </tr>\n",
       "    <tr>\n",
       "      <th>4</th>\n",
       "      <td>1</td>\n",
       "      <td>1</td>\n",
       "      <td>0</td>\n",
       "      <td>0</td>\n",
       "      <td>5</td>\n",
       "      <td>2.006625</td>\n",
       "      <td>14</td>\n",
       "      <td>NaN</td>\n",
       "      <td>-90.0</td>\n",
       "      <td>1.0</td>\n",
       "      <td>...</td>\n",
       "      <td>0</td>\n",
       "      <td>0</td>\n",
       "      <td>1</td>\n",
       "      <td>control</td>\n",
       "      <td>1</td>\n",
       "      <td>0</td>\n",
       "      <td>0</td>\n",
       "      <td>0</td>\n",
       "      <td>0</td>\n",
       "      <td>0</td>\n",
       "    </tr>\n",
       "  </tbody>\n",
       "</table>\n",
       "<p>5 rows × 34 columns</p>\n",
       "</div>"
      ],
      "text/plain": [
       "   FCS  CORR  BUFF_OVERFLOW  GENERIC  PCKT_NUM      TIME(MS)  LENGTH  PAYLOAD  \\\n",
       "0    1     1              0        0         1      0.000000      11      NaN   \n",
       "1    1     1              0        0         2  16751.182375      11      NaN   \n",
       "2    1     1              0        0         3      1.070000      14      NaN   \n",
       "3    1     1              0        0         4    652.697750      11      NaN   \n",
       "4    1     1              0        0         5      2.006625      14      NaN   \n",
       "\n",
       "   RSSI  CRC_OK  ... CSL_SECURE_ACK  RFID_BLINK  BCN  TEST_TYPE  CONTROL  \\\n",
       "0 -98.0     1.0  ...              0           0    0    control        1   \n",
       "1 -99.0     1.0  ...              0           0    0    control        1   \n",
       "2 -90.0     1.0  ...              0           0    1    control        1   \n",
       "3 -91.0     1.0  ...              0           0    0    control        1   \n",
       "4 -90.0     1.0  ...              0           0    1    control        1   \n",
       "\n",
       "  DOUBLENETWORK ELECTRO NORMAL VIENTO  WIRELESS  \n",
       "0             0       0      0      0         0  \n",
       "1             0       0      0      0         0  \n",
       "2             0       0      0      0         0  \n",
       "3             0       0      0      0         0  \n",
       "4             0       0      0      0         0  \n",
       "\n",
       "[5 rows x 34 columns]"
      ]
     },
     "execution_count": 80,
     "metadata": {},
     "output_type": "execute_result"
    }
   ],
   "source": [
    "db = db.drop(['Unnamed: 0'], axis = 1)\n",
    "db.head()"
   ]
  },
  {
   "cell_type": "code",
   "execution_count": 81,
   "id": "338c01f1",
   "metadata": {},
   "outputs": [
    {
     "data": {
      "text/plain": [
       "0        1.0\n",
       "1        1.0\n",
       "2        1.0\n",
       "3        1.0\n",
       "4        1.0\n",
       "        ... \n",
       "33538    1.0\n",
       "33539    0.0\n",
       "33540    0.0\n",
       "33541    1.0\n",
       "33542    1.0\n",
       "Name: CRC_OK, Length: 33543, dtype: float64"
      ]
     },
     "execution_count": 81,
     "metadata": {},
     "output_type": "execute_result"
    }
   ],
   "source": [
    "ignore = ['PAYLOAD', 'CRC_OK', 'FRAME_TYPE', 'DEST_PAN', 'DEST_ADD', 'SRC_PAN', 'SRC_ADD', 'TEST_TYPE', 'BUFF_OVERFLOW',\n",
    "          'FCS', 'GENERIC']\n",
    "y = db['CRC_OK']\n",
    "y"
   ]
  },
  {
   "cell_type": "code",
   "execution_count": 82,
   "id": "9031c3f2",
   "metadata": {},
   "outputs": [
    {
     "data": {
      "text/html": [
       "<div>\n",
       "<style scoped>\n",
       "    .dataframe tbody tr th:only-of-type {\n",
       "        vertical-align: middle;\n",
       "    }\n",
       "\n",
       "    .dataframe tbody tr th {\n",
       "        vertical-align: top;\n",
       "    }\n",
       "\n",
       "    .dataframe thead th {\n",
       "        text-align: right;\n",
       "    }\n",
       "</style>\n",
       "<table border=\"1\" class=\"dataframe\">\n",
       "  <thead>\n",
       "    <tr style=\"text-align: right;\">\n",
       "      <th></th>\n",
       "      <th>CORR</th>\n",
       "      <th>PCKT_NUM</th>\n",
       "      <th>TIME(MS)</th>\n",
       "      <th>LENGTH</th>\n",
       "      <th>RSSI</th>\n",
       "      <th>SECURITY_ENABLED</th>\n",
       "      <th>FRAME_PENDING</th>\n",
       "      <th>ACKNOWLEDGE_REQ</th>\n",
       "      <th>PAN_COMPRESSION</th>\n",
       "      <th>DATA</th>\n",
       "      <th>...</th>\n",
       "      <th>CSL_SECURE_ACK</th>\n",
       "      <th>RFID_BLINK</th>\n",
       "      <th>BCN</th>\n",
       "      <th>CONTROL</th>\n",
       "      <th>DOUBLENETWORK</th>\n",
       "      <th>ELECTRO</th>\n",
       "      <th>NORMAL</th>\n",
       "      <th>VIENTO</th>\n",
       "      <th>WIRELESS</th>\n",
       "      <th>OK</th>\n",
       "    </tr>\n",
       "  </thead>\n",
       "  <tbody>\n",
       "    <tr>\n",
       "      <th>0</th>\n",
       "      <td>1</td>\n",
       "      <td>1</td>\n",
       "      <td>0.000000</td>\n",
       "      <td>11</td>\n",
       "      <td>-98.0</td>\n",
       "      <td>0.0</td>\n",
       "      <td>0.0</td>\n",
       "      <td>0.0</td>\n",
       "      <td>0.0</td>\n",
       "      <td>0</td>\n",
       "      <td>...</td>\n",
       "      <td>0</td>\n",
       "      <td>0</td>\n",
       "      <td>0</td>\n",
       "      <td>1</td>\n",
       "      <td>0</td>\n",
       "      <td>0</td>\n",
       "      <td>0</td>\n",
       "      <td>0</td>\n",
       "      <td>0</td>\n",
       "      <td>1.0</td>\n",
       "    </tr>\n",
       "    <tr>\n",
       "      <th>1</th>\n",
       "      <td>1</td>\n",
       "      <td>2</td>\n",
       "      <td>16751.182375</td>\n",
       "      <td>11</td>\n",
       "      <td>-99.0</td>\n",
       "      <td>0.0</td>\n",
       "      <td>0.0</td>\n",
       "      <td>0.0</td>\n",
       "      <td>0.0</td>\n",
       "      <td>0</td>\n",
       "      <td>...</td>\n",
       "      <td>0</td>\n",
       "      <td>0</td>\n",
       "      <td>0</td>\n",
       "      <td>1</td>\n",
       "      <td>0</td>\n",
       "      <td>0</td>\n",
       "      <td>0</td>\n",
       "      <td>0</td>\n",
       "      <td>0</td>\n",
       "      <td>1.0</td>\n",
       "    </tr>\n",
       "    <tr>\n",
       "      <th>2</th>\n",
       "      <td>1</td>\n",
       "      <td>3</td>\n",
       "      <td>1.070000</td>\n",
       "      <td>14</td>\n",
       "      <td>-90.0</td>\n",
       "      <td>0.0</td>\n",
       "      <td>0.0</td>\n",
       "      <td>0.0</td>\n",
       "      <td>0.0</td>\n",
       "      <td>0</td>\n",
       "      <td>...</td>\n",
       "      <td>0</td>\n",
       "      <td>0</td>\n",
       "      <td>1</td>\n",
       "      <td>1</td>\n",
       "      <td>0</td>\n",
       "      <td>0</td>\n",
       "      <td>0</td>\n",
       "      <td>0</td>\n",
       "      <td>0</td>\n",
       "      <td>1.0</td>\n",
       "    </tr>\n",
       "    <tr>\n",
       "      <th>3</th>\n",
       "      <td>1</td>\n",
       "      <td>4</td>\n",
       "      <td>652.697750</td>\n",
       "      <td>11</td>\n",
       "      <td>-91.0</td>\n",
       "      <td>0.0</td>\n",
       "      <td>0.0</td>\n",
       "      <td>0.0</td>\n",
       "      <td>0.0</td>\n",
       "      <td>0</td>\n",
       "      <td>...</td>\n",
       "      <td>0</td>\n",
       "      <td>0</td>\n",
       "      <td>0</td>\n",
       "      <td>1</td>\n",
       "      <td>0</td>\n",
       "      <td>0</td>\n",
       "      <td>0</td>\n",
       "      <td>0</td>\n",
       "      <td>0</td>\n",
       "      <td>1.0</td>\n",
       "    </tr>\n",
       "    <tr>\n",
       "      <th>4</th>\n",
       "      <td>1</td>\n",
       "      <td>5</td>\n",
       "      <td>2.006625</td>\n",
       "      <td>14</td>\n",
       "      <td>-90.0</td>\n",
       "      <td>0.0</td>\n",
       "      <td>0.0</td>\n",
       "      <td>0.0</td>\n",
       "      <td>0.0</td>\n",
       "      <td>0</td>\n",
       "      <td>...</td>\n",
       "      <td>0</td>\n",
       "      <td>0</td>\n",
       "      <td>1</td>\n",
       "      <td>1</td>\n",
       "      <td>0</td>\n",
       "      <td>0</td>\n",
       "      <td>0</td>\n",
       "      <td>0</td>\n",
       "      <td>0</td>\n",
       "      <td>1.0</td>\n",
       "    </tr>\n",
       "  </tbody>\n",
       "</table>\n",
       "<p>5 rows × 24 columns</p>\n",
       "</div>"
      ],
      "text/plain": [
       "   CORR  PCKT_NUM      TIME(MS)  LENGTH  RSSI  SECURITY_ENABLED  \\\n",
       "0     1         1      0.000000      11 -98.0               0.0   \n",
       "1     1         2  16751.182375      11 -99.0               0.0   \n",
       "2     1         3      1.070000      14 -90.0               0.0   \n",
       "3     1         4    652.697750      11 -91.0               0.0   \n",
       "4     1         5      2.006625      14 -90.0               0.0   \n",
       "\n",
       "   FRAME_PENDING  ACKNOWLEDGE_REQ  PAN_COMPRESSION  DATA  ...  CSL_SECURE_ACK  \\\n",
       "0            0.0              0.0              0.0     0  ...               0   \n",
       "1            0.0              0.0              0.0     0  ...               0   \n",
       "2            0.0              0.0              0.0     0  ...               0   \n",
       "3            0.0              0.0              0.0     0  ...               0   \n",
       "4            0.0              0.0              0.0     0  ...               0   \n",
       "\n",
       "   RFID_BLINK  BCN  CONTROL  DOUBLENETWORK  ELECTRO  NORMAL  VIENTO  WIRELESS  \\\n",
       "0           0    0        1              0        0       0       0         0   \n",
       "1           0    0        1              0        0       0       0         0   \n",
       "2           0    1        1              0        0       0       0         0   \n",
       "3           0    0        1              0        0       0       0         0   \n",
       "4           0    1        1              0        0       0       0         0   \n",
       "\n",
       "    OK  \n",
       "0  1.0  \n",
       "1  1.0  \n",
       "2  1.0  \n",
       "3  1.0  \n",
       "4  1.0  \n",
       "\n",
       "[5 rows x 24 columns]"
      ]
     },
     "execution_count": 82,
     "metadata": {},
     "output_type": "execute_result"
    }
   ],
   "source": [
    "numdb = db.drop(ignore, axis = 1)\n",
    "d = pd.DataFrame({'OK':y.values})\n",
    "numdb = pd.concat([numdb, d], axis=1)\n",
    "numdb.head()"
   ]
  },
  {
   "cell_type": "code",
   "execution_count": 83,
   "id": "62b5d2da",
   "metadata": {},
   "outputs": [],
   "source": [
    "mean_rssi = int(numdb['RSSI'].mean())\n",
    "numdb['RSSI'] = numdb['RSSI'].fillna(mean_rssi)"
   ]
  },
  {
   "cell_type": "code",
   "execution_count": 84,
   "id": "993dc5d8",
   "metadata": {},
   "outputs": [],
   "source": [
    "numdb['SECURITY_ENABLED'] = numdb['SECURITY_ENABLED'].fillna(0)\n",
    "numdb['FRAME_PENDING'] = numdb['FRAME_PENDING'].fillna(0)\n",
    "numdb['ACKNOWLEDGE_REQ'] = numdb['ACKNOWLEDGE_REQ'].fillna(0)\n",
    "numdb['PAN_COMPRESSION'] = numdb['PAN_COMPRESSION'].fillna(0)\n",
    "numdb['OK'] = numdb['OK'].fillna(0)"
   ]
  },
  {
   "cell_type": "code",
   "execution_count": 85,
   "id": "97ebb28a",
   "metadata": {},
   "outputs": [
    {
     "data": {
      "text/html": [
       "<div>\n",
       "<style scoped>\n",
       "    .dataframe tbody tr th:only-of-type {\n",
       "        vertical-align: middle;\n",
       "    }\n",
       "\n",
       "    .dataframe tbody tr th {\n",
       "        vertical-align: top;\n",
       "    }\n",
       "\n",
       "    .dataframe thead th {\n",
       "        text-align: right;\n",
       "    }\n",
       "</style>\n",
       "<table border=\"1\" class=\"dataframe\">\n",
       "  <thead>\n",
       "    <tr style=\"text-align: right;\">\n",
       "      <th></th>\n",
       "      <th>CORR</th>\n",
       "      <th>PCKT_NUM</th>\n",
       "      <th>TIME(MS)</th>\n",
       "      <th>LENGTH</th>\n",
       "      <th>RSSI</th>\n",
       "      <th>SECURITY_ENABLED</th>\n",
       "      <th>FRAME_PENDING</th>\n",
       "      <th>ACKNOWLEDGE_REQ</th>\n",
       "      <th>PAN_COMPRESSION</th>\n",
       "      <th>DATA</th>\n",
       "      <th>...</th>\n",
       "      <th>CSL_SECURE_ACK</th>\n",
       "      <th>RFID_BLINK</th>\n",
       "      <th>BCN</th>\n",
       "      <th>CONTROL</th>\n",
       "      <th>DOUBLENETWORK</th>\n",
       "      <th>ELECTRO</th>\n",
       "      <th>NORMAL</th>\n",
       "      <th>VIENTO</th>\n",
       "      <th>WIRELESS</th>\n",
       "      <th>OK</th>\n",
       "    </tr>\n",
       "  </thead>\n",
       "  <tbody>\n",
       "  </tbody>\n",
       "</table>\n",
       "<p>0 rows × 24 columns</p>\n",
       "</div>"
      ],
      "text/plain": [
       "Empty DataFrame\n",
       "Columns: [CORR, PCKT_NUM, TIME(MS), LENGTH, RSSI, SECURITY_ENABLED, FRAME_PENDING, ACKNOWLEDGE_REQ, PAN_COMPRESSION, DATA, CMD, ACK, 1_OCT_HEADER, CSL_WAKEUP, CSL_SECURE_ACK, RFID_BLINK, BCN, CONTROL, DOUBLENETWORK, ELECTRO, NORMAL, VIENTO, WIRELESS, OK]\n",
       "Index: []\n",
       "\n",
       "[0 rows x 24 columns]"
      ]
     },
     "execution_count": 85,
     "metadata": {},
     "output_type": "execute_result"
    }
   ],
   "source": [
    "numdb[numdb.isna().any(axis=1)]"
   ]
  },
  {
   "cell_type": "code",
   "execution_count": 86,
   "id": "153616fb",
   "metadata": {},
   "outputs": [
    {
     "data": {
      "text/plain": [
       "0        1.0\n",
       "1        1.0\n",
       "2        1.0\n",
       "3        1.0\n",
       "4        1.0\n",
       "        ... \n",
       "33538    1.0\n",
       "33539    0.0\n",
       "33540    0.0\n",
       "33541    1.0\n",
       "33542    1.0\n",
       "Name: OK, Length: 33543, dtype: float64"
      ]
     },
     "execution_count": 86,
     "metadata": {},
     "output_type": "execute_result"
    }
   ],
   "source": [
    "xdb = numdb.drop(['OK'], axis = 1)\n",
    "y = numdb['OK']\n",
    "y"
   ]
  },
  {
   "cell_type": "code",
   "execution_count": 87,
   "id": "08aeda55",
   "metadata": {},
   "outputs": [
    {
     "data": {
      "text/plain": [
       "23"
      ]
     },
     "execution_count": 87,
     "metadata": {},
     "output_type": "execute_result"
    }
   ],
   "source": [
    "X = xdb.to_numpy()\n",
    "len(X[0]) # n features"
   ]
  },
  {
   "cell_type": "code",
   "execution_count": 88,
   "id": "f02c855a",
   "metadata": {},
   "outputs": [
    {
     "name": "stdout",
     "output_type": "stream",
     "text": [
      "33543 23\n"
     ]
    }
   ],
   "source": [
    "n_samples, n_features = X.shape\n",
    "print(n_samples, n_features)"
   ]
  },
  {
   "cell_type": "code",
   "execution_count": 89,
   "id": "5c45c700",
   "metadata": {},
   "outputs": [],
   "source": [
    "X = X.astype(float)"
   ]
  },
  {
   "cell_type": "code",
   "execution_count": 90,
   "id": "12a3b79f",
   "metadata": {},
   "outputs": [
    {
     "data": {
      "text/plain": [
       "array([1., 1., 1., ..., 0., 1., 1.])"
      ]
     },
     "execution_count": 90,
     "metadata": {},
     "output_type": "execute_result"
    }
   ],
   "source": [
    "y = y.values\n",
    "y"
   ]
  },
  {
   "cell_type": "code",
   "execution_count": 91,
   "id": "d46bd21c",
   "metadata": {},
   "outputs": [
    {
     "data": {
      "text/plain": [
       "33543"
      ]
     },
     "execution_count": 91,
     "metadata": {},
     "output_type": "execute_result"
    }
   ],
   "source": [
    "len(y)"
   ]
  },
  {
   "cell_type": "code",
   "execution_count": 92,
   "id": "81dae312",
   "metadata": {},
   "outputs": [
    {
     "data": {
      "text/plain": [
       "(658, 24)"
      ]
     },
     "execution_count": 92,
     "metadata": {},
     "output_type": "execute_result"
    }
   ],
   "source": [
    "err = numdb[numdb['OK'] != 1]\n",
    "err.shape"
   ]
  },
  {
   "cell_type": "code",
   "execution_count": 93,
   "id": "7db85030",
   "metadata": {},
   "outputs": [
    {
     "data": {
      "text/plain": [
       "array([[1.00000000e+00, 2.68500000e+03, 7.67750000e-01, ...,\n",
       "        0.00000000e+00, 0.00000000e+00, 1.00000000e+00],\n",
       "       [1.00000000e+00, 4.65100000e+03, 7.67625000e-01, ...,\n",
       "        0.00000000e+00, 0.00000000e+00, 0.00000000e+00],\n",
       "       [1.00000000e+00, 4.65100000e+03, 3.49300375e+02, ...,\n",
       "        0.00000000e+00, 0.00000000e+00, 0.00000000e+00],\n",
       "       ...,\n",
       "       [1.00000000e+00, 2.29300000e+03, 1.69250000e+00, ...,\n",
       "        0.00000000e+00, 0.00000000e+00, 0.00000000e+00],\n",
       "       [1.00000000e+00, 3.89400000e+03, 7.67750000e-01, ...,\n",
       "        0.00000000e+00, 0.00000000e+00, 0.00000000e+00],\n",
       "       [0.00000000e+00, 0.00000000e+00, 0.00000000e+00, ...,\n",
       "        0.00000000e+00, 0.00000000e+00, 0.00000000e+00]])"
      ]
     },
     "execution_count": 93,
     "metadata": {},
     "output_type": "execute_result"
    }
   ],
   "source": [
    "import random\n",
    "num_err = err.shape[0]\n",
    "indices = list(err.index)\n",
    "ok = numdb[numdb['OK'] != 0]\n",
    "num_ok = ok.shape[0]\n",
    "rows = 0\n",
    "visited = []\n",
    "x_bal_ok = np.zeros((err.shape[0], err.shape[1]-1), dtype=float)\n",
    "while(rows < (num_err-1)):\n",
    "    r = random.randint(0, numdb.shape[0]-1)\n",
    "    if r not in visited and r not in indices and r < (len(ok)-1):\n",
    "        # without ok\n",
    "        row = ok.values[r, :-1]\n",
    "        x_bal_ok[rows, :] = row\n",
    "        visited.append(r)\n",
    "        rows += 1\n",
    "x_bal_ok"
   ]
  },
  {
   "cell_type": "code",
   "execution_count": 94,
   "id": "76e388d3",
   "metadata": {},
   "outputs": [
    {
     "data": {
      "text/plain": [
       "(658, 23)"
      ]
     },
     "execution_count": 94,
     "metadata": {},
     "output_type": "execute_result"
    }
   ],
   "source": [
    "x_bal_ok.shape"
   ]
  },
  {
   "cell_type": "code",
   "execution_count": 95,
   "id": "f429720f",
   "metadata": {},
   "outputs": [],
   "source": [
    "x_bal = np.zeros((err.shape[0]*2, err.shape[1]-1), dtype=float)\n",
    "y_bal = np.zeros(err.shape[0]*2, dtype=float)\n",
    "x_bal[0:err.shape[0],:] = err.values[:,:-1]\n",
    "y_bal[0:err.shape[0]] = 1.0\n",
    "x_bal[err.shape[0]:,:] = x_bal_ok\n",
    "y_bal[err.shape[0]:] = 0.0"
   ]
  },
  {
   "cell_type": "code",
   "execution_count": 96,
   "id": "b4e587af",
   "metadata": {},
   "outputs": [],
   "source": [
    "def create_model():\n",
    "    model = Sequential()\n",
    "    model.add(Dense(n_features, input_dim=n_features, activation='relu'))\n",
    "    model.add(Dropout(0.2))\n",
    "    model.add(Dense(4))\n",
    "    model.add(Dropout(0.2))\n",
    "    model.add(Dense(1, activation='sigmoid'))\n",
    "    model.compile(loss='mse', metrics=['mse'])\n",
    "    model.summary()\n",
    "    return model"
   ]
  },
  {
   "cell_type": "code",
   "execution_count": 97,
   "id": "b6859dbf",
   "metadata": {},
   "outputs": [],
   "source": [
    "from sklearn.model_selection import train_test_split\n",
    "X_train, X_test, y_train, y_test = train_test_split(x_bal, y_bal, test_size=0.33)"
   ]
  },
  {
   "cell_type": "code",
   "execution_count": 99,
   "id": "2c484441",
   "metadata": {},
   "outputs": [
    {
     "name": "stdout",
     "output_type": "stream",
     "text": [
      "Model: \"sequential_3\"\n",
      "_________________________________________________________________\n",
      " Layer (type)                Output Shape              Param #   \n",
      "=================================================================\n",
      " dense_9 (Dense)             (None, 23)                552       \n",
      "                                                                 \n",
      " dropout_6 (Dropout)         (None, 23)                0         \n",
      "                                                                 \n",
      " dense_10 (Dense)            (None, 4)                 96        \n",
      "                                                                 \n",
      " dropout_7 (Dropout)         (None, 4)                 0         \n",
      "                                                                 \n",
      " dense_11 (Dense)            (None, 1)                 5         \n",
      "                                                                 \n",
      "=================================================================\n",
      "Total params: 653\n",
      "Trainable params: 653\n",
      "Non-trainable params: 0\n",
      "_________________________________________________________________\n",
      "Epoch 1/100\n",
      "177/177 [==============================] - 1s 1ms/step - loss: 0.5145 - mse: 0.5145\n",
      "Epoch 2/100\n",
      "177/177 [==============================] - 0s 1ms/step - loss: 0.5029 - mse: 0.5029\n",
      "Epoch 3/100\n",
      "177/177 [==============================] - 0s 1ms/step - loss: 0.4906 - mse: 0.4906\n",
      "Epoch 4/100\n",
      "177/177 [==============================] - 0s 1ms/step - loss: 0.4988 - mse: 0.4988\n",
      "Epoch 5/100\n",
      "177/177 [==============================] - 0s 1ms/step - loss: 0.5029 - mse: 0.5029\n",
      "Epoch 6/100\n",
      "177/177 [==============================] - 0s 1ms/step - loss: 0.4822 - mse: 0.4822\n",
      "Epoch 7/100\n",
      "177/177 [==============================] - 0s 1ms/step - loss: 0.4856 - mse: 0.4856\n",
      "Epoch 8/100\n",
      "177/177 [==============================] - 0s 1ms/step - loss: 0.5052 - mse: 0.5052\n",
      "Epoch 9/100\n",
      "177/177 [==============================] - 0s 1ms/step - loss: 0.4975 - mse: 0.4975\n",
      "Epoch 10/100\n",
      "177/177 [==============================] - 0s 1ms/step - loss: 0.4879 - mse: 0.4879\n",
      "Epoch 11/100\n",
      "177/177 [==============================] - 0s 1ms/step - loss: 0.4953 - mse: 0.4953\n",
      "Epoch 12/100\n",
      "177/177 [==============================] - 0s 1ms/step - loss: 0.4999 - mse: 0.4999\n",
      "Epoch 13/100\n",
      "177/177 [==============================] - 0s 1ms/step - loss: 0.4977 - mse: 0.4977\n",
      "Epoch 14/100\n",
      "177/177 [==============================] - 0s 1ms/step - loss: 0.5082 - mse: 0.5082\n",
      "Epoch 15/100\n",
      "177/177 [==============================] - 0s 1ms/step - loss: 0.4789 - mse: 0.4789\n",
      "Epoch 16/100\n",
      "177/177 [==============================] - 0s 1ms/step - loss: 0.4955 - mse: 0.4955\n",
      "Epoch 17/100\n",
      "177/177 [==============================] - 0s 1ms/step - loss: 0.4966 - mse: 0.4966\n",
      "Epoch 18/100\n",
      "177/177 [==============================] - 0s 1ms/step - loss: 0.4817 - mse: 0.4817\n",
      "Epoch 19/100\n",
      "177/177 [==============================] - 0s 1ms/step - loss: 0.4629 - mse: 0.4629\n",
      "Epoch 20/100\n",
      "177/177 [==============================] - 0s 1ms/step - loss: 0.4526 - mse: 0.4526\n",
      "Epoch 21/100\n",
      "177/177 [==============================] - 0s 1ms/step - loss: 0.4423 - mse: 0.4423\n",
      "Epoch 22/100\n",
      "177/177 [==============================] - 0s 1ms/step - loss: 0.4825 - mse: 0.4825\n",
      "Epoch 23/100\n",
      "177/177 [==============================] - 0s 1ms/step - loss: 0.4636 - mse: 0.4636\n",
      "Epoch 24/100\n",
      "177/177 [==============================] - 0s 1ms/step - loss: 0.4590 - mse: 0.4590\n",
      "Epoch 25/100\n",
      "177/177 [==============================] - 0s 1ms/step - loss: 0.4562 - mse: 0.4562\n",
      "Epoch 26/100\n",
      "177/177 [==============================] - 0s 1ms/step - loss: 0.4532 - mse: 0.4532\n",
      "Epoch 27/100\n",
      "177/177 [==============================] - 0s 1ms/step - loss: 0.4296 - mse: 0.4296\n",
      "Epoch 28/100\n",
      "177/177 [==============================] - 0s 1ms/step - loss: 0.4477 - mse: 0.4477\n",
      "Epoch 29/100\n",
      "177/177 [==============================] - 0s 1ms/step - loss: 0.4547 - mse: 0.4547\n",
      "Epoch 30/100\n",
      "177/177 [==============================] - 0s 1ms/step - loss: 0.4495 - mse: 0.4495\n",
      "Epoch 31/100\n",
      "177/177 [==============================] - 0s 1ms/step - loss: 0.4536 - mse: 0.4536\n",
      "Epoch 32/100\n",
      "177/177 [==============================] - 0s 1ms/step - loss: 0.4579 - mse: 0.4579\n",
      "Epoch 33/100\n",
      "177/177 [==============================] - 0s 1ms/step - loss: 0.4603 - mse: 0.4603\n",
      "Epoch 34/100\n",
      "177/177 [==============================] - 0s 1ms/step - loss: 0.4412 - mse: 0.4412\n",
      "Epoch 35/100\n",
      "177/177 [==============================] - 0s 1ms/step - loss: 0.4298 - mse: 0.4298\n",
      "Epoch 36/100\n",
      "177/177 [==============================] - 0s 1ms/step - loss: 0.4583 - mse: 0.4583\n",
      "Epoch 37/100\n",
      "177/177 [==============================] - 0s 1ms/step - loss: 0.4534 - mse: 0.4534\n",
      "Epoch 38/100\n",
      "177/177 [==============================] - 0s 1ms/step - loss: 0.4407 - mse: 0.4407\n",
      "Epoch 39/100\n",
      "177/177 [==============================] - 0s 1ms/step - loss: 0.4706 - mse: 0.4706\n",
      "Epoch 40/100\n",
      "177/177 [==============================] - 0s 1ms/step - loss: 0.4278 - mse: 0.4278\n",
      "Epoch 41/100\n",
      "177/177 [==============================] - 0s 1ms/step - loss: 0.4608 - mse: 0.4608\n",
      "Epoch 42/100\n",
      "177/177 [==============================] - 0s 1ms/step - loss: 0.4659 - mse: 0.4659\n",
      "Epoch 43/100\n",
      "177/177 [==============================] - 0s 1ms/step - loss: 0.4497 - mse: 0.4497\n",
      "Epoch 44/100\n",
      "177/177 [==============================] - 0s 1ms/step - loss: 0.4645 - mse: 0.4645\n",
      "Epoch 45/100\n",
      "177/177 [==============================] - 0s 1ms/step - loss: 0.4656 - mse: 0.4656\n",
      "Epoch 46/100\n",
      "177/177 [==============================] - 0s 1ms/step - loss: 0.4594 - mse: 0.4594\n",
      "Epoch 47/100\n",
      "177/177 [==============================] - 0s 1ms/step - loss: 0.4261 - mse: 0.4261\n",
      "Epoch 48/100\n",
      "177/177 [==============================] - 0s 1ms/step - loss: 0.4157 - mse: 0.4157\n",
      "Epoch 49/100\n",
      "177/177 [==============================] - 0s 1ms/step - loss: 0.4420 - mse: 0.4420\n",
      "Epoch 50/100\n",
      "177/177 [==============================] - 0s 1ms/step - loss: 0.3954 - mse: 0.3954\n",
      "Epoch 51/100\n",
      "177/177 [==============================] - 0s 1ms/step - loss: 0.4204 - mse: 0.4204\n",
      "Epoch 52/100\n",
      "177/177 [==============================] - 0s 1ms/step - loss: 0.4290 - mse: 0.4290 \n",
      "Epoch 53/100\n",
      "177/177 [==============================] - 0s 1ms/step - loss: 0.4095 - mse: 0.4095\n",
      "Epoch 54/100\n",
      "177/177 [==============================] - 0s 1ms/step - loss: 0.4489 - mse: 0.4489\n",
      "Epoch 55/100\n",
      "177/177 [==============================] - 0s 1ms/step - loss: 0.4161 - mse: 0.4161\n",
      "Epoch 56/100\n",
      "177/177 [==============================] - 0s 1ms/step - loss: 0.4230 - mse: 0.4230\n",
      "Epoch 57/100\n",
      "177/177 [==============================] - 0s 1ms/step - loss: 0.4110 - mse: 0.4110\n",
      "Epoch 58/100\n",
      "177/177 [==============================] - 0s 1ms/step - loss: 0.4039 - mse: 0.4039\n",
      "Epoch 59/100\n",
      "177/177 [==============================] - 0s 1ms/step - loss: 0.4389 - mse: 0.4389\n",
      "Epoch 60/100\n",
      "177/177 [==============================] - 0s 1ms/step - loss: 0.4056 - mse: 0.4056\n",
      "Epoch 61/100\n",
      "177/177 [==============================] - 0s 1ms/step - loss: 0.4294 - mse: 0.4294\n",
      "Epoch 62/100\n",
      "177/177 [==============================] - 0s 1ms/step - loss: 0.4115 - mse: 0.4115\n",
      "Epoch 63/100\n",
      "177/177 [==============================] - 0s 1ms/step - loss: 0.4146 - mse: 0.4146\n",
      "Epoch 64/100\n",
      "177/177 [==============================] - 0s 1ms/step - loss: 0.4005 - mse: 0.4005\n",
      "Epoch 65/100\n",
      "177/177 [==============================] - 0s 1ms/step - loss: 0.4006 - mse: 0.4006\n",
      "Epoch 66/100\n",
      "177/177 [==============================] - 0s 1ms/step - loss: 0.4349 - mse: 0.4349\n",
      "Epoch 67/100\n",
      "177/177 [==============================] - 0s 1ms/step - loss: 0.3981 - mse: 0.3981\n",
      "Epoch 68/100\n",
      "177/177 [==============================] - 0s 1ms/step - loss: 0.4043 - mse: 0.4043\n",
      "Epoch 69/100\n",
      "177/177 [==============================] - 0s 1ms/step - loss: 0.4058 - mse: 0.4058\n",
      "Epoch 70/100\n",
      "177/177 [==============================] - 0s 1ms/step - loss: 0.3969 - mse: 0.3969\n",
      "Epoch 71/100\n",
      "177/177 [==============================] - 0s 1ms/step - loss: 0.4229 - mse: 0.4229\n",
      "Epoch 72/100\n",
      "177/177 [==============================] - 0s 1ms/step - loss: 0.4153 - mse: 0.4153\n",
      "Epoch 73/100\n",
      "177/177 [==============================] - 0s 1ms/step - loss: 0.4153 - mse: 0.4153\n",
      "Epoch 74/100\n"
     ]
    },
    {
     "name": "stdout",
     "output_type": "stream",
     "text": [
      "177/177 [==============================] - 0s 1ms/step - loss: 0.4297 - mse: 0.4297\n",
      "Epoch 75/100\n",
      "177/177 [==============================] - 0s 1ms/step - loss: 0.4167 - mse: 0.4167\n",
      "Epoch 76/100\n",
      "177/177 [==============================] - 0s 1ms/step - loss: 0.3944 - mse: 0.3944\n",
      "Epoch 77/100\n",
      "177/177 [==============================] - 0s 1ms/step - loss: 0.4127 - mse: 0.4127\n",
      "Epoch 78/100\n",
      "177/177 [==============================] - 0s 1ms/step - loss: 0.3864 - mse: 0.3864\n",
      "Epoch 79/100\n",
      "177/177 [==============================] - 0s 1ms/step - loss: 0.4424 - mse: 0.4424\n",
      "Epoch 80/100\n",
      "177/177 [==============================] - 0s 1ms/step - loss: 0.3929 - mse: 0.3929\n",
      "Epoch 81/100\n",
      "177/177 [==============================] - 0s 1ms/step - loss: 0.4518 - mse: 0.4518\n",
      "Epoch 82/100\n",
      "177/177 [==============================] - 0s 1ms/step - loss: 0.4429 - mse: 0.4429\n",
      "Epoch 83/100\n",
      "177/177 [==============================] - 0s 1ms/step - loss: 0.4194 - mse: 0.4194\n",
      "Epoch 84/100\n",
      "177/177 [==============================] - 0s 1ms/step - loss: 0.4072 - mse: 0.4072\n",
      "Epoch 85/100\n",
      "177/177 [==============================] - 0s 1ms/step - loss: 0.3830 - mse: 0.3830\n",
      "Epoch 86/100\n",
      "177/177 [==============================] - 0s 1ms/step - loss: 0.3831 - mse: 0.3831\n",
      "Epoch 87/100\n",
      "177/177 [==============================] - 0s 1ms/step - loss: 0.3966 - mse: 0.3966\n",
      "Epoch 88/100\n",
      "177/177 [==============================] - 0s 1ms/step - loss: 0.3983 - mse: 0.3983\n",
      "Epoch 89/100\n",
      "177/177 [==============================] - 0s 1ms/step - loss: 0.4026 - mse: 0.4026\n",
      "Epoch 90/100\n",
      "177/177 [==============================] - 0s 1ms/step - loss: 0.4019 - mse: 0.4019\n",
      "Epoch 91/100\n",
      "177/177 [==============================] - 0s 1ms/step - loss: 0.4140 - mse: 0.4140\n",
      "Epoch 92/100\n",
      "177/177 [==============================] - 0s 1ms/step - loss: 0.4125 - mse: 0.4125\n",
      "Epoch 93/100\n",
      "177/177 [==============================] - 0s 1ms/step - loss: 0.4055 - mse: 0.4055\n",
      "Epoch 94/100\n",
      "177/177 [==============================] - 0s 1ms/step - loss: 0.3949 - mse: 0.3949\n",
      "Epoch 95/100\n",
      "177/177 [==============================] - 0s 1ms/step - loss: 0.3942 - mse: 0.3942\n",
      "Epoch 96/100\n",
      "177/177 [==============================] - 0s 1ms/step - loss: 0.3785 - mse: 0.3785\n",
      "Epoch 97/100\n",
      "177/177 [==============================] - 0s 1ms/step - loss: 0.4172 - mse: 0.4172\n",
      "Epoch 98/100\n",
      "177/177 [==============================] - 0s 1ms/step - loss: 0.3910 - mse: 0.3910\n",
      "Epoch 99/100\n",
      "177/177 [==============================] - 0s 1ms/step - loss: 0.4324 - mse: 0.4324\n",
      "Epoch 100/100\n",
      "177/177 [==============================] - 0s 1ms/step - loss: 0.3879 - mse: 0.3879\n"
     ]
    },
    {
     "data": {
      "text/plain": [
       "<keras.callbacks.History at 0x169a82a8ca0>"
      ]
     },
     "execution_count": 99,
     "metadata": {},
     "output_type": "execute_result"
    }
   ],
   "source": [
    "keras_model = create_model()\n",
    "keras_model.fit(X_train, y_train, epochs=100, batch_size=5, verbose=1)"
   ]
  },
  {
   "cell_type": "code",
   "execution_count": 100,
   "id": "2696f09b",
   "metadata": {},
   "outputs": [],
   "source": [
    "from sklearn.metrics import roc_curve\n",
    "from sklearn.metrics import auc\n",
    "\n",
    "y_pred_keras = keras_model.predict(X_test).ravel()\n",
    "fpr_keras, tpr_keras, thresholds_keras = roc_curve(y_test, y_pred_keras)\n",
    "auc_keras = auc(fpr_keras, tpr_keras)"
   ]
  },
  {
   "cell_type": "code",
   "execution_count": 101,
   "id": "b8f21b76",
   "metadata": {},
   "outputs": [
    {
     "data": {
      "text/plain": [
       "0.6276966196704603"
      ]
     },
     "execution_count": 101,
     "metadata": {},
     "output_type": "execute_result"
    }
   ],
   "source": [
    "auc_keras"
   ]
  },
  {
   "cell_type": "code",
   "execution_count": 102,
   "id": "8b88fc27",
   "metadata": {},
   "outputs": [
    {
     "data": {
      "text/plain": [
       "array([[125, 107],\n",
       "       [ 62, 141]], dtype=int64)"
      ]
     },
     "execution_count": 102,
     "metadata": {},
     "output_type": "execute_result"
    }
   ],
   "source": [
    "from sklearn.metrics import confusion_matrix\n",
    "matrix = confusion_matrix(y_test.astype(int), y_pred_keras.astype(int), labels=[1,0])\n",
    "matrix"
   ]
  },
  {
   "cell_type": "code",
   "execution_count": 103,
   "id": "236b0332",
   "metadata": {},
   "outputs": [
    {
     "data": {
      "text/plain": [
       "(0.3054187192118227, 0.5387931034482759)"
      ]
     },
     "execution_count": 103,
     "metadata": {},
     "output_type": "execute_result"
    }
   ],
   "source": [
    "tpr = matrix[0,0] / (matrix[0,0] + matrix[0,1]*1.0)\n",
    "fpr = matrix[1,0] / (matrix[1,0] + matrix[1,1]*1.0)\n",
    "pt = (fpr, tpr)\n",
    "pt"
   ]
  },
  {
   "cell_type": "code",
   "execution_count": 104,
   "id": "dbfb97fc",
   "metadata": {},
   "outputs": [
    {
     "data": {
      "image/png": "[encoded data removed]",
      "text/plain": [
       "<Figure size 288x216 with 1 Axes>"
      ]
     },
     "metadata": {},
     "output_type": "display_data"
    }
   ],
   "source": [
    "import seaborn as sns\n",
    "sns.set_style(\"whitegrid\")\n",
    "sns.color_palette(\"flare\", as_cmap=True)\n",
    "\n",
    "plt.figure(figsize=(4, 3))\n",
    "plt.plot([0, 1], [0, 1], 'k--', color='gray', zorder = -10)\n",
    "plt.scatter([fpr], [tpr], marker='o', color='sienna', zorder = 10, s = 60)\n",
    "plt.plot(fpr_keras, tpr_keras, color='orange', label = f\"AUC={auc_keras:.2f}\")\n",
    "plt.xlabel('False Positive Rate')\n",
    "plt.ylabel('True Positive Rate')\n",
    "plt.title('ROC-AUC Curve NN', fontsize=14)\n",
    "plt.legend(loc='best')\n",
    "plt.tight_layout()\n",
    "plt.savefig(\"roc-curve-nn.png\", dpi=500)\n",
    "plt.show()"
   ]
  },
  {
   "cell_type": "code",
   "execution_count": null,
   "id": "99dbc9ef",
   "metadata": {},
   "outputs": [],
   "source": []
  }
 ],
 "metadata": {
  "kernelspec": {
   "display_name": "Python 3",
   "language": "python",
   "name": "python3"
  },
  "language_info": {
   "codemirror_mode": {
    "name": "ipython",
    "version": 3
   },
   "file_extension": ".py",
   "mimetype": "text/x-python",
   "name": "python",
   "nbconvert_exporter": "python",
   "pygments_lexer": "ipython3",
   "version": "3.8.8"
  }
 },
 "nbformat": 4,
 "nbformat_minor": 5
}
