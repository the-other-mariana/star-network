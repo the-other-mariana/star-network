{
 "cells": [
  {
   "cell_type": "markdown",
   "id": "0e20eb7c",
   "metadata": {},
   "source": [
    "## Data balancing"
   ]
  },
  {
   "cell_type": "markdown",
   "id": "62582033",
   "metadata": {},
   "source": [
    "Types of sampling used:\n",
    "\n",
    "- Stratified sampling: we will divide the rows by class column: 1 OK 0 ERR\n",
    "\n",
    "- For each strata (group): systematic sampling will be used, where we will choose a row every 5 rows until we have 50% ERR and 50% OK."
   ]
  },
  {
   "cell_type": "code",
   "execution_count": 1,
   "id": "a786e949",
   "metadata": {},
   "outputs": [
    {
     "name": "stderr",
     "output_type": "stream",
     "text": [
      "2022-11-29 12:03:38.077472: I tensorflow/core/platform/cpu_feature_guard.cc:193] This TensorFlow binary is optimized with oneAPI Deep Neural Network Library (oneDNN) to use the following CPU instructions in performance-critical operations:  AVX2 FMA\n",
      "To enable them in other operations, rebuild TensorFlow with the appropriate compiler flags.\n",
      "2022-11-29 12:03:54.443865: W tensorflow/compiler/xla/stream_executor/platform/default/dso_loader.cc:64] Could not load dynamic library 'libnvinfer.so.7'; dlerror: libnvinfer.so.7: cannot open shared object file: No such file or directory\n",
      "2022-11-29 12:03:54.444350: W tensorflow/compiler/xla/stream_executor/platform/default/dso_loader.cc:64] Could not load dynamic library 'libnvinfer_plugin.so.7'; dlerror: libnvinfer_plugin.so.7: cannot open shared object file: No such file or directory\n",
      "2022-11-29 12:03:54.444385: W tensorflow/compiler/tf2tensorrt/utils/py_utils.cc:38] TF-TRT Warning: Cannot dlopen some TensorRT libraries. If you would like to use Nvidia GPU with TensorRT, please make sure the missing libraries mentioned above are installed properly.\n"
     ]
    }
   ],
   "source": [
    "import numpy as np\n",
    "import pandas as pd\n",
    "import matplotlib.pyplot as plt\n",
    "from keras.models import Sequential\n",
    "from keras.layers import Dense # dense is all neurons connected to all next layer neurons\n",
    "from keras.layers import Dropout\n",
    "from keras.wrappers.scikit_learn import KerasClassifier\n",
    "from keras.constraints import maxnorm\n",
    "from sklearn.model_selection import cross_val_score\n",
    "from sklearn.preprocessing import LabelEncoder\n",
    "from sklearn.model_selection import StratifiedKFold\n",
    "from sklearn.preprocessing import StandardScaler\n",
    "from sklearn.pipeline import Pipeline"
   ]
  },
  {
   "cell_type": "code",
   "execution_count": 2,
   "id": "169586a3",
   "metadata": {},
   "outputs": [
    {
     "data": {
      "text/plain": [
       "(33543, 35)"
      ]
     },
     "execution_count": 2,
     "metadata": {},
     "output_type": "execute_result"
    }
   ],
   "source": [
    "db = pd.read_csv('db.csv', low_memory=False)\n",
    "db.shape"
   ]
  },
  {
   "cell_type": "code",
   "execution_count": 3,
   "id": "8196625b",
   "metadata": {},
   "outputs": [
    {
     "data": {
      "text/plain": [
       "Index(['Unnamed: 0', 'FCS', 'CORR', 'BUFF_OVERFLOW', 'GENERIC', 'PCKT_NUM',\n",
       "       'TIME(MS)', 'LENGTH', 'PAYLOAD', 'RSSI', 'CRC_OK', 'FRAME_TYPE',\n",
       "       'SECURITY_ENABLED', 'FRAME_PENDING', 'ACKNOWLEDGE_REQ',\n",
       "       'PAN_COMPRESSION', 'DEST_PAN', 'DEST_ADD', 'SRC_PAN', 'SRC_ADD', 'DATA',\n",
       "       'CMD', 'ACK', '1_OCT_HEADER', 'CSL_WAKEUP', 'CSL_SECURE_ACK',\n",
       "       'RFID_BLINK', 'BCN', 'TEST_TYPE', 'CONTROL', 'DOUBLENETWORK', 'ELECTRO',\n",
       "       'NORMAL', 'VIENTO', 'WIRELESS'],\n",
       "      dtype='object')"
      ]
     },
     "execution_count": 3,
     "metadata": {},
     "output_type": "execute_result"
    }
   ],
   "source": [
    "db.columns"
   ]
  },
  {
   "cell_type": "code",
   "execution_count": 4,
   "id": "c3636dbf",
   "metadata": {},
   "outputs": [
    {
     "data": {
      "text/html": [
       "<div>\n",
       "<style scoped>\n",
       "    .dataframe tbody tr th:only-of-type {\n",
       "        vertical-align: middle;\n",
       "    }\n",
       "\n",
       "    .dataframe tbody tr th {\n",
       "        vertical-align: top;\n",
       "    }\n",
       "\n",
       "    .dataframe thead th {\n",
       "        text-align: right;\n",
       "    }\n",
       "</style>\n",
       "<table border=\"1\" class=\"dataframe\">\n",
       "  <thead>\n",
       "    <tr style=\"text-align: right;\">\n",
       "      <th></th>\n",
       "      <th>FCS</th>\n",
       "      <th>CORR</th>\n",
       "      <th>BUFF_OVERFLOW</th>\n",
       "      <th>GENERIC</th>\n",
       "      <th>PCKT_NUM</th>\n",
       "      <th>TIME(MS)</th>\n",
       "      <th>LENGTH</th>\n",
       "      <th>PAYLOAD</th>\n",
       "      <th>RSSI</th>\n",
       "      <th>CRC_OK</th>\n",
       "      <th>...</th>\n",
       "      <th>CSL_SECURE_ACK</th>\n",
       "      <th>RFID_BLINK</th>\n",
       "      <th>BCN</th>\n",
       "      <th>TEST_TYPE</th>\n",
       "      <th>CONTROL</th>\n",
       "      <th>DOUBLENETWORK</th>\n",
       "      <th>ELECTRO</th>\n",
       "      <th>NORMAL</th>\n",
       "      <th>VIENTO</th>\n",
       "      <th>WIRELESS</th>\n",
       "    </tr>\n",
       "  </thead>\n",
       "  <tbody>\n",
       "    <tr>\n",
       "      <th>0</th>\n",
       "      <td>1</td>\n",
       "      <td>1</td>\n",
       "      <td>0</td>\n",
       "      <td>0</td>\n",
       "      <td>1</td>\n",
       "      <td>0.000000</td>\n",
       "      <td>11</td>\n",
       "      <td>NaN</td>\n",
       "      <td>-98.0</td>\n",
       "      <td>1.0</td>\n",
       "      <td>...</td>\n",
       "      <td>0</td>\n",
       "      <td>0</td>\n",
       "      <td>0</td>\n",
       "      <td>control</td>\n",
       "      <td>1</td>\n",
       "      <td>0</td>\n",
       "      <td>0</td>\n",
       "      <td>0</td>\n",
       "      <td>0</td>\n",
       "      <td>0</td>\n",
       "    </tr>\n",
       "    <tr>\n",
       "      <th>1</th>\n",
       "      <td>1</td>\n",
       "      <td>1</td>\n",
       "      <td>0</td>\n",
       "      <td>0</td>\n",
       "      <td>2</td>\n",
       "      <td>16751.182375</td>\n",
       "      <td>11</td>\n",
       "      <td>NaN</td>\n",
       "      <td>-99.0</td>\n",
       "      <td>1.0</td>\n",
       "      <td>...</td>\n",
       "      <td>0</td>\n",
       "      <td>0</td>\n",
       "      <td>0</td>\n",
       "      <td>control</td>\n",
       "      <td>1</td>\n",
       "      <td>0</td>\n",
       "      <td>0</td>\n",
       "      <td>0</td>\n",
       "      <td>0</td>\n",
       "      <td>0</td>\n",
       "    </tr>\n",
       "    <tr>\n",
       "      <th>2</th>\n",
       "      <td>1</td>\n",
       "      <td>1</td>\n",
       "      <td>0</td>\n",
       "      <td>0</td>\n",
       "      <td>3</td>\n",
       "      <td>1.070000</td>\n",
       "      <td>14</td>\n",
       "      <td>NaN</td>\n",
       "      <td>-90.0</td>\n",
       "      <td>1.0</td>\n",
       "      <td>...</td>\n",
       "      <td>0</td>\n",
       "      <td>0</td>\n",
       "      <td>1</td>\n",
       "      <td>control</td>\n",
       "      <td>1</td>\n",
       "      <td>0</td>\n",
       "      <td>0</td>\n",
       "      <td>0</td>\n",
       "      <td>0</td>\n",
       "      <td>0</td>\n",
       "    </tr>\n",
       "    <tr>\n",
       "      <th>3</th>\n",
       "      <td>1</td>\n",
       "      <td>1</td>\n",
       "      <td>0</td>\n",
       "      <td>0</td>\n",
       "      <td>4</td>\n",
       "      <td>652.697750</td>\n",
       "      <td>11</td>\n",
       "      <td>NaN</td>\n",
       "      <td>-91.0</td>\n",
       "      <td>1.0</td>\n",
       "      <td>...</td>\n",
       "      <td>0</td>\n",
       "      <td>0</td>\n",
       "      <td>0</td>\n",
       "      <td>control</td>\n",
       "      <td>1</td>\n",
       "      <td>0</td>\n",
       "      <td>0</td>\n",
       "      <td>0</td>\n",
       "      <td>0</td>\n",
       "      <td>0</td>\n",
       "    </tr>\n",
       "    <tr>\n",
       "      <th>4</th>\n",
       "      <td>1</td>\n",
       "      <td>1</td>\n",
       "      <td>0</td>\n",
       "      <td>0</td>\n",
       "      <td>5</td>\n",
       "      <td>2.006625</td>\n",
       "      <td>14</td>\n",
       "      <td>NaN</td>\n",
       "      <td>-90.0</td>\n",
       "      <td>1.0</td>\n",
       "      <td>...</td>\n",
       "      <td>0</td>\n",
       "      <td>0</td>\n",
       "      <td>1</td>\n",
       "      <td>control</td>\n",
       "      <td>1</td>\n",
       "      <td>0</td>\n",
       "      <td>0</td>\n",
       "      <td>0</td>\n",
       "      <td>0</td>\n",
       "      <td>0</td>\n",
       "    </tr>\n",
       "  </tbody>\n",
       "</table>\n",
       "<p>5 rows × 34 columns</p>\n",
       "</div>"
      ],
      "text/plain": [
       "   FCS  CORR  BUFF_OVERFLOW  GENERIC  PCKT_NUM      TIME(MS)  LENGTH  PAYLOAD  \\\n",
       "0    1     1              0        0         1      0.000000      11      NaN   \n",
       "1    1     1              0        0         2  16751.182375      11      NaN   \n",
       "2    1     1              0        0         3      1.070000      14      NaN   \n",
       "3    1     1              0        0         4    652.697750      11      NaN   \n",
       "4    1     1              0        0         5      2.006625      14      NaN   \n",
       "\n",
       "   RSSI  CRC_OK  ... CSL_SECURE_ACK  RFID_BLINK  BCN  TEST_TYPE  CONTROL  \\\n",
       "0 -98.0     1.0  ...              0           0    0    control        1   \n",
       "1 -99.0     1.0  ...              0           0    0    control        1   \n",
       "2 -90.0     1.0  ...              0           0    1    control        1   \n",
       "3 -91.0     1.0  ...              0           0    0    control        1   \n",
       "4 -90.0     1.0  ...              0           0    1    control        1   \n",
       "\n",
       "  DOUBLENETWORK ELECTRO NORMAL VIENTO  WIRELESS  \n",
       "0             0       0      0      0         0  \n",
       "1             0       0      0      0         0  \n",
       "2             0       0      0      0         0  \n",
       "3             0       0      0      0         0  \n",
       "4             0       0      0      0         0  \n",
       "\n",
       "[5 rows x 34 columns]"
      ]
     },
     "execution_count": 4,
     "metadata": {},
     "output_type": "execute_result"
    }
   ],
   "source": [
    "db = db.drop(['Unnamed: 0'], axis = 1)\n",
    "db.head()"
   ]
  },
  {
   "cell_type": "code",
   "execution_count": 5,
   "id": "dd0d3010",
   "metadata": {},
   "outputs": [
    {
     "data": {
      "text/plain": [
       "0        1.0\n",
       "1        1.0\n",
       "2        1.0\n",
       "3        1.0\n",
       "4        1.0\n",
       "        ... \n",
       "33538    1.0\n",
       "33539    0.0\n",
       "33540    0.0\n",
       "33541    1.0\n",
       "33542    1.0\n",
       "Name: CRC_OK, Length: 33543, dtype: float64"
      ]
     },
     "execution_count": 5,
     "metadata": {},
     "output_type": "execute_result"
    }
   ],
   "source": [
    "ignore = ['PAYLOAD', 'CRC_OK', 'FRAME_TYPE', 'DEST_PAN', 'DEST_ADD', 'SRC_PAN', 'SRC_ADD', 'TEST_TYPE', 'BUFF_OVERFLOW',\n",
    "          'FCS', 'GENERIC']\n",
    "y = db['CRC_OK']\n",
    "y"
   ]
  },
  {
   "cell_type": "code",
   "execution_count": 6,
   "id": "9e572df5",
   "metadata": {},
   "outputs": [
    {
     "data": {
      "text/html": [
       "<div>\n",
       "<style scoped>\n",
       "    .dataframe tbody tr th:only-of-type {\n",
       "        vertical-align: middle;\n",
       "    }\n",
       "\n",
       "    .dataframe tbody tr th {\n",
       "        vertical-align: top;\n",
       "    }\n",
       "\n",
       "    .dataframe thead th {\n",
       "        text-align: right;\n",
       "    }\n",
       "</style>\n",
       "<table border=\"1\" class=\"dataframe\">\n",
       "  <thead>\n",
       "    <tr style=\"text-align: right;\">\n",
       "      <th></th>\n",
       "      <th>CORR</th>\n",
       "      <th>PCKT_NUM</th>\n",
       "      <th>TIME(MS)</th>\n",
       "      <th>LENGTH</th>\n",
       "      <th>RSSI</th>\n",
       "      <th>SECURITY_ENABLED</th>\n",
       "      <th>FRAME_PENDING</th>\n",
       "      <th>ACKNOWLEDGE_REQ</th>\n",
       "      <th>PAN_COMPRESSION</th>\n",
       "      <th>DATA</th>\n",
       "      <th>...</th>\n",
       "      <th>CSL_SECURE_ACK</th>\n",
       "      <th>RFID_BLINK</th>\n",
       "      <th>BCN</th>\n",
       "      <th>CONTROL</th>\n",
       "      <th>DOUBLENETWORK</th>\n",
       "      <th>ELECTRO</th>\n",
       "      <th>NORMAL</th>\n",
       "      <th>VIENTO</th>\n",
       "      <th>WIRELESS</th>\n",
       "      <th>OK</th>\n",
       "    </tr>\n",
       "  </thead>\n",
       "  <tbody>\n",
       "    <tr>\n",
       "      <th>0</th>\n",
       "      <td>1</td>\n",
       "      <td>1</td>\n",
       "      <td>0.000000</td>\n",
       "      <td>11</td>\n",
       "      <td>-98.0</td>\n",
       "      <td>0.0</td>\n",
       "      <td>0.0</td>\n",
       "      <td>0.0</td>\n",
       "      <td>0.0</td>\n",
       "      <td>0</td>\n",
       "      <td>...</td>\n",
       "      <td>0</td>\n",
       "      <td>0</td>\n",
       "      <td>0</td>\n",
       "      <td>1</td>\n",
       "      <td>0</td>\n",
       "      <td>0</td>\n",
       "      <td>0</td>\n",
       "      <td>0</td>\n",
       "      <td>0</td>\n",
       "      <td>1.0</td>\n",
       "    </tr>\n",
       "    <tr>\n",
       "      <th>1</th>\n",
       "      <td>1</td>\n",
       "      <td>2</td>\n",
       "      <td>16751.182375</td>\n",
       "      <td>11</td>\n",
       "      <td>-99.0</td>\n",
       "      <td>0.0</td>\n",
       "      <td>0.0</td>\n",
       "      <td>0.0</td>\n",
       "      <td>0.0</td>\n",
       "      <td>0</td>\n",
       "      <td>...</td>\n",
       "      <td>0</td>\n",
       "      <td>0</td>\n",
       "      <td>0</td>\n",
       "      <td>1</td>\n",
       "      <td>0</td>\n",
       "      <td>0</td>\n",
       "      <td>0</td>\n",
       "      <td>0</td>\n",
       "      <td>0</td>\n",
       "      <td>1.0</td>\n",
       "    </tr>\n",
       "    <tr>\n",
       "      <th>2</th>\n",
       "      <td>1</td>\n",
       "      <td>3</td>\n",
       "      <td>1.070000</td>\n",
       "      <td>14</td>\n",
       "      <td>-90.0</td>\n",
       "      <td>0.0</td>\n",
       "      <td>0.0</td>\n",
       "      <td>0.0</td>\n",
       "      <td>0.0</td>\n",
       "      <td>0</td>\n",
       "      <td>...</td>\n",
       "      <td>0</td>\n",
       "      <td>0</td>\n",
       "      <td>1</td>\n",
       "      <td>1</td>\n",
       "      <td>0</td>\n",
       "      <td>0</td>\n",
       "      <td>0</td>\n",
       "      <td>0</td>\n",
       "      <td>0</td>\n",
       "      <td>1.0</td>\n",
       "    </tr>\n",
       "    <tr>\n",
       "      <th>3</th>\n",
       "      <td>1</td>\n",
       "      <td>4</td>\n",
       "      <td>652.697750</td>\n",
       "      <td>11</td>\n",
       "      <td>-91.0</td>\n",
       "      <td>0.0</td>\n",
       "      <td>0.0</td>\n",
       "      <td>0.0</td>\n",
       "      <td>0.0</td>\n",
       "      <td>0</td>\n",
       "      <td>...</td>\n",
       "      <td>0</td>\n",
       "      <td>0</td>\n",
       "      <td>0</td>\n",
       "      <td>1</td>\n",
       "      <td>0</td>\n",
       "      <td>0</td>\n",
       "      <td>0</td>\n",
       "      <td>0</td>\n",
       "      <td>0</td>\n",
       "      <td>1.0</td>\n",
       "    </tr>\n",
       "    <tr>\n",
       "      <th>4</th>\n",
       "      <td>1</td>\n",
       "      <td>5</td>\n",
       "      <td>2.006625</td>\n",
       "      <td>14</td>\n",
       "      <td>-90.0</td>\n",
       "      <td>0.0</td>\n",
       "      <td>0.0</td>\n",
       "      <td>0.0</td>\n",
       "      <td>0.0</td>\n",
       "      <td>0</td>\n",
       "      <td>...</td>\n",
       "      <td>0</td>\n",
       "      <td>0</td>\n",
       "      <td>1</td>\n",
       "      <td>1</td>\n",
       "      <td>0</td>\n",
       "      <td>0</td>\n",
       "      <td>0</td>\n",
       "      <td>0</td>\n",
       "      <td>0</td>\n",
       "      <td>1.0</td>\n",
       "    </tr>\n",
       "  </tbody>\n",
       "</table>\n",
       "<p>5 rows × 24 columns</p>\n",
       "</div>"
      ],
      "text/plain": [
       "   CORR  PCKT_NUM      TIME(MS)  LENGTH  RSSI  SECURITY_ENABLED  \\\n",
       "0     1         1      0.000000      11 -98.0               0.0   \n",
       "1     1         2  16751.182375      11 -99.0               0.0   \n",
       "2     1         3      1.070000      14 -90.0               0.0   \n",
       "3     1         4    652.697750      11 -91.0               0.0   \n",
       "4     1         5      2.006625      14 -90.0               0.0   \n",
       "\n",
       "   FRAME_PENDING  ACKNOWLEDGE_REQ  PAN_COMPRESSION  DATA  ...  CSL_SECURE_ACK  \\\n",
       "0            0.0              0.0              0.0     0  ...               0   \n",
       "1            0.0              0.0              0.0     0  ...               0   \n",
       "2            0.0              0.0              0.0     0  ...               0   \n",
       "3            0.0              0.0              0.0     0  ...               0   \n",
       "4            0.0              0.0              0.0     0  ...               0   \n",
       "\n",
       "   RFID_BLINK  BCN  CONTROL  DOUBLENETWORK  ELECTRO  NORMAL  VIENTO  WIRELESS  \\\n",
       "0           0    0        1              0        0       0       0         0   \n",
       "1           0    0        1              0        0       0       0         0   \n",
       "2           0    1        1              0        0       0       0         0   \n",
       "3           0    0        1              0        0       0       0         0   \n",
       "4           0    1        1              0        0       0       0         0   \n",
       "\n",
       "    OK  \n",
       "0  1.0  \n",
       "1  1.0  \n",
       "2  1.0  \n",
       "3  1.0  \n",
       "4  1.0  \n",
       "\n",
       "[5 rows x 24 columns]"
      ]
     },
     "execution_count": 6,
     "metadata": {},
     "output_type": "execute_result"
    }
   ],
   "source": [
    "numdb = db.drop(ignore, axis = 1)\n",
    "d = pd.DataFrame({'OK':y.values})\n",
    "numdb = pd.concat([numdb, d], axis=1)\n",
    "numdb.head()"
   ]
  },
  {
   "cell_type": "code",
   "execution_count": 7,
   "id": "4620aed0",
   "metadata": {},
   "outputs": [],
   "source": [
    "mean_rssi = int(numdb['RSSI'].mean())\n",
    "numdb['RSSI'] = numdb['RSSI'].fillna(mean_rssi)"
   ]
  },
  {
   "cell_type": "code",
   "execution_count": 8,
   "id": "5d3c771d",
   "metadata": {},
   "outputs": [],
   "source": [
    "numdb['SECURITY_ENABLED'] = numdb['SECURITY_ENABLED'].fillna(0)\n",
    "numdb['FRAME_PENDING'] = numdb['FRAME_PENDING'].fillna(0)\n",
    "numdb['ACKNOWLEDGE_REQ'] = numdb['ACKNOWLEDGE_REQ'].fillna(0)\n",
    "numdb['PAN_COMPRESSION'] = numdb['PAN_COMPRESSION'].fillna(0)\n",
    "numdb['OK'] = numdb['OK'].fillna(0)"
   ]
  },
  {
   "cell_type": "code",
   "execution_count": 9,
   "id": "01a2e477",
   "metadata": {},
   "outputs": [
    {
     "data": {
      "text/html": [
       "<div>\n",
       "<style scoped>\n",
       "    .dataframe tbody tr th:only-of-type {\n",
       "        vertical-align: middle;\n",
       "    }\n",
       "\n",
       "    .dataframe tbody tr th {\n",
       "        vertical-align: top;\n",
       "    }\n",
       "\n",
       "    .dataframe thead th {\n",
       "        text-align: right;\n",
       "    }\n",
       "</style>\n",
       "<table border=\"1\" class=\"dataframe\">\n",
       "  <thead>\n",
       "    <tr style=\"text-align: right;\">\n",
       "      <th></th>\n",
       "      <th>CORR</th>\n",
       "      <th>PCKT_NUM</th>\n",
       "      <th>TIME(MS)</th>\n",
       "      <th>LENGTH</th>\n",
       "      <th>RSSI</th>\n",
       "      <th>SECURITY_ENABLED</th>\n",
       "      <th>FRAME_PENDING</th>\n",
       "      <th>ACKNOWLEDGE_REQ</th>\n",
       "      <th>PAN_COMPRESSION</th>\n",
       "      <th>DATA</th>\n",
       "      <th>...</th>\n",
       "      <th>CSL_SECURE_ACK</th>\n",
       "      <th>RFID_BLINK</th>\n",
       "      <th>BCN</th>\n",
       "      <th>CONTROL</th>\n",
       "      <th>DOUBLENETWORK</th>\n",
       "      <th>ELECTRO</th>\n",
       "      <th>NORMAL</th>\n",
       "      <th>VIENTO</th>\n",
       "      <th>WIRELESS</th>\n",
       "      <th>OK</th>\n",
       "    </tr>\n",
       "  </thead>\n",
       "  <tbody>\n",
       "  </tbody>\n",
       "</table>\n",
       "<p>0 rows × 24 columns</p>\n",
       "</div>"
      ],
      "text/plain": [
       "Empty DataFrame\n",
       "Columns: [CORR, PCKT_NUM, TIME(MS), LENGTH, RSSI, SECURITY_ENABLED, FRAME_PENDING, ACKNOWLEDGE_REQ, PAN_COMPRESSION, DATA, CMD, ACK, 1_OCT_HEADER, CSL_WAKEUP, CSL_SECURE_ACK, RFID_BLINK, BCN, CONTROL, DOUBLENETWORK, ELECTRO, NORMAL, VIENTO, WIRELESS, OK]\n",
       "Index: []\n",
       "\n",
       "[0 rows x 24 columns]"
      ]
     },
     "execution_count": 9,
     "metadata": {},
     "output_type": "execute_result"
    }
   ],
   "source": [
    "numdb[numdb.isna().any(axis=1)]"
   ]
  },
  {
   "cell_type": "code",
   "execution_count": 10,
   "id": "07b8f34f",
   "metadata": {},
   "outputs": [
    {
     "data": {
      "text/plain": [
       "0        1.0\n",
       "1        1.0\n",
       "2        1.0\n",
       "3        1.0\n",
       "4        1.0\n",
       "        ... \n",
       "33538    1.0\n",
       "33539    0.0\n",
       "33540    0.0\n",
       "33541    1.0\n",
       "33542    1.0\n",
       "Name: OK, Length: 33543, dtype: float64"
      ]
     },
     "execution_count": 10,
     "metadata": {},
     "output_type": "execute_result"
    }
   ],
   "source": [
    "xdb = numdb.drop(['OK'], axis = 1)\n",
    "y = numdb['OK']\n",
    "y"
   ]
  },
  {
   "cell_type": "code",
   "execution_count": 11,
   "id": "8441a917",
   "metadata": {},
   "outputs": [
    {
     "data": {
      "text/plain": [
       "23"
      ]
     },
     "execution_count": 11,
     "metadata": {},
     "output_type": "execute_result"
    }
   ],
   "source": [
    "X = xdb.to_numpy()\n",
    "len(X[0]) # n features"
   ]
  },
  {
   "cell_type": "code",
   "execution_count": 12,
   "id": "4739ff1d",
   "metadata": {},
   "outputs": [
    {
     "name": "stdout",
     "output_type": "stream",
     "text": [
      "33543 23\n"
     ]
    }
   ],
   "source": [
    "n_samples, n_features = X.shape\n",
    "print(n_samples, n_features)"
   ]
  },
  {
   "cell_type": "code",
   "execution_count": 13,
   "id": "3648692d",
   "metadata": {},
   "outputs": [
    {
     "data": {
      "text/html": [
       "<div>\n",
       "<style scoped>\n",
       "    .dataframe tbody tr th:only-of-type {\n",
       "        vertical-align: middle;\n",
       "    }\n",
       "\n",
       "    .dataframe tbody tr th {\n",
       "        vertical-align: top;\n",
       "    }\n",
       "\n",
       "    .dataframe thead th {\n",
       "        text-align: right;\n",
       "    }\n",
       "</style>\n",
       "<table border=\"1\" class=\"dataframe\">\n",
       "  <thead>\n",
       "    <tr style=\"text-align: right;\">\n",
       "      <th></th>\n",
       "      <th>CORR</th>\n",
       "      <th>PCKT_NUM</th>\n",
       "      <th>TIME(MS)</th>\n",
       "      <th>LENGTH</th>\n",
       "      <th>RSSI</th>\n",
       "      <th>SECURITY_ENABLED</th>\n",
       "      <th>FRAME_PENDING</th>\n",
       "      <th>ACKNOWLEDGE_REQ</th>\n",
       "      <th>PAN_COMPRESSION</th>\n",
       "      <th>DATA</th>\n",
       "      <th>...</th>\n",
       "      <th>CSL_WAKEUP</th>\n",
       "      <th>CSL_SECURE_ACK</th>\n",
       "      <th>RFID_BLINK</th>\n",
       "      <th>BCN</th>\n",
       "      <th>CONTROL</th>\n",
       "      <th>DOUBLENETWORK</th>\n",
       "      <th>ELECTRO</th>\n",
       "      <th>NORMAL</th>\n",
       "      <th>VIENTO</th>\n",
       "      <th>WIRELESS</th>\n",
       "    </tr>\n",
       "  </thead>\n",
       "  <tbody>\n",
       "    <tr>\n",
       "      <th>0</th>\n",
       "      <td>1</td>\n",
       "      <td>1</td>\n",
       "      <td>0.000000</td>\n",
       "      <td>11</td>\n",
       "      <td>-98.0</td>\n",
       "      <td>0.0</td>\n",
       "      <td>0.0</td>\n",
       "      <td>0.0</td>\n",
       "      <td>0.0</td>\n",
       "      <td>0</td>\n",
       "      <td>...</td>\n",
       "      <td>0</td>\n",
       "      <td>0</td>\n",
       "      <td>0</td>\n",
       "      <td>0</td>\n",
       "      <td>1</td>\n",
       "      <td>0</td>\n",
       "      <td>0</td>\n",
       "      <td>0</td>\n",
       "      <td>0</td>\n",
       "      <td>0</td>\n",
       "    </tr>\n",
       "    <tr>\n",
       "      <th>1</th>\n",
       "      <td>1</td>\n",
       "      <td>2</td>\n",
       "      <td>16751.182375</td>\n",
       "      <td>11</td>\n",
       "      <td>-99.0</td>\n",
       "      <td>0.0</td>\n",
       "      <td>0.0</td>\n",
       "      <td>0.0</td>\n",
       "      <td>0.0</td>\n",
       "      <td>0</td>\n",
       "      <td>...</td>\n",
       "      <td>0</td>\n",
       "      <td>0</td>\n",
       "      <td>0</td>\n",
       "      <td>0</td>\n",
       "      <td>1</td>\n",
       "      <td>0</td>\n",
       "      <td>0</td>\n",
       "      <td>0</td>\n",
       "      <td>0</td>\n",
       "      <td>0</td>\n",
       "    </tr>\n",
       "    <tr>\n",
       "      <th>2</th>\n",
       "      <td>1</td>\n",
       "      <td>3</td>\n",
       "      <td>1.070000</td>\n",
       "      <td>14</td>\n",
       "      <td>-90.0</td>\n",
       "      <td>0.0</td>\n",
       "      <td>0.0</td>\n",
       "      <td>0.0</td>\n",
       "      <td>0.0</td>\n",
       "      <td>0</td>\n",
       "      <td>...</td>\n",
       "      <td>0</td>\n",
       "      <td>0</td>\n",
       "      <td>0</td>\n",
       "      <td>1</td>\n",
       "      <td>1</td>\n",
       "      <td>0</td>\n",
       "      <td>0</td>\n",
       "      <td>0</td>\n",
       "      <td>0</td>\n",
       "      <td>0</td>\n",
       "    </tr>\n",
       "    <tr>\n",
       "      <th>3</th>\n",
       "      <td>1</td>\n",
       "      <td>4</td>\n",
       "      <td>652.697750</td>\n",
       "      <td>11</td>\n",
       "      <td>-91.0</td>\n",
       "      <td>0.0</td>\n",
       "      <td>0.0</td>\n",
       "      <td>0.0</td>\n",
       "      <td>0.0</td>\n",
       "      <td>0</td>\n",
       "      <td>...</td>\n",
       "      <td>0</td>\n",
       "      <td>0</td>\n",
       "      <td>0</td>\n",
       "      <td>0</td>\n",
       "      <td>1</td>\n",
       "      <td>0</td>\n",
       "      <td>0</td>\n",
       "      <td>0</td>\n",
       "      <td>0</td>\n",
       "      <td>0</td>\n",
       "    </tr>\n",
       "    <tr>\n",
       "      <th>4</th>\n",
       "      <td>1</td>\n",
       "      <td>5</td>\n",
       "      <td>2.006625</td>\n",
       "      <td>14</td>\n",
       "      <td>-90.0</td>\n",
       "      <td>0.0</td>\n",
       "      <td>0.0</td>\n",
       "      <td>0.0</td>\n",
       "      <td>0.0</td>\n",
       "      <td>0</td>\n",
       "      <td>...</td>\n",
       "      <td>0</td>\n",
       "      <td>0</td>\n",
       "      <td>0</td>\n",
       "      <td>1</td>\n",
       "      <td>1</td>\n",
       "      <td>0</td>\n",
       "      <td>0</td>\n",
       "      <td>0</td>\n",
       "      <td>0</td>\n",
       "      <td>0</td>\n",
       "    </tr>\n",
       "  </tbody>\n",
       "</table>\n",
       "<p>5 rows × 23 columns</p>\n",
       "</div>"
      ],
      "text/plain": [
       "   CORR  PCKT_NUM      TIME(MS)  LENGTH  RSSI  SECURITY_ENABLED  \\\n",
       "0     1         1      0.000000      11 -98.0               0.0   \n",
       "1     1         2  16751.182375      11 -99.0               0.0   \n",
       "2     1         3      1.070000      14 -90.0               0.0   \n",
       "3     1         4    652.697750      11 -91.0               0.0   \n",
       "4     1         5      2.006625      14 -90.0               0.0   \n",
       "\n",
       "   FRAME_PENDING  ACKNOWLEDGE_REQ  PAN_COMPRESSION  DATA  ...  CSL_WAKEUP  \\\n",
       "0            0.0              0.0              0.0     0  ...           0   \n",
       "1            0.0              0.0              0.0     0  ...           0   \n",
       "2            0.0              0.0              0.0     0  ...           0   \n",
       "3            0.0              0.0              0.0     0  ...           0   \n",
       "4            0.0              0.0              0.0     0  ...           0   \n",
       "\n",
       "   CSL_SECURE_ACK  RFID_BLINK  BCN  CONTROL  DOUBLENETWORK  ELECTRO  NORMAL  \\\n",
       "0               0           0    0        1              0        0       0   \n",
       "1               0           0    0        1              0        0       0   \n",
       "2               0           0    1        1              0        0       0   \n",
       "3               0           0    0        1              0        0       0   \n",
       "4               0           0    1        1              0        0       0   \n",
       "\n",
       "   VIENTO  WIRELESS  \n",
       "0       0         0  \n",
       "1       0         0  \n",
       "2       0         0  \n",
       "3       0         0  \n",
       "4       0         0  \n",
       "\n",
       "[5 rows x 23 columns]"
      ]
     },
     "execution_count": 13,
     "metadata": {},
     "output_type": "execute_result"
    }
   ],
   "source": [
    "xdb.head()"
   ]
  },
  {
   "cell_type": "code",
   "execution_count": 14,
   "id": "5a71c209",
   "metadata": {},
   "outputs": [
    {
     "data": {
      "text/plain": [
       "(658, 24)"
      ]
     },
     "execution_count": 14,
     "metadata": {},
     "output_type": "execute_result"
    }
   ],
   "source": [
    "err = numdb[numdb['OK'] != 1]\n",
    "err.shape"
   ]
  },
  {
   "cell_type": "code",
   "execution_count": 15,
   "id": "b1806f03",
   "metadata": {},
   "outputs": [
    {
     "data": {
      "text/plain": [
       "array([[  1.       ,  52.       , 185.927875 , ...,   0.       ,\n",
       "          0.       ,   0.       ],\n",
       "       [  1.       , 102.       ,   2.652625 , ...,   0.       ,\n",
       "          0.       ,   0.       ],\n",
       "       [  1.       , 152.       , 472.13975  , ...,   0.       ,\n",
       "          0.       ,   0.       ],\n",
       "       ...,\n",
       "       [  1.       , 412.       ,  53.268625 , ...,   0.       ,\n",
       "          0.       ,   0.       ],\n",
       "       [  1.       , 464.       ,   3.5838125, ...,   0.       ,\n",
       "          0.       ,   0.       ],\n",
       "       [  0.       ,   0.       ,   0.       , ...,   0.       ,\n",
       "          0.       ,   0.       ]])"
      ]
     },
     "execution_count": 15,
     "metadata": {},
     "output_type": "execute_result"
    }
   ],
   "source": [
    "import random\n",
    "num_err = err.shape[0]\n",
    "indices = list(err.index)\n",
    "ok = numdb[numdb['OK'] != 0]\n",
    "num_ok = ok.shape[0]\n",
    "rows = 0\n",
    "visited = []\n",
    "interval = 50\n",
    "r = 0\n",
    "x_bal_ok = np.zeros((err.shape[0], err.shape[1]-1), dtype=float)\n",
    "while(rows < (num_err-1)):\n",
    "    r += interval\n",
    "    r = r % (numdb.shape[0]-1)\n",
    "    if r not in visited and r not in indices and r < (len(ok)-1):\n",
    "        # without ok\n",
    "        row = ok.values[r, :-1]\n",
    "        x_bal_ok[rows, :] = row\n",
    "        visited.append(r)\n",
    "        rows += 1\n",
    "x_bal_ok"
   ]
  },
  {
   "cell_type": "code",
   "execution_count": 16,
   "id": "ee6d2b8b",
   "metadata": {},
   "outputs": [
    {
     "data": {
      "text/plain": [
       "(658, 23)"
      ]
     },
     "execution_count": 16,
     "metadata": {},
     "output_type": "execute_result"
    }
   ],
   "source": [
    "x_bal_ok.shape"
   ]
  },
  {
   "cell_type": "code",
   "execution_count": 49,
   "id": "7cbff8bf",
   "metadata": {},
   "outputs": [],
   "source": [
    "xfull = xdb.to_numpy()\n",
    "yfull = y.to_numpy()"
   ]
  },
  {
   "cell_type": "code",
   "execution_count": 17,
   "id": "345d11dc",
   "metadata": {},
   "outputs": [],
   "source": [
    "x_bal = np.zeros((err.shape[0]*2, err.shape[1]-1), dtype=float)\n",
    "y_bal = np.zeros(err.shape[0]*2, dtype=float)\n",
    "x_bal[0:err.shape[0],:] = err.values[:,:-1]\n",
    "y_bal[0:err.shape[0]] = 1.0\n",
    "x_bal[err.shape[0]:,:] = x_bal_ok\n",
    "y_bal[err.shape[0]:] = 0.0"
   ]
  },
  {
   "cell_type": "code",
   "execution_count": 79,
   "id": "f1d3e018",
   "metadata": {},
   "outputs": [],
   "source": [
    "def create_model():\n",
    "    model = Sequential()\n",
    "    model.add(Dense(n_features, input_dim=n_features, activation='relu'))\n",
    "    model.add(Dense(n_features / 2))\n",
    "    model.add(Dense(4))\n",
    "    model.add(Dense(1, activation='sigmoid'))\n",
    "    model.compile(loss='mse', metrics=['mse'])\n",
    "    model.summary()\n",
    "    return model\n"
   ]
  },
  {
   "cell_type": "code",
   "execution_count": 80,
   "id": "e6476a51",
   "metadata": {},
   "outputs": [],
   "source": [
    "from sklearn.model_selection import train_test_split\n",
    "X_train, X_test, y_train, y_test = train_test_split(x_bal, y_bal, test_size=0.20)"
   ]
  },
  {
   "cell_type": "code",
   "execution_count": 186,
   "id": "88f0645f",
   "metadata": {},
   "outputs": [
    {
     "name": "stdout",
     "output_type": "stream",
     "text": [
      "Model: \"sequential_12\"\n",
      "_________________________________________________________________\n",
      " Layer (type)                Output Shape              Param #   \n",
      "=================================================================\n",
      " dense_45 (Dense)            (None, 23)                552       \n",
      "                                                                 \n",
      " dense_46 (Dense)            (None, 11)                264       \n",
      "                                                                 \n",
      " dense_47 (Dense)            (None, 4)                 48        \n",
      "                                                                 \n",
      " dense_48 (Dense)            (None, 1)                 5         \n",
      "                                                                 \n",
      "=================================================================\n",
      "Total params: 869\n",
      "Trainable params: 869\n",
      "Non-trainable params: 0\n",
      "_________________________________________________________________\n",
      "Epoch 1/100\n",
      "211/211 [==============================] - 1s 1ms/step - loss: 0.4532 - mse: 0.4532\n",
      "Epoch 2/100\n",
      "211/211 [==============================] - 0s 1ms/step - loss: 0.3632 - mse: 0.3632\n",
      "Epoch 3/100\n",
      "211/211 [==============================] - 0s 1ms/step - loss: 0.3878 - mse: 0.3878\n",
      "Epoch 4/100\n",
      "211/211 [==============================] - 0s 1ms/step - loss: 0.3861 - mse: 0.3861\n",
      "Epoch 5/100\n",
      "211/211 [==============================] - 0s 1ms/step - loss: 0.3746 - mse: 0.3746\n",
      "Epoch 6/100\n",
      "211/211 [==============================] - 0s 1ms/step - loss: 0.3712 - mse: 0.3712\n",
      "Epoch 7/100\n",
      "211/211 [==============================] - 0s 1ms/step - loss: 0.3416 - mse: 0.3416\n",
      "Epoch 8/100\n",
      "211/211 [==============================] - 0s 1ms/step - loss: 0.3384 - mse: 0.3384\n",
      "Epoch 9/100\n",
      "211/211 [==============================] - 0s 1ms/step - loss: 0.3463 - mse: 0.3463\n",
      "Epoch 10/100\n",
      "211/211 [==============================] - 0s 1ms/step - loss: 0.3496 - mse: 0.3496\n",
      "Epoch 11/100\n",
      "211/211 [==============================] - 0s 1ms/step - loss: 0.3663 - mse: 0.3663\n",
      "Epoch 12/100\n",
      "211/211 [==============================] - 0s 1ms/step - loss: 0.4132 - mse: 0.4132\n",
      "Epoch 13/100\n",
      "211/211 [==============================] - 0s 1ms/step - loss: 0.3395 - mse: 0.3395\n",
      "Epoch 14/100\n",
      "211/211 [==============================] - 0s 1ms/step - loss: 0.3566 - mse: 0.3566\n",
      "Epoch 15/100\n",
      "211/211 [==============================] - 0s 1ms/step - loss: 0.3771 - mse: 0.3771\n",
      "Epoch 16/100\n",
      "211/211 [==============================] - 0s 1ms/step - loss: 0.3459 - mse: 0.3459\n",
      "Epoch 17/100\n",
      "211/211 [==============================] - 0s 1ms/step - loss: 0.3478 - mse: 0.3478\n",
      "Epoch 18/100\n",
      "211/211 [==============================] - 0s 1ms/step - loss: 0.3401 - mse: 0.3401\n",
      "Epoch 19/100\n",
      "211/211 [==============================] - 0s 1ms/step - loss: 0.3424 - mse: 0.3424\n",
      "Epoch 20/100\n",
      "211/211 [==============================] - 0s 1ms/step - loss: 0.3949 - mse: 0.3949\n",
      "Epoch 21/100\n",
      "211/211 [==============================] - 0s 1ms/step - loss: 0.3542 - mse: 0.3542\n",
      "Epoch 22/100\n",
      "211/211 [==============================] - 0s 1ms/step - loss: 0.3413 - mse: 0.3413\n",
      "Epoch 23/100\n",
      "211/211 [==============================] - 0s 1ms/step - loss: 0.3327 - mse: 0.3327\n",
      "Epoch 24/100\n",
      "211/211 [==============================] - 0s 1ms/step - loss: 0.3269 - mse: 0.3269\n",
      "Epoch 25/100\n",
      "211/211 [==============================] - 0s 1ms/step - loss: 0.3521 - mse: 0.3521\n",
      "Epoch 26/100\n",
      "211/211 [==============================] - 0s 1ms/step - loss: 0.3771 - mse: 0.3771\n",
      "Epoch 27/100\n",
      "211/211 [==============================] - 0s 1ms/step - loss: 0.3542 - mse: 0.3542\n",
      "Epoch 28/100\n",
      "211/211 [==============================] - 0s 1ms/step - loss: 0.3996 - mse: 0.3996\n",
      "Epoch 29/100\n",
      "211/211 [==============================] - 0s 1ms/step - loss: 0.3594 - mse: 0.3594\n",
      "Epoch 30/100\n",
      "211/211 [==============================] - 0s 1ms/step - loss: 0.3495 - mse: 0.3495\n",
      "Epoch 31/100\n",
      "211/211 [==============================] - 0s 1ms/step - loss: 0.3770 - mse: 0.3770\n",
      "Epoch 32/100\n",
      "211/211 [==============================] - 0s 1ms/step - loss: 0.3836 - mse: 0.3836\n",
      "Epoch 33/100\n",
      "211/211 [==============================] - 0s 1ms/step - loss: 0.3781 - mse: 0.3781\n",
      "Epoch 34/100\n",
      "211/211 [==============================] - 0s 1ms/step - loss: 0.3546 - mse: 0.3546\n",
      "Epoch 35/100\n",
      "211/211 [==============================] - 0s 1ms/step - loss: 0.3403 - mse: 0.3403\n",
      "Epoch 36/100\n",
      "211/211 [==============================] - 0s 1ms/step - loss: 0.3832 - mse: 0.3832\n",
      "Epoch 37/100\n",
      "211/211 [==============================] - 0s 1ms/step - loss: 0.3786 - mse: 0.3786\n",
      "Epoch 38/100\n",
      "211/211 [==============================] - 0s 1ms/step - loss: 0.3460 - mse: 0.3460\n",
      "Epoch 39/100\n",
      "211/211 [==============================] - 0s 1ms/step - loss: 0.3533 - mse: 0.3533\n",
      "Epoch 40/100\n",
      "211/211 [==============================] - 0s 1ms/step - loss: 0.3786 - mse: 0.3786\n",
      "Epoch 41/100\n",
      "211/211 [==============================] - 0s 1ms/step - loss: 0.3136 - mse: 0.3136\n",
      "Epoch 42/100\n",
      "211/211 [==============================] - 0s 1ms/step - loss: 0.3440 - mse: 0.3440\n",
      "Epoch 43/100\n",
      "211/211 [==============================] - 0s 1ms/step - loss: 0.3211 - mse: 0.3211\n",
      "Epoch 44/100\n",
      "211/211 [==============================] - 0s 1ms/step - loss: 0.3200 - mse: 0.3200\n",
      "Epoch 45/100\n",
      "211/211 [==============================] - 0s 1ms/step - loss: 0.3402 - mse: 0.3402\n",
      "Epoch 46/100\n",
      "211/211 [==============================] - 0s 1ms/step - loss: 0.3308 - mse: 0.3308\n",
      "Epoch 47/100\n",
      "211/211 [==============================] - 0s 1ms/step - loss: 0.3588 - mse: 0.3588\n",
      "Epoch 48/100\n",
      "211/211 [==============================] - 0s 1ms/step - loss: 0.3330 - mse: 0.3330\n",
      "Epoch 49/100\n",
      "211/211 [==============================] - 0s 1ms/step - loss: 0.3240 - mse: 0.3240\n",
      "Epoch 50/100\n",
      "211/211 [==============================] - 0s 1ms/step - loss: 0.3794 - mse: 0.3794\n",
      "Epoch 51/100\n",
      "211/211 [==============================] - 0s 1ms/step - loss: 0.3358 - mse: 0.3358\n",
      "Epoch 52/100\n",
      "211/211 [==============================] - 0s 1ms/step - loss: 0.3183 - mse: 0.3183\n",
      "Epoch 53/100\n",
      "211/211 [==============================] - 0s 1ms/step - loss: 0.3150 - mse: 0.3150\n",
      "Epoch 54/100\n",
      "211/211 [==============================] - 0s 1ms/step - loss: 0.3277 - mse: 0.3277\n",
      "Epoch 55/100\n",
      "211/211 [==============================] - 0s 1ms/step - loss: 0.3394 - mse: 0.3394\n",
      "Epoch 56/100\n",
      "211/211 [==============================] - 0s 1ms/step - loss: 0.3356 - mse: 0.3356\n",
      "Epoch 57/100\n",
      "211/211 [==============================] - 0s 1ms/step - loss: 0.3131 - mse: 0.3131\n",
      "Epoch 58/100\n",
      "211/211 [==============================] - 0s 1ms/step - loss: 0.3669 - mse: 0.3669\n",
      "Epoch 59/100\n",
      "211/211 [==============================] - 0s 1ms/step - loss: 0.3471 - mse: 0.3471\n",
      "Epoch 60/100\n",
      "211/211 [==============================] - 0s 1ms/step - loss: 0.3245 - mse: 0.3245\n",
      "Epoch 61/100\n",
      "211/211 [==============================] - 0s 1ms/step - loss: 0.3310 - mse: 0.3310\n",
      "Epoch 62/100\n",
      "211/211 [==============================] - 0s 1ms/step - loss: 0.3037 - mse: 0.3037\n",
      "Epoch 63/100\n",
      "211/211 [==============================] - 0s 1ms/step - loss: 0.3110 - mse: 0.3110\n",
      "Epoch 64/100\n",
      "211/211 [==============================] - 0s 1ms/step - loss: 0.3118 - mse: 0.3118\n",
      "Epoch 65/100\n",
      "211/211 [==============================] - 0s 1ms/step - loss: 0.3121 - mse: 0.3121\n",
      "Epoch 66/100\n",
      "211/211 [==============================] - 0s 1ms/step - loss: 0.3182 - mse: 0.3182\n",
      "Epoch 67/100\n",
      "211/211 [==============================] - 0s 1ms/step - loss: 0.3248 - mse: 0.3248\n",
      "Epoch 68/100\n",
      "211/211 [==============================] - 0s 1ms/step - loss: 0.3209 - mse: 0.3209\n",
      "Epoch 69/100\n",
      "211/211 [==============================] - 0s 1ms/step - loss: 0.3452 - mse: 0.3452\n",
      "Epoch 70/100\n",
      "211/211 [==============================] - 0s 1ms/step - loss: 0.3550 - mse: 0.3550\n",
      "Epoch 71/100\n",
      "211/211 [==============================] - 0s 1ms/step - loss: 0.3635 - mse: 0.3635\n",
      "Epoch 72/100\n",
      "211/211 [==============================] - 0s 1ms/step - loss: 0.3021 - mse: 0.3021\n",
      "Epoch 73/100\n",
      "211/211 [==============================] - 0s 1ms/step - loss: 0.3184 - mse: 0.3184\n",
      "Epoch 74/100\n",
      "211/211 [==============================] - 0s 1ms/step - loss: 0.3352 - mse: 0.3352\n",
      "Epoch 75/100\n"
     ]
    },
    {
     "name": "stdout",
     "output_type": "stream",
     "text": [
      "211/211 [==============================] - 0s 1ms/step - loss: 0.3247 - mse: 0.3247\n",
      "Epoch 76/100\n",
      "211/211 [==============================] - 0s 1ms/step - loss: 0.3437 - mse: 0.3437\n",
      "Epoch 77/100\n",
      "211/211 [==============================] - 0s 1ms/step - loss: 0.3279 - mse: 0.3279\n",
      "Epoch 78/100\n",
      "211/211 [==============================] - 0s 1ms/step - loss: 0.3317 - mse: 0.3317\n",
      "Epoch 79/100\n",
      "211/211 [==============================] - 0s 1ms/step - loss: 0.3092 - mse: 0.3092\n",
      "Epoch 80/100\n",
      "211/211 [==============================] - 0s 1ms/step - loss: 0.3121 - mse: 0.3121\n",
      "Epoch 81/100\n",
      "211/211 [==============================] - 0s 1ms/step - loss: 0.3081 - mse: 0.3081\n",
      "Epoch 82/100\n",
      "211/211 [==============================] - 0s 1ms/step - loss: 0.3191 - mse: 0.3191\n",
      "Epoch 83/100\n",
      "211/211 [==============================] - 0s 1ms/step - loss: 0.3128 - mse: 0.3128\n",
      "Epoch 84/100\n",
      "211/211 [==============================] - 0s 1ms/step - loss: 0.3060 - mse: 0.3060\n",
      "Epoch 85/100\n",
      "211/211 [==============================] - 0s 1ms/step - loss: 0.3286 - mse: 0.3286\n",
      "Epoch 86/100\n",
      "211/211 [==============================] - 0s 1ms/step - loss: 0.3447 - mse: 0.3447\n",
      "Epoch 87/100\n",
      "211/211 [==============================] - 0s 1ms/step - loss: 0.3272 - mse: 0.3272\n",
      "Epoch 88/100\n",
      "211/211 [==============================] - 0s 1ms/step - loss: 0.3225 - mse: 0.3225\n",
      "Epoch 89/100\n",
      "211/211 [==============================] - 0s 1ms/step - loss: 0.3674 - mse: 0.3674\n",
      "Epoch 90/100\n",
      "211/211 [==============================] - 0s 1ms/step - loss: 0.3324 - mse: 0.3324\n",
      "Epoch 91/100\n",
      "211/211 [==============================] - 0s 1ms/step - loss: 0.3122 - mse: 0.3122\n",
      "Epoch 92/100\n",
      "211/211 [==============================] - 0s 1ms/step - loss: 0.3217 - mse: 0.3217\n",
      "Epoch 93/100\n",
      "211/211 [==============================] - 0s 1ms/step - loss: 0.3374 - mse: 0.3374\n",
      "Epoch 94/100\n",
      "211/211 [==============================] - 0s 1ms/step - loss: 0.3357 - mse: 0.3357\n",
      "Epoch 95/100\n",
      "211/211 [==============================] - 0s 1ms/step - loss: 0.3404 - mse: 0.3404\n",
      "Epoch 96/100\n",
      "211/211 [==============================] - 0s 1ms/step - loss: 0.3634 - mse: 0.3634\n",
      "Epoch 97/100\n",
      "211/211 [==============================] - 0s 1ms/step - loss: 0.3237 - mse: 0.3237\n",
      "Epoch 98/100\n",
      "211/211 [==============================] - 0s 1ms/step - loss: 0.3208 - mse: 0.3208\n",
      "Epoch 99/100\n",
      "211/211 [==============================] - 0s 1ms/step - loss: 0.3093 - mse: 0.3093\n",
      "Epoch 100/100\n",
      "211/211 [==============================] - 0s 1ms/step - loss: 0.3336 - mse: 0.3336\n"
     ]
    },
    {
     "data": {
      "text/plain": [
       "<keras.callbacks.History at 0x7f2539c4c280>"
      ]
     },
     "execution_count": 186,
     "metadata": {},
     "output_type": "execute_result"
    }
   ],
   "source": [
    "keras_model = create_model()\n",
    "keras_model.fit(X_train, y_train, epochs=100, batch_size=5, verbose=1)"
   ]
  },
  {
   "cell_type": "code",
   "execution_count": 187,
   "id": "cdd3980e",
   "metadata": {},
   "outputs": [
    {
     "name": "stdout",
     "output_type": "stream",
     "text": [
      "9/9 [==============================] - 0s 1ms/step\n"
     ]
    }
   ],
   "source": [
    "from sklearn.metrics import roc_curve\n",
    "from sklearn.metrics import auc\n",
    "\n",
    "y_pred_keras = keras_model.predict(X_test).ravel()\n",
    "fpr_keras, tpr_keras, thresholds_keras = roc_curve(y_test, y_pred_keras)\n",
    "auc_keras = auc(fpr_keras, tpr_keras)"
   ]
  },
  {
   "cell_type": "code",
   "execution_count": 188,
   "id": "3405dc30",
   "metadata": {},
   "outputs": [
    {
     "data": {
      "text/plain": [
       "0.7062474854876716"
      ]
     },
     "execution_count": 188,
     "metadata": {},
     "output_type": "execute_result"
    }
   ],
   "source": [
    "auc_keras"
   ]
  },
  {
   "cell_type": "code",
   "execution_count": 189,
   "id": "f77ec8e0",
   "metadata": {},
   "outputs": [
    {
     "data": {
      "text/plain": [
       "array([[ 68,  59],\n",
       "       [ 36, 101]])"
      ]
     },
     "execution_count": 189,
     "metadata": {},
     "output_type": "execute_result"
    }
   ],
   "source": [
    "from sklearn.metrics import confusion_matrix\n",
    "matrix = confusion_matrix(y_test.astype(int), y_pred_keras.astype(int), labels=[1,0])\n",
    "matrix"
   ]
  },
  {
   "cell_type": "code",
   "execution_count": 190,
   "id": "08edca27",
   "metadata": {},
   "outputs": [
    {
     "data": {
      "text/plain": [
       "(0.26277372262773724, 0.5354330708661418)"
      ]
     },
     "execution_count": 190,
     "metadata": {},
     "output_type": "execute_result"
    }
   ],
   "source": [
    "tpr = matrix[0,0] / (matrix[0,0] + matrix[0,1]*1.0)\n",
    "fpr = matrix[1,0] / (matrix[1,0] + matrix[1,1]*1.0)\n",
    "pt = (fpr, tpr)\n",
    "pt"
   ]
  },
  {
   "cell_type": "code",
   "execution_count": 191,
   "id": "d12f3ef0",
   "metadata": {},
   "outputs": [
    {
     "name": "stderr",
     "output_type": "stream",
     "text": [
      "/tmp/ipykernel_3156/3340891440.py:6: UserWarning: color is redundantly defined by the 'color' keyword argument and the fmt string \"k--\" (-> color='k'). The keyword argument will take precedence.\n",
      "  plt.plot([0, 1], [0, 1], 'k--', color='gray', zorder = -10)\n"
     ]
    },
    {
     "data": {
      "image/png": "[encoded data removed]",
      "text/plain": [
       "<Figure size 400x300 with 1 Axes>"
      ]
     },
     "metadata": {},
     "output_type": "display_data"
    }
   ],
   "source": [
    "import seaborn as sns\n",
    "sns.set_style(\"whitegrid\")\n",
    "sns.color_palette(\"flare\", as_cmap=True)\n",
    "\n",
    "plt.figure(figsize=(4, 3))\n",
    "plt.plot([0, 1], [0, 1], 'k--', color='gray', zorder = -10)\n",
    "plt.scatter([fpr], [tpr], marker='o', color='sienna', zorder = 10, s = 60)\n",
    "plt.plot(fpr_keras, tpr_keras, color='orange', label = f\"AUC={auc_keras:.2f}\")\n",
    "plt.xlabel('False Positive Rate')\n",
    "plt.ylabel('True Positive Rate')\n",
    "plt.title('ROC-AUC Curve NN', fontsize=14)\n",
    "plt.legend(loc='best')\n",
    "plt.tight_layout()\n",
    "#plt.savefig(\"roc-curve-nn-v2.png\", dpi=500)\n",
    "plt.show()"
   ]
  },
  {
   "cell_type": "markdown",
   "id": "f08e2399",
   "metadata": {},
   "source": [
    "### Use the complete db to test now"
   ]
  },
  {
   "cell_type": "code",
   "execution_count": 192,
   "id": "aed63125",
   "metadata": {},
   "outputs": [
    {
     "data": {
      "text/plain": [
       "array([[1.00000000e+00, 1.00000000e+00, 0.00000000e+00, ...,\n",
       "        0.00000000e+00, 0.00000000e+00, 0.00000000e+00],\n",
       "       [1.00000000e+00, 2.00000000e+00, 1.67511824e+04, ...,\n",
       "        0.00000000e+00, 0.00000000e+00, 0.00000000e+00],\n",
       "       [1.00000000e+00, 3.00000000e+00, 1.07000000e+00, ...,\n",
       "        0.00000000e+00, 0.00000000e+00, 0.00000000e+00],\n",
       "       ...,\n",
       "       [1.00000000e+00, 4.49300000e+03, 3.72922775e+03, ...,\n",
       "        0.00000000e+00, 0.00000000e+00, 1.00000000e+00],\n",
       "       [1.00000000e+00, 4.49400000e+03, 7.67750000e-01, ...,\n",
       "        0.00000000e+00, 0.00000000e+00, 1.00000000e+00],\n",
       "       [1.00000000e+00, 4.49500000e+03, 1.86761650e+03, ...,\n",
       "        0.00000000e+00, 0.00000000e+00, 1.00000000e+00]])"
      ]
     },
     "execution_count": 192,
     "metadata": {},
     "output_type": "execute_result"
    }
   ],
   "source": [
    "xdb.values"
   ]
  },
  {
   "cell_type": "code",
   "execution_count": 193,
   "id": "8f4e2270",
   "metadata": {},
   "outputs": [
    {
     "data": {
      "text/plain": [
       "(33543, 23)"
      ]
     },
     "execution_count": 193,
     "metadata": {},
     "output_type": "execute_result"
    }
   ],
   "source": [
    "xdb.shape"
   ]
  },
  {
   "cell_type": "code",
   "execution_count": 194,
   "id": "23c6e984",
   "metadata": {},
   "outputs": [],
   "source": [
    "xfull = xdb.to_numpy()"
   ]
  },
  {
   "cell_type": "code",
   "execution_count": 195,
   "id": "4b2b3f30",
   "metadata": {},
   "outputs": [],
   "source": [
    "yfull = y.to_numpy()"
   ]
  },
  {
   "cell_type": "code",
   "execution_count": 196,
   "id": "c5dd2819",
   "metadata": {},
   "outputs": [
    {
     "data": {
      "text/plain": [
       "(33543,)"
      ]
     },
     "execution_count": 196,
     "metadata": {},
     "output_type": "execute_result"
    }
   ],
   "source": [
    "yfull.shape"
   ]
  },
  {
   "cell_type": "code",
   "execution_count": 197,
   "id": "468a6796",
   "metadata": {},
   "outputs": [
    {
     "name": "stdout",
     "output_type": "stream",
     "text": [
      "1049/1049 [==============================] - 1s 893us/step\n"
     ]
    }
   ],
   "source": [
    "y_pred_keras = keras_model.predict(xfull).ravel()\n",
    "fpr_keras, tpr_keras, thresholds_keras = roc_curve(yfull, y_pred_keras)\n",
    "auc_keras = auc(fpr_keras, tpr_keras)"
   ]
  },
  {
   "cell_type": "code",
   "execution_count": 198,
   "id": "4a2cc3ea",
   "metadata": {},
   "outputs": [
    {
     "data": {
      "text/plain": [
       "0.3026451902711531"
      ]
     },
     "execution_count": 198,
     "metadata": {},
     "output_type": "execute_result"
    }
   ],
   "source": [
    "auc_keras"
   ]
  },
  {
   "cell_type": "code",
   "execution_count": 199,
   "id": "e5311b16",
   "metadata": {},
   "outputs": [],
   "source": [
    "from sklearn.metrics import confusion_matrix\n",
    "matrix = confusion_matrix(yfull.astype(int), y_pred_keras.astype(int), labels=[1,0])\n",
    "tpr = matrix[0,0] / (matrix[0,0] + matrix[0,1]*1.0)\n",
    "fpr = matrix[1,0] / (matrix[1,0] + matrix[1,1]*1.0)\n",
    "pt = (fpr, tpr)\n"
   ]
  },
  {
   "cell_type": "code",
   "execution_count": 200,
   "id": "14bdb2c3",
   "metadata": {},
   "outputs": [
    {
     "name": "stderr",
     "output_type": "stream",
     "text": [
      "/tmp/ipykernel_3156/3856943192.py:6: UserWarning: color is redundantly defined by the 'color' keyword argument and the fmt string \"k--\" (-> color='k'). The keyword argument will take precedence.\n",
      "  plt.plot([0, 1], [0, 1], 'k--', color='gray', zorder = -10)\n"
     ]
    },
    {
     "data": {
      "image/png": "[encoded data removed]",
      "text/plain": [
       "<Figure size 400x300 with 1 Axes>"
      ]
     },
     "metadata": {},
     "output_type": "display_data"
    }
   ],
   "source": [
    "import seaborn as sns\n",
    "sns.set_style(\"whitegrid\")\n",
    "sns.color_palette(\"flare\", as_cmap=True)\n",
    "\n",
    "plt.figure(figsize=(4, 3))\n",
    "plt.plot([0, 1], [0, 1], 'k--', color='gray', zorder = -10)\n",
    "plt.scatter([fpr], [tpr], marker='o', color='sienna', zorder = 10, s = 60)\n",
    "plt.plot(fpr_keras, tpr_keras, color='orange', label = f\"AUC={auc_keras:.2f}\")\n",
    "plt.xlabel('False Positive Rate')\n",
    "plt.ylabel('True Positive Rate')\n",
    "plt.title('ROC-AUC Curve NN', fontsize=14)\n",
    "plt.legend(loc='best')\n",
    "plt.tight_layout()\n",
    "plt.show()"
   ]
  },
  {
   "cell_type": "code",
   "execution_count": null,
   "id": "7f8a3a36",
   "metadata": {},
   "outputs": [],
   "source": []
  }
 ],
 "metadata": {
  "kernelspec": {
   "display_name": "Python 3 (ipykernel)",
   "language": "python",
   "name": "python3"
  },
  "language_info": {
   "codemirror_mode": {
    "name": "ipython",
    "version": 3
   },
   "file_extension": ".py",
   "mimetype": "text/x-python",
   "name": "python",
   "nbconvert_exporter": "python",
   "pygments_lexer": "ipython3",
   "version": "3.8.10"
  }
 },
 "nbformat": 4,
 "nbformat_minor": 5
}
